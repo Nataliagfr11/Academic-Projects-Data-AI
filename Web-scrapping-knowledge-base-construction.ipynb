{
 "cells": [
  {
   "cell_type": "markdown",
   "id": "674e4813",
   "metadata": {},
   "source": [
    "# Project: Web scrapping, knowledge base construction"
   ]
  },
  {
   "cell_type": "markdown",
   "id": "d33bfc99",
   "metadata": {},
   "source": [
    "Webdatamining project "
   ]
  },
  {
   "cell_type": "markdown",
   "id": "09f9339c",
   "metadata": {},
   "source": [
    "\n",
    "<span style=\"color:red\">Natalia GERARD and Paul RANC</span>"
   ]
  },
  {
   "cell_type": "markdown",
   "id": "1c1042ae",
   "metadata": {},
   "source": [
    "## Part 1: Web scrapping and knowledge base construction"
   ]
  },
  {
   "cell_type": "markdown",
   "id": "bba94147",
   "metadata": {},
   "source": [
    "Environment Setup   \n",
    "Installation of required Python libraries"
   ]
  },
  {
   "cell_type": "code",
   "execution_count": 1,
   "id": "25218de3",
   "metadata": {},
   "outputs": [
    {
     "name": "stdout",
     "output_type": "stream",
     "text": [
      "Requirement already satisfied: datasets in c:\\users\\ngera\\anaconda33\\lib\\site-packages (2.12.0)\n",
      "Requirement already satisfied: sklearn-crfsuite in c:\\users\\ngera\\anaconda33\\lib\\site-packages (0.5.0)\n",
      "Requirement already satisfied: transformers in c:\\users\\ngera\\anaconda33\\lib\\site-packages (4.32.1)\n",
      "Requirement already satisfied: beautifulsoup4 in c:\\users\\ngera\\anaconda33\\lib\\site-packages (4.12.2)\n",
      "Requirement already satisfied: nltk in c:\\users\\ngera\\anaconda33\\lib\\site-packages (3.8.1)\n",
      "Requirement already satisfied: spacy in c:\\users\\ngera\\anaconda33\\lib\\site-packages (3.8.4)\n",
      "Requirement already satisfied: rdflib in c:\\users\\ngera\\anaconda33\\lib\\site-packages (7.1.3)\n",
      "Requirement already satisfied: numpy>=1.17 in c:\\users\\ngera\\anaconda33\\lib\\site-packages (from datasets) (1.24.3)\n",
      "Requirement already satisfied: pyarrow>=8.0.0 in c:\\users\\ngera\\anaconda33\\lib\\site-packages (from datasets) (11.0.0)\n",
      "Requirement already satisfied: dill<0.3.7,>=0.3.0 in c:\\users\\ngera\\anaconda33\\lib\\site-packages (from datasets) (0.3.6)\n",
      "Requirement already satisfied: pandas in c:\\users\\ngera\\anaconda33\\lib\\site-packages (from datasets) (2.0.3)\n",
      "Requirement already satisfied: requests>=2.19.0 in c:\\users\\ngera\\anaconda33\\lib\\site-packages (from datasets) (2.31.0)\n",
      "Requirement already satisfied: tqdm>=4.62.1 in c:\\users\\ngera\\anaconda33\\lib\\site-packages (from datasets) (4.65.0)\n",
      "Requirement already satisfied: xxhash in c:\\users\\ngera\\anaconda33\\lib\\site-packages (from datasets) (2.0.2)\n",
      "Requirement already satisfied: multiprocess in c:\\users\\ngera\\anaconda33\\lib\\site-packages (from datasets) (0.70.14)\n",
      "Requirement already satisfied: fsspec[http]>=2021.11.1 in c:\\users\\ngera\\anaconda33\\lib\\site-packages (from datasets) (2023.4.0)\n",
      "Requirement already satisfied: aiohttp in c:\\users\\ngera\\anaconda33\\lib\\site-packages (from datasets) (3.8.5)\n",
      "Requirement already satisfied: huggingface-hub<1.0.0,>=0.11.0 in c:\\users\\ngera\\anaconda33\\lib\\site-packages (from datasets) (0.15.1)\n",
      "Requirement already satisfied: packaging in c:\\users\\ngera\\anaconda33\\lib\\site-packages (from datasets) (23.1)\n",
      "Requirement already satisfied: responses<0.19 in c:\\users\\ngera\\anaconda33\\lib\\site-packages (from datasets) (0.13.3)\n",
      "Requirement already satisfied: pyyaml>=5.1 in c:\\users\\ngera\\anaconda33\\lib\\site-packages (from datasets) (6.0)\n",
      "Requirement already satisfied: python-crfsuite>=0.9.7 in c:\\users\\ngera\\anaconda33\\lib\\site-packages (from sklearn-crfsuite) (0.9.11)\n",
      "Requirement already satisfied: scikit-learn>=0.24.0 in c:\\users\\ngera\\anaconda33\\lib\\site-packages (from sklearn-crfsuite) (1.6.0)\n",
      "Requirement already satisfied: tabulate>=0.4.2 in c:\\users\\ngera\\anaconda33\\lib\\site-packages (from sklearn-crfsuite) (0.8.10)\n",
      "Requirement already satisfied: filelock in c:\\users\\ngera\\anaconda33\\lib\\site-packages (from transformers) (3.9.0)\n",
      "Requirement already satisfied: regex!=2019.12.17 in c:\\users\\ngera\\anaconda33\\lib\\site-packages (from transformers) (2022.7.9)\n",
      "Requirement already satisfied: tokenizers!=0.11.3,<0.14,>=0.11.1 in c:\\users\\ngera\\anaconda33\\lib\\site-packages (from transformers) (0.13.2)\n",
      "Requirement already satisfied: safetensors>=0.3.1 in c:\\users\\ngera\\anaconda33\\lib\\site-packages (from transformers) (0.3.2)\n",
      "Requirement already satisfied: soupsieve>1.2 in c:\\users\\ngera\\anaconda33\\lib\\site-packages (from beautifulsoup4) (2.4)\n",
      "Requirement already satisfied: click in c:\\users\\ngera\\anaconda33\\lib\\site-packages (from nltk) (8.0.4)\n",
      "Requirement already satisfied: joblib in c:\\users\\ngera\\anaconda33\\lib\\site-packages (from nltk) (1.2.0)\n",
      "Requirement already satisfied: spacy-legacy<3.1.0,>=3.0.11 in c:\\users\\ngera\\anaconda33\\lib\\site-packages (from spacy) (3.0.12)\n",
      "Requirement already satisfied: spacy-loggers<2.0.0,>=1.0.0 in c:\\users\\ngera\\anaconda33\\lib\\site-packages (from spacy) (1.0.5)\n",
      "Requirement already satisfied: murmurhash<1.1.0,>=0.28.0 in c:\\users\\ngera\\anaconda33\\lib\\site-packages (from spacy) (1.0.12)\n",
      "Requirement already satisfied: cymem<2.1.0,>=2.0.2 in c:\\users\\ngera\\anaconda33\\lib\\site-packages (from spacy) (2.0.11)\n",
      "Requirement already satisfied: preshed<3.1.0,>=3.0.2 in c:\\users\\ngera\\anaconda33\\lib\\site-packages (from spacy) (3.0.9)\n",
      "Requirement already satisfied: thinc<8.4.0,>=8.3.4 in c:\\users\\ngera\\anaconda33\\lib\\site-packages (from spacy) (8.3.4)\n",
      "Requirement already satisfied: wasabi<1.2.0,>=0.9.1 in c:\\users\\ngera\\anaconda33\\lib\\site-packages (from spacy) (1.1.3)\n",
      "Requirement already satisfied: srsly<3.0.0,>=2.4.3 in c:\\users\\ngera\\anaconda33\\lib\\site-packages (from spacy) (2.5.1)\n",
      "Requirement already satisfied: catalogue<2.1.0,>=2.0.6 in c:\\users\\ngera\\anaconda33\\lib\\site-packages (from spacy) (2.0.10)\n",
      "Requirement already satisfied: weasel<0.5.0,>=0.1.0 in c:\\users\\ngera\\anaconda33\\lib\\site-packages (from spacy) (0.4.1)\n",
      "Requirement already satisfied: typer<1.0.0,>=0.3.0 in c:\\users\\ngera\\anaconda33\\lib\\site-packages (from spacy) (0.15.2)\n",
      "Requirement already satisfied: pydantic!=1.8,!=1.8.1,<3.0.0,>=1.7.4 in c:\\users\\ngera\\anaconda33\\lib\\site-packages (from spacy) (1.10.8)\n",
      "Requirement already satisfied: jinja2 in c:\\users\\ngera\\anaconda33\\lib\\site-packages (from spacy) (3.1.2)\n",
      "Requirement already satisfied: setuptools in c:\\users\\ngera\\anaconda33\\lib\\site-packages (from spacy) (68.0.0)\n",
      "Requirement already satisfied: langcodes<4.0.0,>=3.2.0 in c:\\users\\ngera\\anaconda33\\lib\\site-packages (from spacy) (3.5.0)\n",
      "Requirement already satisfied: pyparsing<4,>=2.1.0 in c:\\users\\ngera\\anaconda33\\lib\\site-packages (from rdflib) (3.0.9)\n",
      "Requirement already satisfied: attrs>=17.3.0 in c:\\users\\ngera\\anaconda33\\lib\\site-packages (from aiohttp->datasets) (25.3.0)\n",
      "Requirement already satisfied: charset-normalizer<4.0,>=2.0 in c:\\users\\ngera\\anaconda33\\lib\\site-packages (from aiohttp->datasets) (2.0.4)\n",
      "Requirement already satisfied: multidict<7.0,>=4.5 in c:\\users\\ngera\\anaconda33\\lib\\site-packages (from aiohttp->datasets) (6.0.2)\n",
      "Requirement already satisfied: async-timeout<5.0,>=4.0.0a3 in c:\\users\\ngera\\anaconda33\\lib\\site-packages (from aiohttp->datasets) (4.0.2)\n",
      "Requirement already satisfied: yarl<2.0,>=1.0 in c:\\users\\ngera\\anaconda33\\lib\\site-packages (from aiohttp->datasets) (1.8.1)\n",
      "Requirement already satisfied: frozenlist>=1.1.1 in c:\\users\\ngera\\anaconda33\\lib\\site-packages (from aiohttp->datasets) (1.3.3)\n",
      "Requirement already satisfied: aiosignal>=1.1.2 in c:\\users\\ngera\\anaconda33\\lib\\site-packages (from aiohttp->datasets) (1.2.0)\n",
      "Requirement already satisfied: typing-extensions>=3.7.4.3 in c:\\users\\ngera\\anaconda33\\lib\\site-packages (from huggingface-hub<1.0.0,>=0.11.0->datasets) (4.11.0)\n",
      "Requirement already satisfied: language-data>=1.2 in c:\\users\\ngera\\anaconda33\\lib\\site-packages (from langcodes<4.0.0,>=3.2.0->spacy) (1.3.0)\n",
      "Requirement already satisfied: idna<4,>=2.5 in c:\\users\\ngera\\anaconda33\\lib\\site-packages (from requests>=2.19.0->datasets) (3.4)\n",
      "Requirement already satisfied: urllib3<3,>=1.21.1 in c:\\users\\ngera\\anaconda33\\lib\\site-packages (from requests>=2.19.0->datasets) (1.26.16)\n",
      "Requirement already satisfied: certifi>=2017.4.17 in c:\\users\\ngera\\anaconda33\\lib\\site-packages (from requests>=2.19.0->datasets) (2023.7.22)\n",
      "Requirement already satisfied: six in c:\\users\\ngera\\anaconda33\\lib\\site-packages (from responses<0.19->datasets) (1.16.0)\n",
      "Requirement already satisfied: scipy>=1.6.0 in c:\\users\\ngera\\anaconda33\\lib\\site-packages (from scikit-learn>=0.24.0->sklearn-crfsuite) (1.11.1)\n",
      "Requirement already satisfied: threadpoolctl>=3.1.0 in c:\\users\\ngera\\anaconda33\\lib\\site-packages (from scikit-learn>=0.24.0->sklearn-crfsuite) (3.5.0)\n",
      "Requirement already satisfied: blis<1.3.0,>=1.2.0 in c:\\users\\ngera\\anaconda33\\lib\\site-packages (from thinc<8.4.0,>=8.3.4->spacy) (1.2.0)\n",
      "Requirement already satisfied: confection<1.0.0,>=0.0.1 in c:\\users\\ngera\\anaconda33\\lib\\site-packages (from thinc<8.4.0,>=8.3.4->spacy) (0.1.5)\n",
      "Requirement already satisfied: colorama in c:\\users\\ngera\\anaconda33\\lib\\site-packages (from tqdm>=4.62.1->datasets) (0.4.6)\n",
      "Requirement already satisfied: shellingham>=1.3.0 in c:\\users\\ngera\\anaconda33\\lib\\site-packages (from typer<1.0.0,>=0.3.0->spacy) (1.5.4)\n",
      "Requirement already satisfied: rich>=10.11.0 in c:\\users\\ngera\\anaconda33\\lib\\site-packages (from typer<1.0.0,>=0.3.0->spacy) (13.9.4)\n",
      "Requirement already satisfied: cloudpathlib<1.0.0,>=0.7.0 in c:\\users\\ngera\\anaconda33\\lib\\site-packages (from weasel<0.5.0,>=0.1.0->spacy) (0.21.0)\n",
      "Requirement already satisfied: smart-open<8.0.0,>=5.2.1 in c:\\users\\ngera\\anaconda33\\lib\\site-packages (from weasel<0.5.0,>=0.1.0->spacy) (5.2.1)\n",
      "Requirement already satisfied: MarkupSafe>=2.0 in c:\\users\\ngera\\anaconda33\\lib\\site-packages (from jinja2->spacy) (2.1.1)\n",
      "Requirement already satisfied: python-dateutil>=2.8.2 in c:\\users\\ngera\\anaconda33\\lib\\site-packages (from pandas->datasets) (2.8.2)\n",
      "Requirement already satisfied: pytz>=2020.1 in c:\\users\\ngera\\anaconda33\\lib\\site-packages (from pandas->datasets) (2023.3.post1)\n",
      "Requirement already satisfied: tzdata>=2022.1 in c:\\users\\ngera\\anaconda33\\lib\\site-packages (from pandas->datasets) (2023.3)\n",
      "Requirement already satisfied: marisa-trie>=1.1.0 in c:\\users\\ngera\\anaconda33\\lib\\site-packages (from language-data>=1.2->langcodes<4.0.0,>=3.2.0->spacy) (1.2.1)\n",
      "Requirement already satisfied: markdown-it-py>=2.2.0 in c:\\users\\ngera\\anaconda33\\lib\\site-packages (from rich>=10.11.0->typer<1.0.0,>=0.3.0->spacy) (2.2.0)\n",
      "Requirement already satisfied: pygments<3.0.0,>=2.13.0 in c:\\users\\ngera\\anaconda33\\lib\\site-packages (from rich>=10.11.0->typer<1.0.0,>=0.3.0->spacy) (2.15.1)\n",
      "Requirement already satisfied: mdurl~=0.1 in c:\\users\\ngera\\anaconda33\\lib\\site-packages (from markdown-it-py>=2.2.0->rich>=10.11.0->typer<1.0.0,>=0.3.0->spacy) (0.1.0)\n"
     ]
    }
   ],
   "source": [
    "!pip install datasets sklearn-crfsuite transformers beautifulsoup4 nltk spacy rdflib"
   ]
  },
  {
   "cell_type": "markdown",
   "id": "de582ac5",
   "metadata": {},
   "source": [
    "Dataset Loading  \n",
    "Loading the CoNLL-2003 dataset using Hugging Face"
   ]
  },
  {
   "cell_type": "code",
   "execution_count": 2,
   "id": "a3016934",
   "metadata": {},
   "outputs": [
    {
     "name": "stderr",
     "output_type": "stream",
     "text": [
      "Found cached dataset conll2003 (C:/Users/ngera/.cache/huggingface/datasets/conll2003/conll2003/1.0.0/9a4d16a94f8674ba3466315300359b0acd891b68b6c8743ddf60b9c702adce98)\n"
     ]
    },
    {
     "data": {
      "application/vnd.jupyter.widget-view+json": {
       "model_id": "7f01a6d1304a4e46bd573adc069453b2",
       "version_major": 2,
       "version_minor": 0
      },
      "text/plain": [
       "  0%|          | 0/3 [00:00<?, ?it/s]"
      ]
     },
     "metadata": {},
     "output_type": "display_data"
    }
   ],
   "source": [
    "from datasets import load_dataset\n",
    "\n",
    "# Access train/validation/test splits\n",
    "dataset = load_dataset(\"conll2003\")\n",
    "train_dataset = dataset['train']\n",
    "validation_dataset = dataset['validation']\n",
    "test_dataset = dataset['test']"
   ]
  },
  {
   "cell_type": "markdown",
   "id": "f6926a1d",
   "metadata": {},
   "source": [
    "First training sample  \n",
    "Check the structure of the data"
   ]
  },
  {
   "cell_type": "code",
   "execution_count": 3,
   "id": "486f2715",
   "metadata": {},
   "outputs": [
    {
     "name": "stdout",
     "output_type": "stream",
     "text": [
      "{'id': '0', 'tokens': ['EU', 'rejects', 'German', 'call', 'to', 'boycott', 'British', 'lamb', '.'], 'pos_tags': [22, 42, 16, 21, 35, 37, 16, 21, 7], 'chunk_tags': [11, 21, 11, 12, 21, 22, 11, 12, 0], 'ner_tags': [3, 0, 7, 0, 0, 0, 7, 0, 0]}\n"
     ]
    }
   ],
   "source": [
    "print(train_dataset[0])"
   ]
  },
  {
   "cell_type": "markdown",
   "id": "749f57a9",
   "metadata": {},
   "source": [
    "*Meaning of ner_tags to better understand the output*"
   ]
  },
  {
   "cell_type": "markdown",
   "id": "e06d48c8",
   "metadata": {},
   "source": [
    "### 🧾 NER Tag Codebook\n",
    "\n",
    "| Code | Label     | Meaning                          |\n",
    "|------|-----------|----------------------------------|\n",
    "| 0    | O         | Not a named entity               |\n",
    "| 1    | B-PER     | Beginning of a PERSON            |\n",
    "| 2    | I-PER     | Inside a PERSON name             |\n",
    "| 3    | B-ORG     | Beginning of an ORGANIZATION     |\n",
    "| 4    | I-ORG     | Inside an ORGANIZATION name      |\n",
    "| 5    | B-LOC     | Beginning of a LOCATION          |\n",
    "| 6    | I-LOC     | Inside a LOCATION                |\n",
    "| 7    | B-MISC    | Beginning of a miscellaneous entity |\n",
    "| 8    | I-MISC    | Inside a miscellaneous entity    |"
   ]
  },
  {
   "cell_type": "markdown",
   "id": "1286ea5a",
   "metadata": {},
   "source": [
    "So in this example : \n",
    "\n",
    "“EU” is an organization → B-ORG = 3  \n",
    "\n",
    "“German” and ‘British’ are various entities (nationalities here) → B-MISC = 7   \n",
    "\n",
    "Other words are not entities → 0"
   ]
  },
  {
   "cell_type": "markdown",
   "id": "3474cb67",
   "metadata": {},
   "source": [
    "Visualize the frequency of NER entities in the training set"
   ]
  },
  {
   "cell_type": "code",
   "execution_count": 4,
   "id": "9d95c3e3",
   "metadata": {
    "scrolled": true
   },
   "outputs": [
    {
     "name": "stdout",
     "output_type": "stream",
     "text": [
      "NER tag distribution: Counter({0: 169578, 5: 7140, 1: 6600, 3: 6321, 2: 4528, 4: 3704, 7: 3438, 6: 1157, 8: 1155})\n"
     ]
    }
   ],
   "source": [
    "from collections import Counter\n",
    "\n",
    "# Count NER tags in the training dataset\n",
    "ner_counts = Counter(tag for example in train_dataset for tag in example['ner_tags'])\n",
    "print(\"NER tag distribution:\", ner_counts)\n"
   ]
  },
  {
   "cell_type": "markdown",
   "id": "a43b9c89",
   "metadata": {},
   "source": [
    "The NER tag distribution in the training set shows that the majority of tokens (169,578) are not named entities (tag 0). Among the named entities, the most frequent are LOC (B-LOC: 7,140), PER (B-PER: 6,600, I-PER: 4,528), ORG (B-ORG: 6,321, I-ORG: 3,704), and MISC (B-MISC: 3,438, I-MISC: 1,155), indicating a good variety of entity types"
   ]
  },
  {
   "cell_type": "markdown",
   "id": "e2a2f6cc",
   "metadata": {},
   "source": [
    "### Task 1 : Model for NER"
   ]
  },
  {
   "cell_type": "markdown",
   "id": "c7683c3f",
   "metadata": {},
   "source": [
    "**Text Cleaning & Preprocessing : clean and prepare text for CRF model training**"
   ]
  },
  {
   "cell_type": "markdown",
   "id": "74a30df3",
   "metadata": {},
   "source": [
    "Remove punctuation and non-text elements (except hyphens)"
   ]
  },
  {
   "cell_type": "code",
   "execution_count": 5,
   "id": "5ceba4e6",
   "metadata": {},
   "outputs": [],
   "source": [
    "import re\n",
    "\n",
    "def remove_punctuation(text):\n",
    "    \"\"\"\n",
    "    Remove all punctuation and non-text elements, except hyphens.\n",
    "    Hyphens are kept because they are used in compound words.\n",
    "    \"\"\"\n",
    "    # Only keep word characters, whitespace, and hyphens\n",
    "    return re.sub(r\"[^\\w\\s-]\", \"\", text)"
   ]
  },
  {
   "cell_type": "code",
   "execution_count": 6,
   "id": "e66d8854",
   "metadata": {},
   "outputs": [
    {
     "name": "stdout",
     "output_type": "stream",
     "text": [
      "Cleaned text: Apple Inc was founded in 1976 - by Steve Jobs\n"
     ]
    }
   ],
   "source": [
    "# Example\n",
    "raw_text = \"Apple, Inc. was founded in 1976 - by Steve Jobs!\"\n",
    "cleaned_text = remove_punctuation(raw_text)\n",
    "print(\"Cleaned text:\", cleaned_text)"
   ]
  },
  {
   "cell_type": "markdown",
   "id": "0db945aa",
   "metadata": {},
   "source": [
    "Normalize the text by converting to lowercase."
   ]
  },
  {
   "cell_type": "code",
   "execution_count": 7,
   "id": "cddf5df4",
   "metadata": {},
   "outputs": [
    {
     "name": "stderr",
     "output_type": "stream",
     "text": [
      "[nltk_data] Downloading package punkt to\n",
      "[nltk_data]     C:\\Users\\ngera\\AppData\\Roaming\\nltk_data...\n",
      "[nltk_data]   Package punkt is already up-to-date!\n"
     ]
    }
   ],
   "source": [
    "import nltk\n",
    "from nltk import word_tokenize\n",
    "\n",
    "# Download necessary data once\n",
    "nltk.download('punkt')\n",
    "\n",
    "def normalize_and_tokenize(text):\n",
    "    \"\"\"\n",
    "    Convert to lowercase and tokenize the text into words.\n",
    "    \"\"\"\n",
    "    # Convert to lowercase\n",
    "    text = text.lower()\n",
    "    # Tokenize\n",
    "    tokens = word_tokenize(text)\n",
    "    return tokens"
   ]
  },
  {
   "cell_type": "code",
   "execution_count": 8,
   "id": "59e05a9c",
   "metadata": {},
   "outputs": [
    {
     "name": "stdout",
     "output_type": "stream",
     "text": [
      "Normalized & Tokenized: ['apple', 'inc', 'was', 'founded', 'in', '1976', '-', 'by', 'steve', 'jobs']\n"
     ]
    }
   ],
   "source": [
    "# Example\n",
    "normalized_tokens = normalize_and_tokenize(cleaned_text)\n",
    "print(\"Normalized & Tokenized:\", normalized_tokens)"
   ]
  },
  {
   "cell_type": "markdown",
   "id": "83476d54",
   "metadata": {},
   "source": [
    "Removing stop words, and applying tokenization and stemming/lemmatization."
   ]
  },
  {
   "cell_type": "code",
   "execution_count": 9,
   "id": "9874de76",
   "metadata": {},
   "outputs": [
    {
     "name": "stderr",
     "output_type": "stream",
     "text": [
      "[nltk_data] Downloading package stopwords to\n",
      "[nltk_data]     C:\\Users\\ngera\\AppData\\Roaming\\nltk_data...\n",
      "[nltk_data]   Package stopwords is already up-to-date!\n",
      "[nltk_data] Downloading package wordnet to\n",
      "[nltk_data]     C:\\Users\\ngera\\AppData\\Roaming\\nltk_data...\n",
      "[nltk_data]   Package wordnet is already up-to-date!\n"
     ]
    }
   ],
   "source": [
    "from nltk.corpus import stopwords\n",
    "from nltk.stem import WordNetLemmatizer\n",
    "\n",
    "# Download additional NLTK resources\n",
    "nltk.download('stopwords')\n",
    "nltk.download('wordnet')\n",
    "\n",
    "stop_words = set(stopwords.words('english'))\n",
    "lemmatizer = WordNetLemmatizer()\n",
    "\n",
    "def remove_stopwords_and_lemmatize(tokens):\n",
    "    \"\"\"\n",
    "    Remove English stopwords and apply lemmatization.\n",
    "    \"\"\"\n",
    "    return [lemmatizer.lemmatize(token) for token in tokens if token not in stop_words]"
   ]
  },
  {
   "cell_type": "code",
   "execution_count": 10,
   "id": "e802e28d",
   "metadata": {},
   "outputs": [
    {
     "name": "stdout",
     "output_type": "stream",
     "text": [
      "Final preprocessed tokens: ['apple', 'inc', 'founded', '1976', '-', 'steve', 'job']\n"
     ]
    }
   ],
   "source": [
    "# Final preprocessing\n",
    "final_tokens = remove_stopwords_and_lemmatize(normalized_tokens)\n",
    "print(\"Final preprocessed tokens:\", final_tokens)"
   ]
  },
  {
   "cell_type": "markdown",
   "id": "a54651bc",
   "metadata": {},
   "source": [
    "This step is crucial to prepare the raw text for Named Entity Recognition (NER) by simplifying it, removing irrelevant elements (like punctuation and stopwords), and standardizing word forms. This helps improve the accuracy and efficiency of the CRF model we'll train next."
   ]
  },
  {
   "cell_type": "markdown",
   "id": "43d20b04",
   "metadata": {},
   "source": [
    "**Named Entity Recognition (NER):**"
   ]
  },
  {
   "cell_type": "markdown",
   "id": "10029732",
   "metadata": {},
   "source": [
    "The CoNLL-2003 dataset is already pre-processed:  \n",
    "\n",
    "Tokens are already separated ('tokens' column).  \n",
    "\n",
    "Punctuation has been largely cleaned up.  \n",
    "\n",
    "Each word is aligned with its NER tag. "
   ]
  },
  {
   "cell_type": "markdown",
   "id": "7c23c144",
   "metadata": {},
   "source": [
    "Goal : Train a CRF (Conditional Random Field) model from the CoNLL-2003 dataset to automatically recognize named entities (people, places, organizations, etc.)."
   ]
  },
  {
   "cell_type": "markdown",
   "id": "f20f3850",
   "metadata": {},
   "source": [
    "<span style=\"color:green\">Train a Conditional Random Field (CRF) model to identify named entities such as PERSON,\n",
    "ORGANIZATION, LOCATION, etc. You can use libraries like sklearn-crfsuite for this task.\n",
    "</span>"
   ]
  },
  {
   "cell_type": "markdown",
   "id": "9373e546",
   "metadata": {},
   "source": [
    "First Approach : detect entities from scratch, as if we were training our own NER model from an annotated dataset."
   ]
  },
  {
   "cell_type": "code",
   "execution_count": 11,
   "id": "d0b0ec4f",
   "metadata": {},
   "outputs": [
    {
     "name": "stderr",
     "output_type": "stream",
     "text": [
      "Found cached dataset conll2003 (C:/Users/ngera/.cache/huggingface/datasets/conll2003/conll2003/1.0.0/9a4d16a94f8674ba3466315300359b0acd891b68b6c8743ddf60b9c702adce98)\n"
     ]
    },
    {
     "data": {
      "application/vnd.jupyter.widget-view+json": {
       "model_id": "3071281c607b40f3b53b680b14bebe89",
       "version_major": 2,
       "version_minor": 0
      },
      "text/plain": [
       "  0%|          | 0/3 [00:00<?, ?it/s]"
      ]
     },
     "metadata": {},
     "output_type": "display_data"
    },
    {
     "name": "stdout",
     "output_type": "stream",
     "text": [
      "              precision    recall  f1-score   support\n",
      "\n",
      "       B-LOC       0.86      0.81      0.84      1668\n",
      "      B-MISC       0.82      0.74      0.77       702\n",
      "       B-ORG       0.82      0.69      0.75      1661\n",
      "       B-PER       0.82      0.85      0.83      1617\n",
      "       I-LOC       0.81      0.73      0.77       257\n",
      "      I-MISC       0.68      0.66      0.67       216\n",
      "       I-ORG       0.70      0.74      0.72       835\n",
      "       I-PER       0.84      0.95      0.89      1156\n",
      "           O       0.98      0.99      0.99     38323\n",
      "\n",
      "    accuracy                           0.95     46435\n",
      "   macro avg       0.82      0.79      0.80     46435\n",
      "weighted avg       0.95      0.95      0.95     46435\n",
      "\n"
     ]
    }
   ],
   "source": [
    "from datasets import load_dataset\n",
    "import sklearn_crfsuite\n",
    "from sklearn_crfsuite import metrics\n",
    "\n",
    "# Load dataset\n",
    "dataset = load_dataset(\"conll2003\")\n",
    "train_data = dataset['train']\n",
    "test_data = dataset['test']\n",
    "\n",
    "# Get label names\n",
    "label_list = dataset['train'].features['ner_tags'].feature.names\n",
    "\n",
    "# Feature extraction\n",
    "def word2features(sent, i):\n",
    "    word = sent[i]\n",
    "    features = {\n",
    "        'bias': 1.0,\n",
    "        'word.lower()': word.lower(),\n",
    "        'word.isupper()': word.isupper(),\n",
    "        'word.istitle()': word.istitle(),\n",
    "        'word.isdigit()': word.isdigit(),\n",
    "    }\n",
    "    if i > 0:\n",
    "        word1 = sent[i - 1]\n",
    "        features.update({\n",
    "            '-1:word.lower()': word1.lower(),\n",
    "            '-1:word.istitle()': word1.istitle(),\n",
    "            '-1:word.isupper()': word1.isupper(),\n",
    "        })\n",
    "    else:\n",
    "        features['BOS'] = True\n",
    "    if i < len(sent) - 1:\n",
    "        word1 = sent[i + 1]\n",
    "        features.update({\n",
    "            '+1:word.lower()': word1.lower(),\n",
    "            '+1:word.istitle()': word1.istitle(),\n",
    "            '+1:word.isupper()': word1.isupper(),\n",
    "        })\n",
    "    else:\n",
    "        features['EOS'] = True\n",
    "    return features\n",
    "\n",
    "# Transform sentence to list of features\n",
    "def sent2features(example):\n",
    "    return [word2features(example['tokens'], i) for i in range(len(example['tokens']))]\n",
    "\n",
    "# Labels (convert IDs to string names)\n",
    "def sent2labels(example):\n",
    "    return [label_list[i] for i in example['ner_tags']]\n",
    "\n",
    "# Prepare data\n",
    "X_train = [sent2features(ex) for ex in train_data]\n",
    "y_train = [sent2labels(ex) for ex in train_data]\n",
    "X_test = [sent2features(ex) for ex in test_data]\n",
    "y_test = [sent2labels(ex) for ex in test_data]\n",
    "\n",
    "# Train CRF\n",
    "crf = sklearn_crfsuite.CRF(algorithm='lbfgs', c1=0.1, c2=0.1, max_iterations=100)\n",
    "crf.fit(X_train, y_train)\n",
    "\n",
    "# Evaluate\n",
    "y_pred = crf.predict(X_test)\n",
    "print(metrics.flat_classification_report(y_test, y_pred))\n"
   ]
  },
  {
   "cell_type": "markdown",
   "id": "b825e505",
   "metadata": {},
   "source": [
    "<span style=\"color:green\">Use spaCyʼs en_ner_conll03 pre-trained NER model to identify named entities. This model\n",
    "is also trained on ConLL2003 dataset. The code for training process is available here.\n",
    "</span>"
   ]
  },
  {
   "cell_type": "markdown",
   "id": "8e39d6a7",
   "metadata": {},
   "source": [
    "Second Approach : Use a model already trained by spaCy (en_ner_conll03) to automatically detect entities in plain text."
   ]
  },
  {
   "cell_type": "markdown",
   "id": "5df02e9e",
   "metadata": {},
   "source": [
    "It shows how to reuse a ready-to-use template without training, and get immediate results on free text."
   ]
  },
  {
   "cell_type": "code",
   "execution_count": 12,
   "id": "216e334f",
   "metadata": {},
   "outputs": [
    {
     "name": "stderr",
     "output_type": "stream",
     "text": [
      "C:\\Users\\ngera\\anaconda33\\Lib\\site-packages\\spacy\\util.py:910: UserWarning: [W095] Model 'en_pipeline' (0.0.0) was trained with spaCy v3.7.5 and may not be 100% compatible with the current version (3.8.4). If you see errors or degraded performance, download a newer compatible model or retrain your custom model with the current spaCy version. For more details and available updates, run: python -m spacy validate\n",
      "  warnings.warn(warn_msg)\n"
     ]
    },
    {
     "name": "stdout",
     "output_type": "stream",
     "text": [
      "Named Entities (spaCy): [('Apple', 'ORG', 0, 5), ('Steve Jobs', 'PER', 21, 31), ('California', 'LOC', 35, 45)]\n"
     ]
    }
   ],
   "source": [
    "import spacy\n",
    "\n",
    "# Load the pre-trained model \n",
    "nlp = spacy.load(\"C:\\\\Users\\\\ngera\\\\Downloads\\\\en_ner_conll03 (1)\\\\best_ner_model\")\n",
    "\n",
    "# Example text\n",
    "text = \"Apple was founded by Steve Jobs in California.\"\n",
    "doc = nlp(text)\n",
    "\n",
    "# Extract recognized entities\n",
    "entities = [(ent.text, ent.label_, ent.start_char, ent.end_char) for ent in doc.ents]\n",
    "print(\"Named Entities (spaCy):\", entities)"
   ]
  },
  {
   "cell_type": "markdown",
   "id": "8bcd652d",
   "metadata": {},
   "source": [
    "<span style=\"color:green\">Compare the performance of the CRF model with the spaCy pre-trained model. The\n",
    "performances should be compared by accuracy, precision and F1 measure.\n",
    "</span>"
   ]
  },
  {
   "cell_type": "markdown",
   "id": "605059ad",
   "metadata": {},
   "source": [
    "Evaluate CRF Model – Entity Extraction"
   ]
  },
  {
   "cell_type": "code",
   "execution_count": 13,
   "id": "b64771ce",
   "metadata": {},
   "outputs": [
    {
     "name": "stdout",
     "output_type": "stream",
     "text": [
      "CRF Entities: [('JAPAN', 'LOC', 9, 14), ('CHINA', 'LOC', 31, 36)]\n"
     ]
    }
   ],
   "source": [
    "def extract_crf_entities(tokens, labels):\n",
    "    \"\"\"\n",
    "    Convert token-level IOB labels into entity spans with text and character positions.\n",
    "    \"\"\"\n",
    "    entities = []\n",
    "    current_entity = None\n",
    "    start = None\n",
    "\n",
    "    for i, (token, label) in enumerate(zip(tokens, labels)):\n",
    "        if label.startswith(\"B-\"):\n",
    "            if current_entity:\n",
    "                entities.append((current_entity, entity_type, start, end))\n",
    "            current_entity = token\n",
    "            entity_type = label[2:]\n",
    "            start = len(\" \".join(tokens[:i])) + (1 if i != 0 else 0)\n",
    "            end = start + len(token)\n",
    "        elif label.startswith(\"I-\") and current_entity:\n",
    "            current_entity += \" \" + token\n",
    "            end += len(token) + 1  # account for space\n",
    "        else:\n",
    "            if current_entity:\n",
    "                entities.append((current_entity, entity_type, start, end))\n",
    "                current_entity = None\n",
    "\n",
    "    if current_entity:\n",
    "        entities.append((current_entity, entity_type, start, end))\n",
    "\n",
    "    return entities\n",
    "\n",
    "# Example\n",
    "example = test_data[0]\n",
    "tokens = example['tokens']\n",
    "crf_labels = crf.predict_single(sent2features(example))\n",
    "crf_entities = extract_crf_entities(tokens, crf_labels)\n",
    "print(\"CRF Entities:\", crf_entities)"
   ]
  },
  {
   "cell_type": "markdown",
   "id": "6df71f01",
   "metadata": {},
   "source": [
    "Extract Entities from spaCy on the Same Sentence"
   ]
  },
  {
   "cell_type": "code",
   "execution_count": 14,
   "id": "851bb467",
   "metadata": {},
   "outputs": [
    {
     "name": "stdout",
     "output_type": "stream",
     "text": [
      "spaCy Entities: [('JAPAN', 'LOC', 9, 14), ('CHINA', 'LOC', 31, 36)]\n"
     ]
    }
   ],
   "source": [
    "import spacy\n",
    "\n",
    "# Load the spaCy model\n",
    "nlp = spacy.load(\"C:/Users/ngera/Downloads/en_ner_conll03 (1)/best_ner_model\")\n",
    "\n",
    "# Rebuild the sentence\n",
    "text = \" \".join(tokens)\n",
    "doc = nlp(text)\n",
    "\n",
    "# Get spaCy entities\n",
    "spacy_entities = [(ent.text, ent.label_, ent.start_char, ent.end_char) for ent in doc.ents]\n",
    "print(\"spaCy Entities:\", spacy_entities)"
   ]
  },
  {
   "cell_type": "markdown",
   "id": "8b40064f",
   "metadata": {},
   "source": [
    "<span style=\"color:blue\">Named entity recognition</span>"
   ]
  },
  {
   "cell_type": "markdown",
   "id": "e7c01697",
   "metadata": {},
   "source": [
    "Visual Comparison of Detected Entities"
   ]
  },
  {
   "cell_type": "code",
   "execution_count": 15,
   "id": "51c1e39f",
   "metadata": {},
   "outputs": [
    {
     "name": "stdout",
     "output_type": "stream",
     "text": [
      "Text: SOCCER - JAPAN GET LUCKY WIN , CHINA IN SURPRISE DEFEAT .\n",
      "\n",
      "CRF Entities:\n",
      "('JAPAN', 'LOC', 9, 14)\n",
      "('CHINA', 'LOC', 31, 36)\n",
      "\n",
      "spaCy Entities:\n",
      "('JAPAN', 'LOC', 9, 14)\n",
      "('CHINA', 'LOC', 31, 36)\n"
     ]
    }
   ],
   "source": [
    "print(\"Text:\", text)\n",
    "print(\"\\nCRF Entities:\")\n",
    "for ent in crf_entities:\n",
    "    print(ent)\n",
    "\n",
    "print(\"\\nspaCy Entities:\")\n",
    "for ent in spacy_entities:\n",
    "    print(ent)"
   ]
  },
  {
   "cell_type": "markdown",
   "id": "170736c3",
   "metadata": {},
   "source": [
    "Performance Comparison on Full Test Set"
   ]
  },
  {
   "cell_type": "markdown",
   "id": "bba58f77",
   "metadata": {},
   "source": [
    "Goal : Evaluate both models on the same dataset (CoNLL-2003 test) and compare their performance using precision, recall, and F1-score — for named entity recognition (NER)."
   ]
  },
  {
   "cell_type": "markdown",
   "id": "28bdb574",
   "metadata": {},
   "source": [
    "To fairly compare both models, we evaluate them on the same test set from CoNLL-2003. The CRF model produces IOB tags directly, while the spaCy model requires converting predicted entities into IOB format.  \n",
    "\n",
    "We use standard metrics (precision, recall, F1-score) from the `seqeval` library to assess their performance.  \n",
    "\n",
    "This allows us to measure which model performs better at detecting PERSON, ORG, LOC, and MISC entities."
   ]
  },
  {
   "cell_type": "code",
   "execution_count": 16,
   "id": "c73f02ef",
   "metadata": {},
   "outputs": [
    {
     "name": "stdout",
     "output_type": "stream",
     "text": [
      "Requirement already satisfied: seqeval in c:\\users\\ngera\\anaconda33\\lib\\site-packages (1.2.2)\n",
      "Requirement already satisfied: numpy>=1.14.0 in c:\\users\\ngera\\anaconda33\\lib\\site-packages (from seqeval) (1.24.3)\n",
      "Requirement already satisfied: scikit-learn>=0.21.3 in c:\\users\\ngera\\anaconda33\\lib\\site-packages (from seqeval) (1.6.0)\n",
      "Requirement already satisfied: scipy>=1.6.0 in c:\\users\\ngera\\anaconda33\\lib\\site-packages (from scikit-learn>=0.21.3->seqeval) (1.11.1)\n",
      "Requirement already satisfied: joblib>=1.2.0 in c:\\users\\ngera\\anaconda33\\lib\\site-packages (from scikit-learn>=0.21.3->seqeval) (1.2.0)\n",
      "Requirement already satisfied: threadpoolctl>=3.1.0 in c:\\users\\ngera\\anaconda33\\lib\\site-packages (from scikit-learn>=0.21.3->seqeval) (3.5.0)\n"
     ]
    }
   ],
   "source": [
    "!pip install seqeval"
   ]
  },
  {
   "cell_type": "code",
   "execution_count": 17,
   "id": "0778bf25",
   "metadata": {},
   "outputs": [],
   "source": [
    "y_pred_crf = y_pred  "
   ]
  },
  {
   "cell_type": "code",
   "execution_count": 18,
   "id": "65e5629e",
   "metadata": {},
   "outputs": [
    {
     "name": "stdout",
     "output_type": "stream",
     "text": [
      "spaCy Model Evaluation on CoNLL-2003 Test Set:\n",
      "              precision    recall  f1-score   support\n",
      "\n",
      "         LOC       0.69      0.64      0.66      1668\n",
      "        MISC       0.67      0.63      0.65       702\n",
      "         ORG       0.70      0.67      0.68      1661\n",
      "         PER       0.63      0.65      0.64      1617\n",
      "\n",
      "   micro avg       0.67      0.65      0.66      5648\n",
      "   macro avg       0.67      0.65      0.66      5648\n",
      "weighted avg       0.67      0.65      0.66      5648\n",
      "\n",
      "CRF Model Evaluation on CoNLL-2003 Test Set:\n",
      "              precision    recall  f1-score   support\n",
      "\n",
      "         LOC       0.86      0.81      0.83      1668\n",
      "        MISC       0.80      0.72      0.76       702\n",
      "         ORG       0.79      0.66      0.71      1661\n",
      "         PER       0.81      0.84      0.83      1617\n",
      "\n",
      "   micro avg       0.82      0.76      0.79      5648\n",
      "   macro avg       0.81      0.76      0.78      5648\n",
      "weighted avg       0.82      0.76      0.79      5648\n",
      "\n",
      "spaCy - Precision: 0.6705107084019769\n",
      "spaCy - Recall: 0.6485481586402266\n",
      "spaCy - F1: 0.6593465934659347\n",
      "CRF - Precision: 0.8164232884505974\n",
      "CRF - Recall: 0.7622167138810199\n",
      "CRF - F1: 0.7883893416353814\n"
     ]
    }
   ],
   "source": [
    "from seqeval.metrics import classification_report, precision_score, recall_score, f1_score\n",
    "import spacy\n",
    "\n",
    "# Load your spaCy model\n",
    "nlp = spacy.load(\"C:/Users/ngera/Downloads/en_ner_conll03 (1)/best_ner_model\")\n",
    "\n",
    "# Convert spaCy outputs to IOB format\n",
    "def spacy_predict_iob(tokens):\n",
    "    text = \" \".join(tokens)\n",
    "    doc = nlp(text)\n",
    "    iob_tags = ['O'] * len(tokens)\n",
    "    ent_pos = {ent.start: (ent.label_, len(ent)) for ent in doc.ents}\n",
    "\n",
    "    i = 0\n",
    "    while i < len(tokens):\n",
    "        if i in ent_pos:\n",
    "            label, length = ent_pos[i]\n",
    "            iob_tags[i] = 'B-' + label\n",
    "            for j in range(1, length):\n",
    "                if i + j < len(tokens):\n",
    "                    iob_tags[i + j] = 'I-' + label\n",
    "            i += length\n",
    "        else:\n",
    "            i += 1\n",
    "    return iob_tags\n",
    "\n",
    "# Apply to all test sentences\n",
    "y_pred_spacy = [spacy_predict_iob(ex['tokens']) for ex in test_data]\n",
    "y_true = [sent2labels(ex) for ex in test_data]\n",
    "\n",
    "# Evaluate\n",
    "print(\"spaCy Model Evaluation on CoNLL-2003 Test Set:\")\n",
    "print(classification_report(y_true, y_pred_spacy))\n",
    "\n",
    "print(\"CRF Model Evaluation on CoNLL-2003 Test Set:\")\n",
    "print(classification_report(y_true, y_pred_crf))\n",
    "\n",
    "# Summary scores\n",
    "print(\"spaCy - Precision:\", precision_score(y_true, y_pred_spacy))\n",
    "print(\"spaCy - Recall:\", recall_score(y_true, y_pred_spacy))\n",
    "print(\"spaCy - F1:\", f1_score(y_true, y_pred_spacy))\n",
    "\n",
    "print(\"CRF - Precision:\", precision_score(y_true, y_pred_crf))\n",
    "print(\"CRF - Recall:\", recall_score(y_true, y_pred_crf))\n",
    "print(\"CRF - F1:\", f1_score(y_true, y_pred_crf))"
   ]
  },
  {
   "cell_type": "markdown",
   "id": "ac7bafa0",
   "metadata": {},
   "source": [
    "Based on the evaluation on the CoNLL-2003 test set, the CRF model outperforms the spaCy pre-trained model in all metrics. The CRF model achieves a higher precision (81.6% vs. 67.0%), recall (76.2% vs. 64.9%), and F1-score (78.8% vs. 65.9%). This indicates that, although spaCy provides a convenient out-of-the-box solution, a well-trained CRF on the same dataset can deliver significantly better performance for Named Entity Recognition."
   ]
  },
  {
   "cell_type": "markdown",
   "id": "a07458e4",
   "metadata": {},
   "source": [
    "<span style=\"color:green\">Save the extracted entities along with their positions.\n",
    "</span>"
   ]
  },
  {
   "cell_type": "markdown",
   "id": "8c2000c1",
   "metadata": {},
   "source": [
    "Save Extracted Named Entities from spaCy with Positions"
   ]
  },
  {
   "cell_type": "code",
   "execution_count": 19,
   "id": "dc5aebb1",
   "metadata": {},
   "outputs": [
    {
     "name": "stdout",
     "output_type": "stream",
     "text": [
      "Extracted named entities saved to spacy_named_entities.json\n"
     ]
    }
   ],
   "source": [
    "import json\n",
    "\n",
    "# Extract entities and their positions from the full test set\n",
    "spacy_entities_all = []\n",
    "\n",
    "for example in test_data:\n",
    "    text = \" \".join(example[\"tokens\"])\n",
    "    doc = nlp(text)\n",
    "    entities = [\n",
    "        {\n",
    "            \"text\": ent.text,\n",
    "            \"label\": ent.label_,\n",
    "            \"start_char\": ent.start_char,\n",
    "            \"end_char\": ent.end_char\n",
    "        }\n",
    "        for ent in doc.ents\n",
    "    ]\n",
    "    spacy_entities_all.append({\n",
    "        \"text\": text,\n",
    "        \"entities\": entities\n",
    "    })\n",
    "\n",
    "# Save to JSON file\n",
    "with open(\"spacy_named_entities.json\", \"w\", encoding=\"utf-8\") as f:\n",
    "    json.dump(spacy_entities_all, f, indent=2)\n",
    "\n",
    "print(\"Extracted named entities saved to spacy_named_entities.json\")"
   ]
  },
  {
   "cell_type": "markdown",
   "id": "d6681434",
   "metadata": {},
   "source": [
    "We saved the named entities extracted by the spaCy model from the CoNLL-2003 test set, along with their positions (start and end character offsets), in a structured JSON file. This allows for easier post-processing, visualization, or integration into a knowledge base."
   ]
  },
  {
   "cell_type": "markdown",
   "id": "89cc80b6",
   "metadata": {},
   "source": [
    "**Relation Extraction (RE):**"
   ]
  },
  {
   "cell_type": "markdown",
   "id": "da3a34d1",
   "metadata": {},
   "source": [
    "In this section, we move on to relation extraction (RE), i.e. identifying triplets (subject, relation, object) from text.\n",
    "The idea is to detect links between named entities (for example, “Apple” and “Steve Jobs”) via syntactic rules."
   ]
  },
  {
   "cell_type": "markdown",
   "id": "52f3c61c",
   "metadata": {},
   "source": [
    "We use the en_core_web_sm model because it contains both POS tags and syntactic dependencies, which are essential to extract subject-verb-object relations. This model is different from en_ner_conll03, which is trained only for NER."
   ]
  },
  {
   "cell_type": "markdown",
   "id": "c1ea2492",
   "metadata": {},
   "source": [
    "<span style=\"color:green\">Use spaCyʼs \"en_core_web_sm\" model to extract relations between entities.\n",
    "</span>"
   ]
  },
  {
   "cell_type": "markdown",
   "id": "2451ef26",
   "metadata": {},
   "source": [
    "Firstly, Load spaCy and Process the Sentence"
   ]
  },
  {
   "cell_type": "code",
   "execution_count": 20,
   "id": "8f53c4bc",
   "metadata": {},
   "outputs": [
    {
     "name": "stdout",
     "output_type": "stream",
     "text": [
      "Collecting en-core-web-sm==3.8.0\n",
      "  Downloading https://github.com/explosion/spacy-models/releases/download/en_core_web_sm-3.8.0/en_core_web_sm-3.8.0-py3-none-any.whl (12.8 MB)\n",
      "     ---------------------------------------- 0.0/12.8 MB ? eta -:--:--\n",
      "     --------------------------------------- 0.0/12.8 MB 330.3 kB/s eta 0:00:39\n",
      "     --------------------------------------- 0.1/12.8 MB 525.1 kB/s eta 0:00:25\n",
      "     --------------------------------------- 0.1/12.8 MB 737.3 kB/s eta 0:00:18\n",
      "     - -------------------------------------- 0.3/12.8 MB 1.8 MB/s eta 0:00:07\n",
      "     -- ------------------------------------- 0.7/12.8 MB 2.8 MB/s eta 0:00:05\n",
      "     -- ------------------------------------- 0.8/12.8 MB 2.8 MB/s eta 0:00:05\n",
      "     ---- ----------------------------------- 1.3/12.8 MB 4.1 MB/s eta 0:00:03\n",
      "     ----- ---------------------------------- 1.7/12.8 MB 4.5 MB/s eta 0:00:03\n",
      "     ------- -------------------------------- 2.3/12.8 MB 5.5 MB/s eta 0:00:02\n",
      "     --------- ------------------------------ 2.9/12.8 MB 6.4 MB/s eta 0:00:02\n",
      "     ----------- ---------------------------- 3.5/12.8 MB 7.0 MB/s eta 0:00:02\n",
      "     ------------ --------------------------- 4.1/12.8 MB 7.6 MB/s eta 0:00:02\n",
      "     -------------- ------------------------- 4.8/12.8 MB 8.0 MB/s eta 0:00:01\n",
      "     ----------------- ---------------------- 5.6/12.8 MB 8.7 MB/s eta 0:00:01\n",
      "     -------------------- ------------------- 6.5/12.8 MB 9.2 MB/s eta 0:00:01\n",
      "     ---------------------- ----------------- 7.3/12.8 MB 9.7 MB/s eta 0:00:01\n",
      "     ------------------------- -------------- 8.3/12.8 MB 10.4 MB/s eta 0:00:01\n",
      "     ---------------------------- ----------- 9.2/12.8 MB 10.8 MB/s eta 0:00:01\n",
      "     ------------------------------ -------- 10.1/12.8 MB 11.1 MB/s eta 0:00:01\n",
      "     --------------------------------- ----- 10.9/12.8 MB 13.9 MB/s eta 0:00:01\n",
      "     ------------------------------------ -- 11.8/12.8 MB 16.4 MB/s eta 0:00:01\n",
      "     --------------------------------------  12.8/12.8 MB 16.8 MB/s eta 0:00:01\n",
      "     --------------------------------------  12.8/12.8 MB 16.8 MB/s eta 0:00:01\n",
      "     --------------------------------------- 12.8/12.8 MB 15.2 MB/s eta 0:00:00\n",
      "\u001b[38;5;2m[+] Download and installation successful\u001b[0m\n",
      "You can now load the package via spacy.load('en_core_web_sm')\n"
     ]
    }
   ],
   "source": [
    "!python -m spacy download en_core_web_sm"
   ]
  },
  {
   "cell_type": "code",
   "execution_count": 21,
   "id": "74152344",
   "metadata": {
    "scrolled": true
   },
   "outputs": [
    {
     "data": {
      "text/html": [
       "<span class=\"tex2jax_ignore\"><svg xmlns=\"http://www.w3.org/2000/svg\" xmlns:xlink=\"http://www.w3.org/1999/xlink\" xml:lang=\"en\" id=\"3933c163ca5d4918a6019fd00661c7b7-0\" class=\"displacy\" width=\"1100\" height=\"312.0\" direction=\"ltr\" style=\"max-width: none; height: 312.0px; color: #000000; background: #ffffff; font-family: Arial; direction: ltr\">\n",
       "<text class=\"displacy-token\" fill=\"currentColor\" text-anchor=\"middle\" y=\"222.0\">\n",
       "    <tspan class=\"displacy-word\" fill=\"currentColor\" x=\"50\">Apple</tspan>\n",
       "    <tspan class=\"displacy-tag\" dy=\"2em\" fill=\"currentColor\" x=\"50\">PROPN</tspan>\n",
       "</text>\n",
       "\n",
       "<text class=\"displacy-token\" fill=\"currentColor\" text-anchor=\"middle\" y=\"222.0\">\n",
       "    <tspan class=\"displacy-word\" fill=\"currentColor\" x=\"225\">was</tspan>\n",
       "    <tspan class=\"displacy-tag\" dy=\"2em\" fill=\"currentColor\" x=\"225\">AUX</tspan>\n",
       "</text>\n",
       "\n",
       "<text class=\"displacy-token\" fill=\"currentColor\" text-anchor=\"middle\" y=\"222.0\">\n",
       "    <tspan class=\"displacy-word\" fill=\"currentColor\" x=\"400\">founded</tspan>\n",
       "    <tspan class=\"displacy-tag\" dy=\"2em\" fill=\"currentColor\" x=\"400\">VERB</tspan>\n",
       "</text>\n",
       "\n",
       "<text class=\"displacy-token\" fill=\"currentColor\" text-anchor=\"middle\" y=\"222.0\">\n",
       "    <tspan class=\"displacy-word\" fill=\"currentColor\" x=\"575\">by</tspan>\n",
       "    <tspan class=\"displacy-tag\" dy=\"2em\" fill=\"currentColor\" x=\"575\">ADP</tspan>\n",
       "</text>\n",
       "\n",
       "<text class=\"displacy-token\" fill=\"currentColor\" text-anchor=\"middle\" y=\"222.0\">\n",
       "    <tspan class=\"displacy-word\" fill=\"currentColor\" x=\"750\">Steve</tspan>\n",
       "    <tspan class=\"displacy-tag\" dy=\"2em\" fill=\"currentColor\" x=\"750\">PROPN</tspan>\n",
       "</text>\n",
       "\n",
       "<text class=\"displacy-token\" fill=\"currentColor\" text-anchor=\"middle\" y=\"222.0\">\n",
       "    <tspan class=\"displacy-word\" fill=\"currentColor\" x=\"925\">Jobs.</tspan>\n",
       "    <tspan class=\"displacy-tag\" dy=\"2em\" fill=\"currentColor\" x=\"925\">PROPN</tspan>\n",
       "</text>\n",
       "\n",
       "<g class=\"displacy-arrow\">\n",
       "    <path class=\"displacy-arc\" id=\"arrow-3933c163ca5d4918a6019fd00661c7b7-0-0\" stroke-width=\"2px\" d=\"M70,177.0 C70,2.0 400.0,2.0 400.0,177.0\" fill=\"none\" stroke=\"currentColor\"/>\n",
       "    <text dy=\"1.25em\" style=\"font-size: 0.8em; letter-spacing: 1px\">\n",
       "        <textPath xlink:href=\"#arrow-3933c163ca5d4918a6019fd00661c7b7-0-0\" class=\"displacy-label\" startOffset=\"50%\" side=\"left\" fill=\"currentColor\" text-anchor=\"middle\">nsubjpass</textPath>\n",
       "    </text>\n",
       "    <path class=\"displacy-arrowhead\" d=\"M70,179.0 L62,167.0 78,167.0\" fill=\"currentColor\"/>\n",
       "</g>\n",
       "\n",
       "<g class=\"displacy-arrow\">\n",
       "    <path class=\"displacy-arc\" id=\"arrow-3933c163ca5d4918a6019fd00661c7b7-0-1\" stroke-width=\"2px\" d=\"M245,177.0 C245,89.5 395.0,89.5 395.0,177.0\" fill=\"none\" stroke=\"currentColor\"/>\n",
       "    <text dy=\"1.25em\" style=\"font-size: 0.8em; letter-spacing: 1px\">\n",
       "        <textPath xlink:href=\"#arrow-3933c163ca5d4918a6019fd00661c7b7-0-1\" class=\"displacy-label\" startOffset=\"50%\" side=\"left\" fill=\"currentColor\" text-anchor=\"middle\">auxpass</textPath>\n",
       "    </text>\n",
       "    <path class=\"displacy-arrowhead\" d=\"M245,179.0 L237,167.0 253,167.0\" fill=\"currentColor\"/>\n",
       "</g>\n",
       "\n",
       "<g class=\"displacy-arrow\">\n",
       "    <path class=\"displacy-arc\" id=\"arrow-3933c163ca5d4918a6019fd00661c7b7-0-2\" stroke-width=\"2px\" d=\"M420,177.0 C420,89.5 570.0,89.5 570.0,177.0\" fill=\"none\" stroke=\"currentColor\"/>\n",
       "    <text dy=\"1.25em\" style=\"font-size: 0.8em; letter-spacing: 1px\">\n",
       "        <textPath xlink:href=\"#arrow-3933c163ca5d4918a6019fd00661c7b7-0-2\" class=\"displacy-label\" startOffset=\"50%\" side=\"left\" fill=\"currentColor\" text-anchor=\"middle\">agent</textPath>\n",
       "    </text>\n",
       "    <path class=\"displacy-arrowhead\" d=\"M570.0,179.0 L578.0,167.0 562.0,167.0\" fill=\"currentColor\"/>\n",
       "</g>\n",
       "\n",
       "<g class=\"displacy-arrow\">\n",
       "    <path class=\"displacy-arc\" id=\"arrow-3933c163ca5d4918a6019fd00661c7b7-0-3\" stroke-width=\"2px\" d=\"M770,177.0 C770,89.5 920.0,89.5 920.0,177.0\" fill=\"none\" stroke=\"currentColor\"/>\n",
       "    <text dy=\"1.25em\" style=\"font-size: 0.8em; letter-spacing: 1px\">\n",
       "        <textPath xlink:href=\"#arrow-3933c163ca5d4918a6019fd00661c7b7-0-3\" class=\"displacy-label\" startOffset=\"50%\" side=\"left\" fill=\"currentColor\" text-anchor=\"middle\">compound</textPath>\n",
       "    </text>\n",
       "    <path class=\"displacy-arrowhead\" d=\"M770,179.0 L762,167.0 778,167.0\" fill=\"currentColor\"/>\n",
       "</g>\n",
       "\n",
       "<g class=\"displacy-arrow\">\n",
       "    <path class=\"displacy-arc\" id=\"arrow-3933c163ca5d4918a6019fd00661c7b7-0-4\" stroke-width=\"2px\" d=\"M595,177.0 C595,2.0 925.0,2.0 925.0,177.0\" fill=\"none\" stroke=\"currentColor\"/>\n",
       "    <text dy=\"1.25em\" style=\"font-size: 0.8em; letter-spacing: 1px\">\n",
       "        <textPath xlink:href=\"#arrow-3933c163ca5d4918a6019fd00661c7b7-0-4\" class=\"displacy-label\" startOffset=\"50%\" side=\"left\" fill=\"currentColor\" text-anchor=\"middle\">pobj</textPath>\n",
       "    </text>\n",
       "    <path class=\"displacy-arrowhead\" d=\"M925.0,179.0 L933.0,167.0 917.0,167.0\" fill=\"currentColor\"/>\n",
       "</g>\n",
       "</svg></span>"
      ],
      "text/plain": [
       "<IPython.core.display.HTML object>"
      ]
     },
     "metadata": {},
     "output_type": "display_data"
    }
   ],
   "source": [
    "import spacy\n",
    "\n",
    "# Load spaCy's small English model with dependency parsing and POS tagging\n",
    "nlp = spacy.load(\"en_core_web_sm\")\n",
    "\n",
    "# Example sentence\n",
    "text = \"Apple was founded by Steve Jobs.\"\n",
    "\n",
    "# Process the text\n",
    "doc = nlp(text)\n",
    "\n",
    "# Visual inspection \n",
    "from spacy import displacy\n",
    "displacy.render(doc, style=\"dep\")"
   ]
  },
  {
   "cell_type": "markdown",
   "id": "d4000776",
   "metadata": {},
   "source": [
    "<span style=\"color:blue\">Relation extraction</span>"
   ]
  },
  {
   "cell_type": "markdown",
   "id": "19e2bd4c",
   "metadata": {},
   "source": [
    "<span style=\"color:green\">Document the extraction rules or model setup\n",
    "</span>"
   ]
  },
  {
   "cell_type": "code",
   "execution_count": 22,
   "id": "35e58b28",
   "metadata": {},
   "outputs": [
    {
     "name": "stdout",
     "output_type": "stream",
     "text": [
      "Extracted Relations: [('Apple', 'founded', 'Jobs')]\n"
     ]
    }
   ],
   "source": [
    "# Extract relations based on subject-verb-object structure\n",
    "relations = []\n",
    "\n",
    "for token in doc:\n",
    "    # Check for passive or active subject\n",
    "    if token.dep_ in (\"nsubj\", \"nsubjpass\") and token.head.dep_ == \"ROOT\":\n",
    "        subject = token.text\n",
    "        predicate = token.head.text\n",
    "        # Look for agent or prepositional object\n",
    "        for child in token.head.children:\n",
    "            if child.dep_ in (\"prep\", \"agent\"):\n",
    "                for obj in child.children:\n",
    "                    if obj.dep_ == \"pobj\":\n",
    "                        relations.append((subject, predicate, obj.text))\n",
    "\n",
    "print(\"Extracted Relations:\", relations)"
   ]
  },
  {
   "cell_type": "markdown",
   "id": "1201d367",
   "metadata": {},
   "source": [
    "This indicates that the system successfully extracted a basic subject-predicate-object relation from the passive sentence \"Apple was founded by Steve Jobs.\" The full name \"Steve Jobs\" can be recovered using compound detection, which is a possible rule to add."
   ]
  },
  {
   "cell_type": "markdown",
   "id": "705eb34c",
   "metadata": {},
   "source": [
    "<span style=\"color:green\">[Optionally], align the extracted relations with ontology, such as Schema.org, DBpedia\n",
    "Ontology, or FOAF (You may need third part tool for this purpose, such as silkframework)\n",
    "</span>\n"
   ]
  },
  {
   "cell_type": "markdown",
   "id": "5f71a23c",
   "metadata": {},
   "source": [
    "By default, only the object token (e.g., “Jobs”) is returned in the relation. However, entities like \"Steve Jobs\" should be treated as a single object. We improve the extraction by combining compound tokens into full names."
   ]
  },
  {
   "cell_type": "markdown",
   "id": "12641657",
   "metadata": {},
   "source": [
    "Updated Code with Compound Extraction"
   ]
  },
  {
   "cell_type": "code",
   "execution_count": 23,
   "id": "b4488b15",
   "metadata": {},
   "outputs": [
    {
     "name": "stdout",
     "output_type": "stream",
     "text": [
      "Improved Extracted Relations: [('Apple', 'founded', 'Steve Jobs')]\n"
     ]
    }
   ],
   "source": [
    "import spacy\n",
    "\n",
    "# Load model\n",
    "nlp = spacy.load(\"en_core_web_sm\")\n",
    "\n",
    "# Example sentence\n",
    "text = \"Apple was founded by Steve Jobs.\"\n",
    "doc = nlp(text)\n",
    "\n",
    "# Improved extraction with compound recovery\n",
    "relations = []\n",
    "\n",
    "for token in doc:\n",
    "    if token.dep_ in (\"nsubj\", \"nsubjpass\") and token.head.dep_ == \"ROOT\":\n",
    "        subject = token.text\n",
    "        predicate = token.head.text\n",
    "        for child in token.head.children:\n",
    "            if child.dep_ in (\"prep\", \"agent\"):\n",
    "                for obj in child.children:\n",
    "                    if obj.dep_ == \"pobj\":\n",
    "                        # Reconstruct full object with compound children\n",
    "                        compounds = [child.text for child in obj.lefts if child.dep_ == \"compound\"]\n",
    "                        full_object = \" \".join(compounds + [obj.text])\n",
    "                        relations.append((subject, predicate, full_object))\n",
    "\n",
    "print(\"Improved Extracted Relations:\", relations)\n"
   ]
  },
  {
   "cell_type": "markdown",
   "id": "090b88a4",
   "metadata": {},
   "source": [
    "Now the model properly extracts the full entity name"
   ]
  },
  {
   "cell_type": "markdown",
   "id": "874a44a2",
   "metadata": {},
   "source": [
    "**Rule 1:** Passive voice extraction (nsubjpass + agent/prep + pobj)"
   ]
  },
  {
   "cell_type": "markdown",
   "id": "a62152cb",
   "metadata": {},
   "source": [
    "This rule targets passive voice constructions, where the subject is acted upon by someone or something, often using “was” or “is” + past participle."
   ]
  },
  {
   "cell_type": "code",
   "execution_count": 24,
   "id": "69b35b48",
   "metadata": {},
   "outputs": [
    {
     "name": "stdout",
     "output_type": "stream",
     "text": [
      "Extracted relation: [('Apple', 'founded', 'Jobs')]\n"
     ]
    }
   ],
   "source": [
    "import spacy\n",
    "nlp = spacy.load(\"en_core_web_sm\")\n",
    "\n",
    "doc = nlp(\"Apple was founded by Steve Jobs\")\n",
    "\n",
    "relations = []\n",
    "for token in doc:\n",
    "    if token.dep_ == \"nsubjpass\" and token.head.dep_ == \"ROOT\":\n",
    "        subject = token.text\n",
    "        predicate = token.head.text\n",
    "        for child in token.head.children:\n",
    "            if child.dep_ in (\"prep\", \"agent\"):\n",
    "                for obj in child.children:\n",
    "                    if obj.dep_ == \"pobj\":\n",
    "                        relations.append((subject, predicate, obj.text))\n",
    "print(\"Extracted relation:\", relations)"
   ]
  },
  {
   "cell_type": "markdown",
   "id": "132e4d68",
   "metadata": {},
   "source": [
    "**Rule 2:** Active voice extraction (nsubj + root + dobj)"
   ]
  },
  {
   "cell_type": "markdown",
   "id": "48522c39",
   "metadata": {},
   "source": [
    "This rule targets active voice sentences, where the subject performs the action directly."
   ]
  },
  {
   "cell_type": "code",
   "execution_count": 25,
   "id": "9e3558e0",
   "metadata": {},
   "outputs": [
    {
     "name": "stdout",
     "output_type": "stream",
     "text": [
      "Extracted relation: [('Jobs', 'founded', 'Apple')]\n"
     ]
    }
   ],
   "source": [
    "doc = nlp(\"Steve Jobs founded Apple.\")\n",
    "\n",
    "relations = []\n",
    "for token in doc:\n",
    "    if token.dep_ == \"nsubj\" and token.head.dep_ == \"ROOT\":\n",
    "        subject = token.text\n",
    "        predicate = token.head.text\n",
    "        for child in token.head.children:\n",
    "            if child.dep_ == \"dobj\":\n",
    "                relations.append((subject, predicate, child.text))\n",
    "print(\"Extracted relation:\", relations)"
   ]
  },
  {
   "cell_type": "markdown",
   "id": "5d25177a",
   "metadata": {},
   "source": [
    "**Rule 3:** Compound entity handling in subject or object"
   ]
  },
  {
   "cell_type": "markdown",
   "id": "fd8b80a6",
   "metadata": {},
   "source": [
    "This rule improves the previous ones by reconstructing full names or multi-word entities using the compound dependency."
   ]
  },
  {
   "cell_type": "code",
   "execution_count": 26,
   "id": "56131f45",
   "metadata": {},
   "outputs": [
    {
     "name": "stdout",
     "output_type": "stream",
     "text": [
      "Extracted relation: [('Steve Jobs', 'founded', 'Apple')]\n"
     ]
    }
   ],
   "source": [
    "doc = nlp(\"Steve Jobs founded Apple.\")\n",
    "\n",
    "relations = []\n",
    "for token in doc:\n",
    "    if token.dep_ == \"nsubj\" and token.head.dep_ == \"ROOT\":\n",
    "        predicate = token.head.text\n",
    "        compounds = [child.text for child in token.lefts if child.dep_ == \"compound\"]\n",
    "        subject = \" \".join(compounds + [token.text])\n",
    "        for child in token.head.children:\n",
    "            if child.dep_ == \"dobj\":\n",
    "                relations.append((subject, predicate, child.text))\n",
    "print(\"Extracted relation:\", relations)"
   ]
  },
  {
   "cell_type": "markdown",
   "id": "89ce1c7e",
   "metadata": {},
   "source": [
    "Each rule targets a specific syntactic structure.\n",
    "For example, Rule 1 requires a passive voice sentence, while Rule 2 targets active constructions.\n",
    "As a result, we use different example sentences to match the grammar required by each extraction rule.\n",
    "Rule 3 is applied on top of the others to improve entity reconstruction with compounds."
   ]
  },
  {
   "cell_type": "markdown",
   "id": "f2d6ba24",
   "metadata": {},
   "source": [
    "**Knowledge Graph Building:**"
   ]
  },
  {
   "cell_type": "markdown",
   "id": "52d4c09f",
   "metadata": {},
   "source": [
    "<span style=\"color:green\">Convert the extracted entities and relations into RDF triples (subject, predicate, object).\n",
    "</span>"
   ]
  },
  {
   "cell_type": "markdown",
   "id": "f9405f68",
   "metadata": {},
   "source": [
    "Create and Populate the Knowledge Graph (RDF Triples)"
   ]
  },
  {
   "cell_type": "code",
   "execution_count": 27,
   "id": "be59eacf",
   "metadata": {},
   "outputs": [
    {
     "name": "stdout",
     "output_type": "stream",
     "text": [
      "@prefix ns1: <http://example.org/> .\n",
      "\n",
      "ns1:Apple a ns1:Company ;\n",
      "    ns1:founded_by ns1:Steve_Jobs .\n",
      "\n",
      "ns1:Steve_Jobs a ns1:Person .\n",
      "\n",
      "\n"
     ]
    }
   ],
   "source": [
    "from rdflib import Graph, URIRef, Namespace\n",
    "from rdflib.namespace import RDF\n",
    "\n",
    "# Create a new RDF graph\n",
    "g = Graph()\n",
    "\n",
    "# Define a simple namespace for our entities and relations\n",
    "EX = Namespace(\"http://example.org/\")\n",
    "\n",
    "# Add extracted triplets from previous relation extraction step\n",
    "# Example: (\"Apple\", \"founded\", \"Steve Jobs\")\n",
    "g.add((URIRef(EX.Apple), RDF.type, URIRef(EX.Company)))\n",
    "g.add((URIRef(EX.Steve_Jobs), RDF.type, URIRef(EX.Person)))\n",
    "g.add((URIRef(EX.Apple), EX.founded_by, URIRef(EX.Steve_Jobs)))\n",
    "\n",
    "# Serialize the graph to check structure\n",
    "print(g.serialize(format=\"turtle\"))"
   ]
  },
  {
   "cell_type": "markdown",
   "id": "ced27377",
   "metadata": {},
   "source": [
    "We replace spaces with underscores for RDF URIs (Steve Jobs becomes Steve_Jobs)."
   ]
  },
  {
   "cell_type": "markdown",
   "id": "aa50ea30",
   "metadata": {},
   "source": [
    "<span style=\"color:green\">Load the triples into a graph database (e.g., Apache JENA or RDFLib) and perform simple\n",
    "SPARQL queries to verify your graph\n",
    "</span>"
   ]
  },
  {
   "cell_type": "markdown",
   "id": "b34cb26a",
   "metadata": {},
   "source": [
    "SPARQL Query to Explore the Graph"
   ]
  },
  {
   "cell_type": "code",
   "execution_count": 28,
   "id": "ee8e568e",
   "metadata": {},
   "outputs": [
    {
     "name": "stdout",
     "output_type": "stream",
     "text": [
      "Founded by Steve Jobs: http://example.org/Apple\n"
     ]
    }
   ],
   "source": [
    "# Query: Find all entities founded by Steve Jobs\n",
    "query = \"\"\"\n",
    "PREFIX ex: <http://example.org/>\n",
    "SELECT ?subject\n",
    "WHERE {\n",
    "  ?subject ex:founded_by ex:Steve_Jobs .\n",
    "}\n",
    "\"\"\"\n",
    "\n",
    "# Execute and print results\n",
    "for row in g.query(query):\n",
    "    print(\"Founded by Steve Jobs:\", row.subject)"
   ]
  },
  {
   "cell_type": "markdown",
   "id": "025f6054",
   "metadata": {},
   "source": [
    "This query returns all entities linked by the founded_by relationship with Steve_Jobs."
   ]
  },
  {
   "cell_type": "markdown",
   "id": "4c7b2b16",
   "metadata": {},
   "source": [
    " Now we need to build a small knowledge graph from the text given in the StarWars statement "
   ]
  },
  {
   "cell_type": "code",
   "execution_count": 29,
   "id": "0390b13e",
   "metadata": {},
   "outputs": [],
   "source": [
    "from rdflib import Graph, URIRef, Literal, Namespace  \n",
    "from rdflib.namespace import RDF"
   ]
  },
  {
   "cell_type": "code",
   "execution_count": 30,
   "id": "05a8934b",
   "metadata": {},
   "outputs": [
    {
     "data": {
      "text/plain": [
       "<Graph identifier=N0352f2d910a746ca967d9ad1f58d3c79 (<class 'rdflib.graph.Graph'>)>"
      ]
     },
     "execution_count": 30,
     "metadata": {},
     "output_type": "execute_result"
    }
   ],
   "source": [
    "# Additional RDF triples\n",
    "g.add((EX.Star_Wars_IV, RDF.type, EX.Movie))\n",
    "g.add((EX.Luke, RDF.type, EX.Jedi))\n",
    "g.add((EX.Luke, EX.species, EX.Human))\n",
    "g.add((EX.Yoda, RDF.type, EX.Jedi))\n",
    "g.add((EX.Yoda, EX.species, EX.Unknown))\n",
    "g.add((EX.Chewbacca, RDF.type, EX.Wookie))\n",
    "g.add((EX.Chewbacca, EX.co_pilot_of, EX.Millennium_Falcon))\n",
    "g.add((EX.Millennium_Falcon, RDF.type, EX.Starship))\n",
    "g.add((EX.Millennium_Falcon, EX.speed, Literal(1.5)))"
   ]
  },
  {
   "cell_type": "code",
   "execution_count": 31,
   "id": "e956e4e3",
   "metadata": {
    "scrolled": true
   },
   "outputs": [
    {
     "name": "stdout",
     "output_type": "stream",
     "text": [
      "All RDF Triples in the Graph:\n",
      "http://example.org/Steve_Jobs http://www.w3.org/1999/02/22-rdf-syntax-ns#type http://example.org/Person\n",
      "http://example.org/Luke http://example.org/species http://example.org/Human\n",
      "http://example.org/Apple http://example.org/founded_by http://example.org/Steve_Jobs\n",
      "http://example.org/Millennium_Falcon http://www.w3.org/1999/02/22-rdf-syntax-ns#type http://example.org/Starship\n",
      "http://example.org/Yoda http://example.org/species http://example.org/Unknown\n",
      "http://example.org/Yoda http://www.w3.org/1999/02/22-rdf-syntax-ns#type http://example.org/Jedi\n",
      "http://example.org/Millennium_Falcon http://example.org/speed 1.5\n",
      "http://example.org/Star_Wars_IV http://www.w3.org/1999/02/22-rdf-syntax-ns#type http://example.org/Movie\n",
      "http://example.org/Apple http://www.w3.org/1999/02/22-rdf-syntax-ns#type http://example.org/Company\n",
      "http://example.org/Luke http://www.w3.org/1999/02/22-rdf-syntax-ns#type http://example.org/Jedi\n",
      "http://example.org/Chewbacca http://www.w3.org/1999/02/22-rdf-syntax-ns#type http://example.org/Wookie\n",
      "http://example.org/Chewbacca http://example.org/co_pilot_of http://example.org/Millennium_Falcon\n"
     ]
    }
   ],
   "source": [
    "print(\"All RDF Triples in the Graph:\")\n",
    "for subj, pred, obj in g:\n",
    "    print(subj, pred, obj)"
   ]
  },
  {
   "cell_type": "markdown",
   "id": "5dfb88f1",
   "metadata": {},
   "source": [
    "We extended our knowledge graph with RDF triples extracted from the Star Wars scenario. Each entity (e.g., Luke, Yoda, Chewbacca) was linked to classes (e.g., Jedi, Wookie) and relationships (e.g., species, co_pilot_of, speed)."
   ]
  },
  {
   "cell_type": "markdown",
   "id": "1d1339ae",
   "metadata": {},
   "source": [
    "Literal values such as speed (1.5) were represented using Literal()."
   ]
  },
  {
   "cell_type": "markdown",
   "id": "bb3009a6",
   "metadata": {},
   "source": [
    "SPARQL Query on Star Wars text "
   ]
  },
  {
   "cell_type": "code",
   "execution_count": 32,
   "id": "62704652",
   "metadata": {},
   "outputs": [
    {
     "name": "stdout",
     "output_type": "stream",
     "text": [
      "Star Wars Entities and Their Types:\n",
      "🔹 Apple is a Company\n",
      "🔹 Steve_Jobs is a Person\n",
      "🔹 Star_Wars_IV is a Movie\n",
      "🔹 Luke is a Jedi\n",
      "🔹 Yoda is a Jedi\n",
      "🔹 Chewbacca is a Wookie\n",
      "🔹 Millennium_Falcon is a Starship\n"
     ]
    }
   ],
   "source": [
    "# SPARQL query to list all individuals and their rdf:type\n",
    "query_all_types = \"\"\"\n",
    "PREFIX ex: <http://example.org/>\n",
    "PREFIX rdf: <http://www.w3.org/1999/02/22-rdf-syntax-ns#>\n",
    "SELECT ?individual ?type\n",
    "WHERE {\n",
    "  ?individual rdf:type ?type .\n",
    "}\n",
    "\"\"\"\n",
    "\n",
    "print(\"Star Wars Entities and Their Types:\")\n",
    "for row in g.query(query_all_types):\n",
    "    print(\"🔹\", row.individual.split(\"/\")[-1], \"is a\", row.type.split(\"/\")[-1])"
   ]
  },
  {
   "cell_type": "markdown",
   "id": "cb820b20",
   "metadata": {},
   "source": [
    "<span style=\"color:green\">[Optionally], map entities to external identifiers using tools like DBpedia Spotlight for\n",
    "improved integration\n",
    "</span>"
   ]
  },
  {
   "cell_type": "markdown",
   "id": "46c4cb6d",
   "metadata": {},
   "source": [
    "Code with DBpedia Spotlight REST API "
   ]
  },
  {
   "cell_type": "code",
   "execution_count": 33,
   "id": "3cc00591",
   "metadata": {},
   "outputs": [
    {
     "name": "stdout",
     "output_type": "stream",
     "text": [
      "Mention: Luke → URI: http://dbpedia.org/resource/Luke_Skywalker\n",
      "Mention: Jedi → URI: http://dbpedia.org/resource/Jedi\n",
      "Mention: Chewbacca → URI: http://dbpedia.org/resource/Chewbacca\n",
      "Mention: Han Solo → URI: http://dbpedia.org/resource/Han_Solo\n",
      "Mention: Millennium Falcon → URI: http://dbpedia.org/resource/Millennium_Falcon\n"
     ]
    },
    {
     "name": "stderr",
     "output_type": "stream",
     "text": [
      "C:\\Users\\ngera\\anaconda33\\Lib\\site-packages\\urllib3\\connectionpool.py:1056: InsecureRequestWarning: Unverified HTTPS request is being made to host 'api.dbpedia-spotlight.org'. Adding certificate verification is strongly advised. See: https://urllib3.readthedocs.io/en/1.26.x/advanced-usage.html#ssl-warnings\n",
      "  warnings.warn(\n"
     ]
    }
   ],
   "source": [
    "import requests\n",
    "\n",
    "def annotate_with_dbpedia_spotlight(text, confidence=0.5):\n",
    "    url = \"https://api.dbpedia-spotlight.org/en/annotate\"\n",
    "    headers = {'Accept': 'application/json'}\n",
    "    params = {\n",
    "        'text': text,\n",
    "        'confidence': confidence\n",
    "    }\n",
    "\n",
    "    # Ignore SSL certificate verification (not secure)\n",
    "    response = requests.get(url, headers=headers, params=params, verify=False)\n",
    "\n",
    "    if response.status_code == 200:\n",
    "        data = response.json()\n",
    "        resources = data.get(\"Resources\", [])\n",
    "        for res in resources:\n",
    "            print(f\"Mention: {res['@surfaceForm']} → URI: {res['@URI']}\")\n",
    "    else:\n",
    "        print(\"Request failed with status:\", response.status_code)\n",
    "\n",
    "# Test with a sentence from Star Wars\n",
    "text = \"Luke is a Jedi and Chewbacca is Han Solo's co-pilot on the Millennium Falcon.\"\n",
    "annotate_with_dbpedia_spotlight(text)\n"
   ]
  },
  {
   "cell_type": "markdown",
   "id": "af5e9bfb",
   "metadata": {},
   "source": [
    "In this case, I have disabled SSL verification. Be careful, as this is not a secure method, and should not be used on sensitive data. "
   ]
  },
  {
   "cell_type": "markdown",
   "id": "00515ac9",
   "metadata": {},
   "source": [
    "We used DBpedia Spotlight to map the detected entities from the Star Wars text to real-world knowledge base identifiers."
   ]
  },
  {
   "cell_type": "markdown",
   "id": "cafa5d5b",
   "metadata": {},
   "source": [
    "### Task 2 : Pipeline for Knowledge Graph Construction"
   ]
  },
  {
   "cell_type": "markdown",
   "id": "c6a64c89",
   "metadata": {},
   "source": [
    "**Fetch News Articles:**"
   ]
  },
  {
   "cell_type": "markdown",
   "id": "f8cc2170",
   "metadata": {},
   "source": [
    "<span style=\"color:green\">Write a web scraping script to fetch at least 10 news articles from reuters.com. (It is adviced to\n",
    "choose news from a specific category to obtain NEs in common)\n",
    "</span>"
   ]
  },
  {
   "cell_type": "markdown",
   "id": "384e754f",
   "metadata": {},
   "source": [
    "<span style=\"color:green\">Extract the main content, title, and publication date of each article.\n",
    "</span> "
   ]
  },
  {
   "cell_type": "code",
   "execution_count": 34,
   "id": "d53673f3",
   "metadata": {},
   "outputs": [
    {
     "name": "stdout",
     "output_type": "stream",
     "text": [
      "Requirement already satisfied: selenium in c:\\users\\ngera\\anaconda33\\lib\\site-packages (4.30.0)\n",
      "Requirement already satisfied: urllib3[socks]<3,>=1.26 in c:\\users\\ngera\\anaconda33\\lib\\site-packages (from selenium) (1.26.16)\n",
      "Requirement already satisfied: trio~=0.17 in c:\\users\\ngera\\anaconda33\\lib\\site-packages (from selenium) (0.29.0)\n",
      "Requirement already satisfied: trio-websocket~=0.9 in c:\\users\\ngera\\anaconda33\\lib\\site-packages (from selenium) (0.12.2)\n",
      "Requirement already satisfied: certifi>=2021.10.8 in c:\\users\\ngera\\anaconda33\\lib\\site-packages (from selenium) (2023.7.22)\n",
      "Requirement already satisfied: typing_extensions~=4.9 in c:\\users\\ngera\\anaconda33\\lib\\site-packages (from selenium) (4.11.0)\n",
      "Requirement already satisfied: websocket-client~=1.8 in c:\\users\\ngera\\anaconda33\\lib\\site-packages (from selenium) (1.8.0)\n",
      "Requirement already satisfied: attrs>=23.2.0 in c:\\users\\ngera\\anaconda33\\lib\\site-packages (from trio~=0.17->selenium) (25.3.0)\n",
      "Requirement already satisfied: sortedcontainers in c:\\users\\ngera\\anaconda33\\lib\\site-packages (from trio~=0.17->selenium) (2.4.0)\n",
      "Requirement already satisfied: idna in c:\\users\\ngera\\anaconda33\\lib\\site-packages (from trio~=0.17->selenium) (3.4)\n",
      "Requirement already satisfied: outcome in c:\\users\\ngera\\anaconda33\\lib\\site-packages (from trio~=0.17->selenium) (1.3.0.post0)\n",
      "Requirement already satisfied: sniffio>=1.3.0 in c:\\users\\ngera\\anaconda33\\lib\\site-packages (from trio~=0.17->selenium) (1.3.1)\n",
      "Requirement already satisfied: cffi>=1.14 in c:\\users\\ngera\\anaconda33\\lib\\site-packages (from trio~=0.17->selenium) (1.15.1)\n",
      "Requirement already satisfied: wsproto>=0.14 in c:\\users\\ngera\\anaconda33\\lib\\site-packages (from trio-websocket~=0.9->selenium) (1.2.0)\n",
      "Requirement already satisfied: PySocks!=1.5.7,<2.0,>=1.5.6 in c:\\users\\ngera\\anaconda33\\lib\\site-packages (from urllib3[socks]<3,>=1.26->selenium) (1.7.1)\n",
      "Requirement already satisfied: pycparser in c:\\users\\ngera\\anaconda33\\lib\\site-packages (from cffi>=1.14->trio~=0.17->selenium) (2.21)\n",
      "Requirement already satisfied: h11<1,>=0.9.0 in c:\\users\\ngera\\anaconda33\\lib\\site-packages (from wsproto>=0.14->trio-websocket~=0.9->selenium) (0.14.0)\n"
     ]
    }
   ],
   "source": [
    "!pip install selenium"
   ]
  },
  {
   "cell_type": "code",
   "execution_count": 35,
   "id": "4503a0d1",
   "metadata": {},
   "outputs": [],
   "source": [
    "from selenium import webdriver\n",
    "from selenium.webdriver.chrome.options import Options\n",
    "from bs4 import BeautifulSoup\n",
    "import requests\n",
    "import time"
   ]
  },
  {
   "cell_type": "code",
   "execution_count": 36,
   "id": "f4d9ee53",
   "metadata": {},
   "outputs": [
    {
     "name": "stdout",
     "output_type": "stream",
     "text": [
      "HTML loaded. Preview of structure:\n",
      "<html lang=\"fr\">\n",
      " <head>\n",
      "  <title>\n",
      "   reuters.com\n",
      "  </title>\n",
      "  <style>\n",
      "   #cmsg{animation: A 1.5s;}@keyframes A{0%{opacity:0;}99%{opacity:0;}100%{opacity:1;}}\n",
      "  </style>\n",
      "  <meta content=\"width=device-width, initial-scale=1.0\" name=\"viewport\"/>\n",
      " </head>\n",
      " <body style=\"margin:0\">\n",
      "  <script data-cfasync=\"false\">\n",
      "   var dd={'rt':'c','cid':'AHrlqAAAAAMA7x2uytbVYZUAJali1w==','hsh':'2013457ADA70C67D6A4123E0A76873','t':'fe','qp':'','s':46743,'e':'43dba6c3764dbded723fae8291f8ea71766f708e1cfbd60d876f5a4443235a19','host':'geo.captcha-delivery.com','cookie':'~Hf9OtTFGoWSIJrrnoJKEQjYapGs0sPPhfj4uwx53IpfPLEQEZoAsIpGIJ9HamS2AIrF5ECL7LPGAIm~oB~3VgrhcdNRRly68DURWmGkZb87ojphawU4MFukhzpTiZKC'}\n",
      "  </script>\n",
      "  <script data-cfasync=\"false\" src=\"https://ct.captcha-delivery.com/c.js\">\n",
      "  </script>\n",
      "  <iframe border=\"0\" frameborder=\"0\" height=\"100%\" sandbox=\"allow-scripts allow-same-origin allow-forms\" scrolling=\"yes\" src=\"https://geo.captcha-delivery.com/captcha/?initialCid=AHrlqAAAAAMA7x2uytbVYZUAJali1w%3D%3D&amp;hash=2013457ADA70C67D6A4123E0A76873&amp;cid=~Hf9OtTFGoWSIJrrnoJKEQjYapGs0sPPhfj4uwx53IpfPLEQEZoAsIpGIJ9HamS2AIrF5ECL7LPGAIm~oB~3VgrhcdNRRly68DURWmGkZb87ojphawU4MFukhzpTiZKC&amp;t=fe&amp;referer=https%3A%2F%2Fwww.reuters.com%2Fworld%2F&amp;s=46743&amp;e=43dba6c3764dbded723fae8291f8ea71766f708e1cfbd60d876f5a4443235a19&amp;dm=cd\" style=\"height:100vh;\" title=\"DataDome CAPTCHA\" width=\"100%\">\n",
      "  </iframe>\n",
      " </body>\n",
      "</html>\n",
      "\n"
     ]
    }
   ],
   "source": [
    "# Configure headless Chrome to simulate a browser\n",
    "chrome_options = Options()\n",
    "chrome_options.add_argument(\"--headless\")  # Headless mode: browser runs in background\n",
    "chrome_options.add_argument(\"--no-sandbox\")\n",
    "chrome_options.add_argument(\"--disable-dev-shm-usage\")\n",
    "\n",
    "# Initialize the Selenium Chrome WebDriver\n",
    "driver = webdriver.Chrome(options=chrome_options)\n",
    "\n",
    "# Navigate to the World News section of Reuters\n",
    "url = \"https://www.reuters.com/world/\"\n",
    "driver.get(url)\n",
    "time.sleep(3)  # Wait for JavaScript to load\n",
    "\n",
    "# Extract page source and close browser\n",
    "page_source = driver.page_source\n",
    "driver.quit()\n",
    "\n",
    "# Parse the HTML using BeautifulSoup\n",
    "soup = BeautifulSoup(page_source, \"html.parser\")\n",
    "print(\"HTML loaded. Preview of structure:\")\n",
    "print(soup.prettify()[:2000])"
   ]
  },
  {
   "cell_type": "code",
   "execution_count": 37,
   "id": "5d8feda2",
   "metadata": {},
   "outputs": [],
   "source": [
    "# Extract article data (title, link, content, date)\n",
    "articles = []\n",
    "base_url = \"https://www.reuters.com\"\n",
    "\n",
    "for article in soup.find_all('article', limit=10):\n",
    "    try:\n",
    "        title_tag = article.find('h3')\n",
    "        if not title_tag:\n",
    "            continue\n",
    "        title = title_tag.get_text(strip=True)\n",
    "        link = article.find('a')['href']\n",
    "        article_url = base_url + link if link.startswith(\"/\") else link\n",
    "\n",
    "        article_response = requests.get(article_url)\n",
    "        article_soup = BeautifulSoup(article_response.content, 'html.parser')\n",
    "\n",
    "        # Content and date extraction with fallback\n",
    "        content_div = article_soup.find('div', class_='article-body__content') or \\\n",
    "                      article_soup.find('div', class_='StandardArticleBody_body')\n",
    "        content = content_div.get_text(strip=True) if content_div else \"No content found\"\n",
    "\n",
    "        pub_date_meta = article_soup.find('meta', {'name': 'article:published_time'})\n",
    "        publication_date = pub_date_meta['content'] if pub_date_meta else \"Unknown\"\n",
    "\n",
    "        articles.append({\n",
    "            'title': title,\n",
    "            'url': article_url,\n",
    "            'content': content,\n",
    "            'publication_date': publication_date\n",
    "        })\n",
    "    except Exception as e:\n",
    "        print(f\"Failed to parse article: {e}\")\n",
    "\n",
    "# Preview the scraped articles\n",
    "for article in articles:\n",
    "    print(f\"\\n{article['title']}\\n{article['publication_date']}\\n {article['url']}\\n{article['content'][:200]}...\\n\")"
   ]
  },
  {
   "cell_type": "markdown",
   "id": "ff2d26b7",
   "metadata": {},
   "source": [
    "I don't actually access Reuters content: the HTML I receive is a CAPTCHA from DataDome, an anti-bot protection mechanism used by Reuters."
   ]
  },
  {
   "cell_type": "markdown",
   "id": "7e6d6804",
   "metadata": {},
   "source": [
    "So I chose another news site that doesn't block Selenium bots, called NPR News (National Public Radio). It's in English as requested in the notice "
   ]
  },
  {
   "cell_type": "markdown",
   "id": "6046db36",
   "metadata": {},
   "source": [
    "<span style=\"color:blue\">Basic Implementation</span>"
   ]
  },
  {
   "cell_type": "code",
   "execution_count": 80,
   "id": "881e01a1",
   "metadata": {},
   "outputs": [
    {
     "name": "stdout",
     "output_type": "stream",
     "text": [
      "\n",
      "🔸 Netanyahu is set to meet Trump to talk tariffs and hostages in Gaza (2025-04-07)\n",
      "https://www.npr.org/2025/04/07/nx-s1-5354693/netanyahu-trump-meeting\n",
      "The conflict between Israel and Palestinians — and other groups in the Middle East — goes back decades. These stories provide context for current developments and the history that led up to them. By  \n",
      "\n",
      "      Hadeel Al-Shalchi\n",
      "    \n",
      " ,  \n",
      "\n",
      "      Aya Batrawy\n",
      "    \n",
      " \n",
      "                Israeli Prime Minister...\n",
      "\n",
      "\n",
      "🔸 UAW President Shawn Fain explains why he supports Trump's tariffs (2025-04-07)\n",
      "https://www.npr.org/2025/04/07/nx-s1-5352409/trump-auto-tariffs-uaw-shawn-fain\n",
      "\n",
      "\n",
      "      Steve Inskeep\n",
      "    \n",
      " \n",
      "                Shawn Fain, president of the United Auto Workers (UAW), during a campaign event with former U.S. Vice President Kamala Harris, in Flint, Mich., on Friday, Oct. 4, 2024.\n",
      "                \n",
      "                    \n",
      "                    Bloomberg/Via Getty Images\n",
      " ...\n",
      "\n",
      "\n",
      "🔸 Le Pen supporters rally in Paris, turning a protest into a populist show of force (2025-04-07)\n",
      "https://www.npr.org/2025/04/07/nx-s1-5354698/le-pen-france-conservative-populism\n",
      "By  \n",
      "\n",
      "      The Associated Press\n",
      "    \n",
      " \n",
      "                French far-right leader Marine Le Pen, left, reacts with Jordan Bardella during the French far-right party national rally near the parliament in Paris on Sunday.\n",
      "                \n",
      "                    \n",
      "                    Michel Euler/AP\n",
      "        ...\n",
      "\n",
      "\n",
      "🔸 Forecast of a week of rain adds to Myanmar earthquake woes, as death toll tops 3,500 (2025-04-07)\n",
      "https://www.npr.org/2025/04/07/nx-s1-5354691/myanmar-earthquake-rain\n",
      "By  \n",
      "\n",
      "      The Associated Press\n",
      "    \n",
      " \n",
      "                Visitors walk near damaged Maha Aungmye Bonzan Monastery, commonly known as the Me Nu Brick Monastery, in the aftermath of Friday's earthquake in Innwa, Tada-U township, Mandalay, Myanmar on Friday.\n",
      "                \n",
      "                    \n",
      "       ...\n",
      "\n",
      "\n",
      "🔸 Global stock markets in meltdown on fears over Trump tariffs (2025-04-06)\n",
      "https://www.npr.org/2025/04/06/nx-s1-5354258/global-markets-wall-street-trump-tariffs\n",
      "By  \n",
      "\n",
      "      Rachel Treisman\n",
      "    \n",
      " ,  \n",
      "\n",
      "      John Ruwitch\n",
      "    \n",
      " \n",
      "                An investor monitors share prices at a securities trading office on Monday in Hangzhou, China.\n",
      "\n",
      "                    \n",
      "                    Long Wei/VCG via Getty Images\n",
      "                    \n",
      "                \n",
      "hide caption\n",
      " ...\n",
      "\n",
      "\n",
      "🔸 Israeli strikes on Gaza kill at least 32, mostly women and children (2025-04-06)\n",
      "https://www.npr.org/2025/04/06/g-s1-58631/israeli-strikes-on-gaza-kill-at-least-32-mostly-women-and-children\n",
      "By  \n",
      "\n",
      "      The Associated Press\n",
      "    \n",
      " \n",
      "                A man passes by the destroyed house of journalist Islam Meqdad, where she was killed along with her son and five other family members in an Israeli army strike in Khan Younis, southern Gaza Strip, Sunday, April 6, 2025.\n",
      "                \n",
      "       ...\n",
      "\n",
      "\n",
      "🔸 Vietnam asks Trump to delay implementation of tariffs while the two sides negotiate (2025-04-06)\n",
      "https://www.npr.org/2025/04/06/nx-s1-5354134/vietnam-asks-trump-to-delay-implementation-of-tariffs-while-the-two-sides-negotiate\n",
      "\n",
      "\n",
      "      John Ruwitch\n",
      "    \n",
      " \n",
      "                Workers assemble electric cars at a Vinfast factory in Hai Phong, Vietnam, on Sept. 29, 2023.\n",
      "                \n",
      "                    \n",
      "                    Hau Dinh/AP\n",
      "                    \n",
      "                \n",
      "hide caption\n",
      " Vietnam has asked the United States to d...\n",
      "\n",
      "\n",
      "🔸 Yemen Houthi rebels say latest US strikes killed 2, day after Trump posted bomb video (2025-04-06)\n",
      "https://www.npr.org/2025/04/06/g-s1-58612/yemen-houthi-rebels-say-latest-us-strikes-killed-2-day-after-trump-posted-bomb-video\n",
      "By  \n",
      "\n",
      "      The Associated Press\n",
      "    \n",
      " \n",
      "                A Yemeni girl visits the graves of Houthis during Eid al-Fitr marking the end of the holy fasting month of Ramadan in Sanaa, Yemen, Sunday, March 30, 2025.\n",
      "                \n",
      "                    \n",
      "                    Osamah Abdulrahman/AP\n",
      "        ...\n",
      "\n",
      "\n",
      "🔸 1 killed in Russian attack on Kyiv as death toll from missile strike rises to 19 (2025-04-06)\n",
      "https://www.npr.org/2025/04/06/g-s1-58610/1-killed-in-russian-attack-on-kyiv-as-death-toll-from-missile-strike-rises-to-19\n",
      "By  \n",
      "\n",
      "      The Associated Press\n",
      "    \n",
      " \n",
      "                In this photo provided by the Ukrainian Emergency Service, emergency services personnel work to extinguish a fire following a Russian missile attack in Kyiv, Ukraine, Sunday, April 6, 2025.\n",
      "                \n",
      "                    \n",
      "                ...\n",
      "\n",
      "\n",
      "🔸 In 'free' Khartoum, the ruined streets smell of perfume and music plays (2025-04-06)\n",
      "https://www.npr.org/2025/04/06/nx-s1-5352288/in-free-khartoum-the-ruined-streets-smell-of-perfume-and-music-plays\n",
      "By  \n",
      "\n",
      "      Kate Bartlett\n",
      "    \n",
      " ,  \n",
      "\n",
      "      Emmanuel Akinwotu\n",
      "    \n",
      " \n",
      "                Army soldiers patrol a market area in Khartoum.\n",
      "                \n",
      "                    \n",
      "                    AFP via Getty Images/AFP\n",
      "                    \n",
      "                \n",
      "hide caption\n",
      " JOHANNESBURG, South Africa — \"I f...\n",
      "\n",
      "\n",
      "🔸 Jaguar and Land Rover maker pauses shipments to US as it develops post-tariff plans (2025-04-06)\n",
      "https://www.npr.org/2025/04/06/g-s1-58606/jaguar-land-rover-automotive-pauses-shipments-to-us\n",
      "By  \n",
      "\n",
      "      The Associated Press\n",
      "    \n",
      " \n",
      "                FILE - An unsold 2021 F-Type coupe sits at a Jaguar dealership in this photograph taken Sunday, May 2, 2021, in Littleton, Colo.\n",
      "                \n",
      "                    \n",
      "                    David Zalubowski/AP\n",
      "                    \n",
      "                ...\n",
      "\n",
      "\n",
      "🔸 Amadou Bagayoko, one half of Malian duo Amadou & Mariam, dies at 70 (2025-04-06)\n",
      "https://www.npr.org/2025/04/06/nx-s1-5354064/amadou-bagayoko-dies-at-70\n",
      "By  \n",
      "\n",
      "      The Associated Press\n",
      "    \n",
      " \n",
      "                FILE - Blind duo from Mali, Amadou Bagayoko, right, and Mariam Doumbia, seen, during a concert in Paris, Monday, Dec. 1, 2008.\n",
      "                \n",
      "                    \n",
      "                    Michel Euler/AP\n",
      "                    \n",
      "                \n",
      "hide ...\n",
      "\n",
      "\n",
      "🔸 Palestinian medics say a video of Gaza rescue crews under fire refutes Israeli claims (2025-04-05)\n",
      "https://www.npr.org/2025/04/05/nx-s1-5353346/israel-gaza-emergency-workers-killed-video\n",
      "The conflict between Israel and Palestinians â€” and other groups in the Middle East â€” goes back decades. These stories provide context for current developments and the history that led up to them. By  \n",
      "\n",
      "      Daniel Estrin\n",
      "    \n",
      " ,  \n",
      "\n",
      "      Alex Leff\n",
      "    \n",
      " \n",
      "                Mourners gather around t...\n",
      "\n",
      "\n",
      "🔸 Ukrainians face fears during the country's darkest nights (2025-04-05)\n",
      "https://www.npr.org/2025/04/05/nx-s1-5299206/ukraine-war-night-darkness\n",
      "The roots of Russia's invasion of Ukraine go back decades and run deep. The current conflict is more than one country fighting to take over another; it is — in the words of one U.S. official — a shift in \"the world order.\"Here are some helpful stories to make sense of it all. By  \n",
      "\n",
      "      Claire Harb...\n",
      "\n",
      "\n",
      "🔸 A devastating earthquake brings more uncertainty to Myanmar (2025-04-04)\n",
      "https://www.npr.org/2025/04/04/1242780117/a-devastating-earthquake-brings-more-uncertainty-to-myanmar\n",
      "\n",
      "                Rescue workers look on as heavy construction equipment is used to look for people trapped under the rubble at the collapsed Sky Villa Condominium development in Mandalay days after a major earthquake.\n",
      "                \n",
      "                    \n",
      "                    Sebastien BERGER / AFP/G...\n",
      "\n",
      "\n",
      "🔸 Higher prices are likely for these 10 grocery items when tariffs hit (2025-04-04)\n",
      "https://www.npr.org/2025/04/04/nx-s1-5351324/tariffs-higher-grocery-prices-trump\n",
      "By  \n",
      "\n",
      "      Scott Neuman\n",
      "    \n",
      " \n",
      "                Indonesian fishermen unload their catch at the port in Jakarta on May 5, 2019.\n",
      "                \n",
      "                    \n",
      "                    Goh Chai Hin/AFP via Getty Images\n",
      "                    \n",
      "                \n",
      "hide caption\n",
      " A trip to the grocery or liqu...\n",
      "\n",
      "\n",
      "🔸 Dow Jones plunges over 2,200 points as tariff carnage roils global markets (2025-04-04)\n",
      "https://www.npr.org/2025/04/04/nx-s1-5352362/markets-selloff-dow-trump-tariffs\n",
      "By  \n",
      "\n",
      "      Maria Aspan\n",
      "    \n",
      " \n",
      "                Traders work on the floor of the New York Stock Exchange on Thursday, which saw the worst markets selloff in five years.\n",
      "                \n",
      "                    \n",
      "                    Michael M. Santiago/Getty Images/Getty Images North America\n",
      "              ...\n",
      "\n",
      "\n",
      "🔸 Trade war escalates as China hits back with 34% tariffs on all U.S. goods (2025-04-04)\n",
      "https://www.npr.org/2025/04/04/g-s1-58250/trade-war-escalates-as-china-hits-back-with-34-tariffs-on-all-u-s-goods\n",
      "\n",
      "\n",
      "      John Ruwitch\n",
      "    \n",
      " \n",
      "                The U.S. and China are engaged in an escalating trade war again.\n",
      "                \n",
      "                    \n",
      "                    Frederic J. Brown/AFP via Getty Images\n",
      "                    \n",
      "                \n",
      "hide caption\n",
      " BEIJING - China has hit back at new U.S. t...\n",
      "\n",
      "\n",
      "🔸 A 'beacon' or a 'roulette'? Chinese America watchers see opportunities and pitfalls (2025-04-04)\n",
      "https://www.npr.org/2025/04/04/g-s1-57443/a-beacon-or-a-roulette-chinese-america-watchers-see-opportunities-and-pitfalls\n",
      "\n",
      "\n",
      "      Anthony Kuhn\n",
      "    \n",
      " \n",
      "                Sunrise turns the sky orange behind the U.S. Capitol building as it illuminates the U.S. flags circling the base of the Washington Monument on March 23 in Washington, D.C.\n",
      "                \n",
      "                    \n",
      "                    J. David Ake/Getty Images\n",
      "...\n",
      "\n",
      "\n",
      "🔸 Former Costa Rican president says visa may have been revoked over criticism of Trump (2025-04-04)\n",
      "https://www.npr.org/2025/04/04/nx-s1-5349766/oscar-arias-visa-trump-costa-rica\n",
      "By  \n",
      "\n",
      "      Leila Fadel\n",
      "    \n",
      " ,  \n",
      "\n",
      "      Obed Manuel\n",
      "    \n",
      " \n",
      "                Nobel Peace Prize laureate and two-time Costa Rican President Oscar Arias looks at the media during the opening ceremony of the XV World Summit of Nobel Peace Laureates at the University in Barcelona, Spain, Nov. 13, 2015.\n",
      " ...\n",
      "\n",
      "\n",
      "🔸 Canada trucker protest organizers found guilty of mischief (2025-04-04)\n",
      "https://www.npr.org/2025/04/04/nx-s1-5352226/canada-truck-protest-mischief\n",
      "By  \n",
      "\n",
      "      The Associated Press\n",
      "    \n",
      " \n",
      "                Police hang off a truck as authorities work to end a protest against COVID-19 measures in Ottawa on Feb. 19, 2022.\n",
      "                \n",
      "                    \n",
      "                    Cole Burston/The Canadian Press via AP\n",
      "                    \n",
      "           ...\n",
      "\n",
      "\n",
      "🔸 South Korea's president removed from office over ill-fated declaration of martial law (2025-04-03)\n",
      "https://www.npr.org/2025/04/03/nx-s1-5351798/south-koreas-president-removed-from-office-over-ill-fated-declaration-of-martial-law\n",
      "By  \n",
      "\n",
      "      Se Eun Gong\n",
      "    \n",
      " \n",
      "                People react after hearing the news that President Yoon Suk Yeol was removed from office, in Seoul, South Korea, Friday, April 4, 2025.\n",
      "                \n",
      "                    \n",
      "                    Lee Jin-man/AP\n",
      "                    \n",
      "                \n",
      "hide c...\n",
      "\n",
      "\n",
      "🔸 Trump takes aim at trade deficits. Are they actually bad? (2025-04-03)\n",
      "https://www.npr.org/2025/04/03/1242489336/trump-takes-aim-at-trade-deficits-are-they-actually-bad\n",
      "\n",
      "                US President Donald Trump holds a chart as he delivers remarks on reciprocal tariffs during an event in the Rose Garden entitled \"Make America Wealthy Again\" at the White House on Wednesday.\n",
      "                \n",
      "                    \n",
      "                    BRENDAN SMIALOWSKI/AFP via Getty I...\n",
      "\n",
      "\n",
      "🔸 Russia escapes Trump Tariffs, as envoy pushes deals with Washington (2025-04-03)\n",
      "https://www.npr.org/2025/04/03/g-s1-58138/russia-escapes-trump-tariffs-as-envoy-pushes-deals-with-washington\n",
      "By  \n",
      "\n",
      "      Charles Maynes\n",
      "    \n",
      " \n",
      "                Russian and US flags are seen at the US Embassy in central Moscow on November 5, 2024, on the day of US Presidential election.\n",
      "                \n",
      "                    \n",
      "                    Alexander Nemenov/AFP via Getty Images\n",
      "                    \n",
      "     ...\n",
      "\n"
     ]
    }
   ],
   "source": [
    "# Import necessary libraries\n",
    "import requests\n",
    "from bs4 import BeautifulSoup\n",
    "\n",
    "# Define base URL for NPR World News\n",
    "base_url = \"https://www.npr.org\"\n",
    "section_url = \"https://www.npr.org/sections/world/\"\n",
    "\n",
    "# List to store scraped articles\n",
    "articles = []\n",
    "\n",
    "# Fetch the main section page\n",
    "response = requests.get(section_url)\n",
    "soup = BeautifulSoup(response.content, \"html.parser\")\n",
    "\n",
    "# Extract top 10 articles\n",
    "article_cards = soup.find_all(\"article\", limit=75)\n",
    "\n",
    "for card in article_cards:\n",
    "    try:\n",
    "        # Extract title and link\n",
    "        title_tag = card.find(\"h2\", class_=\"title\")\n",
    "        if not title_tag:\n",
    "            continue\n",
    "        title = title_tag.get_text(strip=True)\n",
    "        link = title_tag.find(\"a\")[\"href\"]\n",
    "\n",
    "        # Fetch full article content\n",
    "        article_response = requests.get(link)\n",
    "        article_soup = BeautifulSoup(article_response.content, \"html.parser\")\n",
    "\n",
    "        # Get article content\n",
    "        content_blocks = article_soup.find_all(\"p\")\n",
    "        content = \" \".join([p.get_text() for p in content_blocks])\n",
    "\n",
    "        # Extract publication date (meta tag)\n",
    "        pub_date_tag = article_soup.find(\"meta\", {\"name\": \"date\"})\n",
    "        publication_date = pub_date_tag[\"content\"] if pub_date_tag else \"Unknown\"\n",
    "\n",
    "        # Append structured article\n",
    "        articles.append({\n",
    "            \"title\": title,\n",
    "            \"url\": link,\n",
    "            \"content\": content,\n",
    "            \"publication_date\": publication_date\n",
    "        })\n",
    "\n",
    "    except Exception as e:\n",
    "        print(f\"Error: {e}\")\n",
    "\n",
    "# Preview the articles\n",
    "for article in articles:\n",
    "    print(f\"\\n🔸 {article['title']} ({article['publication_date']})\")\n",
    "    print(f\"{article['url']}\")\n",
    "    print(f\"{article['content'][:300]}...\\n\")"
   ]
  },
  {
   "cell_type": "markdown",
   "id": "21dd9964",
   "metadata": {},
   "source": [
    "**Use Methods from Task 1:**"
   ]
  },
  {
   "cell_type": "markdown",
   "id": "d893f465",
   "metadata": {},
   "source": [
    "<span style=\"color:green\">Apply the text cleaning and preprocessing methods from Task 1 to the fetched news articles.\n",
    "\n",
    "</span> "
   ]
  },
  {
   "cell_type": "code",
   "execution_count": 91,
   "id": "14ff09a0",
   "metadata": {},
   "outputs": [],
   "source": [
    "import re\n",
    "\n",
    "def clean_text(text):\n",
    "    # text = text.lower()\n",
    "    text = re.sub(r'\\s+', ' ', text)  # collapse whitespace\n",
    "    text = re.sub(r\"[^a-zA-Z0-9.,;:'\\\"!?()\\s-]\", '', text)  # remove unwanted characters\n",
    "    return text.strip()\n",
    "\n",
    "# Apply cleaning to all article contents\n",
    "for article in articles:\n",
    "    article[\"cleaned_content\"] = clean_text(article[\"content\"])"
   ]
  },
  {
   "cell_type": "code",
   "execution_count": 92,
   "id": "f3a841bc",
   "metadata": {},
   "outputs": [
    {
     "name": "stdout",
     "output_type": "stream",
     "text": [
      "The conflict between Israel and Palestinians  and other groups in the Middle East  goes back decades. These stories provide context for current developments and the history that led up to them. By Hadeel Al-Shalchi , Aya Batrawy Israeli Prime Minister Benjamin Netanyahu meets with President Trump in the Oval Office of the White House, Feb. 4, in Washington, D.C. Evan VucciAP hide caption TEL AVIV, Israel  Israeli Prime Minister Benjamin Netanyahu is in Washington for a second meeting since President Trump took office and as Israel's war in Gaza marks a year and a half. Netanyahu says he expects to discuss efforts to release Israeli hostages from Gaza, as well as new U.S. tariffs. The Trump administration imposed 17 tariffs on Israel as part of new trade measures on goods from many countries. Netanyahu is facing pressure at home from former Israeli security chiefs, protesters and the families of hostages still held in Gaza to return to ceasefire negotiations, which his far-right coaliti\n"
     ]
    }
   ],
   "source": [
    "for article in articles[:1]:\n",
    "    print(article[\"cleaned_content\"][:1000])"
   ]
  },
  {
   "cell_type": "markdown",
   "id": "c007a0a7",
   "metadata": {},
   "source": [
    "<span style=\"color:green\">Use spaCyʼs en_ner_conll03 pre-trained NER model to identify named entities in the news\n",
    "articles.\n",
    "</span> "
   ]
  },
  {
   "cell_type": "code",
   "execution_count": 93,
   "id": "785d3a9a",
   "metadata": {},
   "outputs": [
    {
     "name": "stderr",
     "output_type": "stream",
     "text": [
      "C:\\Users\\ngera\\anaconda33\\Lib\\site-packages\\spacy\\util.py:910: UserWarning: [W095] Model 'en_pipeline' (0.0.0) was trained with spaCy v3.7.5 and may not be 100% compatible with the current version (3.8.4). If you see errors or degraded performance, download a newer compatible model or retrain your custom model with the current spaCy version. For more details and available updates, run: python -m spacy validate\n",
      "  warnings.warn(warn_msg)\n"
     ]
    },
    {
     "name": "stdout",
     "output_type": "stream",
     "text": [
      "Total named entities (all): 1501\n",
      "Sample: [('Israel', 'LOC'), ('Palestinians', 'MISC'), ('Middle East', 'LOC'), ('Shalchi', 'LOC'), ('Aya Batrawy Israeli', 'PER'), ('Benjamin Netanyahu', 'PER'), ('Trump', 'PER'), ('Oval Office of the', 'ORG'), ('White House', 'LOC'), ('Washington', 'LOC')]\n"
     ]
    }
   ],
   "source": [
    "import spacy\n",
    "\n",
    "# Load the NER model trained on CoNLL-2003\n",
    "ner_model = spacy.load(\"C:/Users/ngera/Downloads/en_ner_conll03 (1)/best_ner_model\")  \n",
    "\n",
    "# Extract entities\n",
    "for article in articles:\n",
    "    doc = ner_model(article[\"cleaned_content\"])\n",
    "    article[\"entities\"] = [(ent.text, ent.label_) for ent in doc.ents]\n",
    "    \n",
    "all_entities = []\n",
    "for article in articles:\n",
    "    all_entities.extend(article[\"entities\"])\n",
    "\n",
    "print(f\"Total named entities (all): {len(all_entities)}\")\n",
    "print(\"Sample:\", all_entities[:10])\n"
   ]
  },
  {
   "cell_type": "markdown",
   "id": "fa2d4c68",
   "metadata": {},
   "source": [
    "<span style=\"color:green\">Use spaCyʼs \"en_core_web_sm\" model to extract relations between entities in the news\n",
    "articles.\n",
    "</span> "
   ]
  },
  {
   "cell_type": "markdown",
   "id": "5b3f87a8",
   "metadata": {},
   "source": [
    "We use dependency parsing to extract subject-predicate-object relations from the text."
   ]
  },
  {
   "cell_type": "code",
   "execution_count": 94,
   "id": "6f6cf94b",
   "metadata": {},
   "outputs": [],
   "source": [
    "rel_model = spacy.load(\"en_core_web_sm\")\n",
    "\n",
    "def extract_relations(text):\n",
    "    doc = rel_model(text)\n",
    "    relations = []\n",
    "    for token in doc:\n",
    "        if token.dep_ in (\"nsubj\", \"nsubjpass\") and token.head.dep_ == \"ROOT\":\n",
    "            subject = token.text\n",
    "            predicate = token.head.text\n",
    "            for child in token.head.children:\n",
    "                if child.dep_ in (\"prep\", \"agent\"):\n",
    "                    for obj in child.children:\n",
    "                        if obj.dep_ == \"pobj\":\n",
    "                            # Handle compound objects like \"Steve Jobs\"\n",
    "                            if obj.dep_ == \"pobj\" and obj.n_lefts > 0:\n",
    "                                full_obj = \" \".join([child.text for child in obj.lefts]) + \" \" + obj.text\n",
    "                                relations.append((subject, predicate, full_obj))\n",
    "                            else:\n",
    "                                relations.append((subject, predicate, obj.text))\n",
    "    return relations\n",
    "\n",
    "# Extract relations for each article\n",
    "for article in articles:\n",
    "    article[\"relations\"] = extract_relations(article[\"cleaned_content\"])"
   ]
  },
  {
   "cell_type": "markdown",
   "id": "47082da5",
   "metadata": {},
   "source": [
    "Entity Linking with DBpedia Spotlight"
   ]
  },
  {
   "cell_type": "markdown",
   "id": "55c7912a",
   "metadata": {},
   "source": [
    "We use DBpedia Spotlight to map extracted named entities from the articles to real-world URIs in the DBpedia knowledge base.\n",
    "We apply the annotation only to a sample of entity names to avoid overloading the API."
   ]
  },
  {
   "cell_type": "code",
   "execution_count": 95,
   "id": "1776732f",
   "metadata": {},
   "outputs": [],
   "source": [
    "import requests\n",
    "import urllib3\n",
    "from collections import defaultdict\n",
    "\n",
    "# Disable insecure request warnings (not best practice, but avoids console spam)\n",
    "urllib3.disable_warnings(urllib3.exceptions.InsecureRequestWarning)\n",
    "\n",
    "# Function to call DBpedia Spotlight API\n",
    "def annotate_with_dbpedia_spotlight(text, confidence=0.5):\n",
    "    url = \"https://api.dbpedia-spotlight.org/en/annotate\"\n",
    "    headers = {'Accept': 'application/json'}\n",
    "    params = {\n",
    "        'text': text,\n",
    "        'confidence': confidence\n",
    "    }\n",
    "\n",
    "    try:\n",
    "        response = requests.get(url, headers=headers, params=params, verify=False, timeout=10)\n",
    "        if response.status_code == 200:\n",
    "            data = response.json()\n",
    "            return [(res['@surfaceForm'], res['@URI']) for res in data.get('Resources', [])]\n",
    "        else:\n",
    "            print(\"Error from DBpedia API:\", response.status_code)\n",
    "            return []\n",
    "    except Exception as e:\n",
    "        print(\"Failed to connect to DBpedia Spotlight:\", e)\n",
    "        return []"
   ]
  },
  {
   "cell_type": "code",
   "execution_count": 96,
   "id": "4508e6a4",
   "metadata": {},
   "outputs": [
    {
     "name": "stdout",
     "output_type": "stream",
     "text": [
      "Total unique entities extracted: 566\n"
     ]
    }
   ],
   "source": [
    "# Step 1: Collect unique entity names (up to 50)\n",
    "unique_entities = set()\n",
    "\n",
    "for article in articles:\n",
    "    for ent_text, _ in article.get(\"entities\", []):\n",
    "        if len(ent_text.strip()) > 2:  # ignore empty/short stuff\n",
    "            unique_entities.add(ent_text)\n",
    "# Ensuite, sélectionne un sous-ensemble si nécessaire\n",
    "sampled_entities = list(unique_entities)[:50]\n",
    "\n",
    "print(f\"Total unique entities extracted: {len(unique_entities)}\")"
   ]
  },
  {
   "cell_type": "markdown",
   "id": "41148b75",
   "metadata": {},
   "source": [
    "<span style=\"color:blue\">Entity Linking</span>"
   ]
  },
  {
   "cell_type": "code",
   "execution_count": 97,
   "id": "1c970dae",
   "metadata": {
    "scrolled": true
   },
   "outputs": [
    {
     "name": "stdout",
     "output_type": "stream",
     "text": [
      "\n",
      "Starting DBpedia entity linking...\n",
      "World Bank. Cashews → http://dbpedia.org/resource/World_Bank\n",
      "Nubian → http://dbpedia.org/resource/Nubians\n",
      "East SOS → http://dbpedia.org/resource/East_Germany\n",
      "Moody's Analytics → http://dbpedia.org/resource/Moody's_Investors_Service\n",
      "Vietnamese Communist Party → http://dbpedia.org/resource/Communist_Party_of_Vietnam\n",
      "Ontario Court Justice Heather Perkins → http://dbpedia.org/resource/Ontario\n",
      "Peanut Butter Cups → http://dbpedia.org/resource/Peanut_butter\n",
      "United Nations → http://dbpedia.org/resource/United_Nations\n",
      "Littleton → http://dbpedia.org/resource/Wes_Littleton\n",
      "France → http://dbpedia.org/resource/France\n",
      "Defense Ministry → http://dbpedia.org/resource/Defence_minister\n",
      "Taiwan → http://dbpedia.org/resource/Taiwan\n",
      "Australia → http://dbpedia.org/resource/Australia\n",
      "BBC Radio Awards → http://dbpedia.org/resource/BBC\n",
      "Kim Jong Un → http://dbpedia.org/resource/Kim_Jong-un\n",
      "Goodman → http://dbpedia.org/resource/Benny_Goodman\n",
      "Washington Monument → http://dbpedia.org/resource/Washington_Monument\n",
      "Naypyitaw → http://dbpedia.org/resource/Naypyidaw\n",
      "Arkadii → No link found\n",
      "United Auto Workers → http://dbpedia.org/resource/United_Auto_Workers\n",
      "Howard Lutnick → http://dbpedia.org/resource/Howard_Lutnick\n",
      "Jaguar Land Rover Automotive → http://dbpedia.org/resource/Jaguar_Land_Rover\n",
      "Lohinov → No link found\n",
      "League → http://dbpedia.org/resource/English_Football_League\n",
      "Mali's → http://dbpedia.org/resource/Mali\n",
      "Hanna and Arkadii Rubin → http://dbpedia.org/resource/Hanna_Marin\n",
      "Spain → http://dbpedia.org/resource/Spain\n",
      "Yoon → http://dbpedia.org/resource/Yoon_Suk-yeol\n",
      "Barber → http://dbpedia.org/resource/Barber\n",
      "Ireland → http://dbpedia.org/resource/Ireland\n",
      "Paralympic Games → http://dbpedia.org/resource/Paralympic_Games\n",
      "Marine Tondelier → http://dbpedia.org/resource/United_States_Marine_Corps\n",
      "JLR → http://dbpedia.org/resource/Jaguar_Land_Rover\n",
      "Mideast → http://dbpedia.org/resource/Middle_East\n",
      "Nobel Laureate → http://dbpedia.org/resource/Nobel_Prize\n",
      "Nicaraguan → http://dbpedia.org/resource/Nicaragua\n",
      "Vietnamese → http://dbpedia.org/resource/Vietnamese_language\n",
      "SEOUL → http://dbpedia.org/resource/Seoul\n",
      "Victoire de la Musique → http://dbpedia.org/resource/Victoire_Conroy\n",
      "Amer Rabie → http://dbpedia.org/resource/Baser_Amer\n",
      "Great Wall Hotel → http://dbpedia.org/resource/Great_Wall_of_China\n",
      "Scott Neuman → http://dbpedia.org/resource/Walter_Scott\n",
      "Shawn Fain → http://dbpedia.org/resource/Sammy_Fain\n",
      "Costa Rica → http://dbpedia.org/resource/Costa_Rica\n",
      "U.S.-Canada → http://dbpedia.org/resource/Canada\n",
      "Patrick Jarenwattananon → http://dbpedia.org/resource/Saint_Patrick\n",
      "Joe Biden → http://dbpedia.org/resource/Joe_DiMaggio\n",
      "Russian Defense Ministry → http://dbpedia.org/resource/Ministry_of_Defence_(Russia)\n",
      "Innwa → http://dbpedia.org/resource/Inwa\n",
      "Frederic J. → No link found\n",
      "\n",
      "Linked 47 entities to DBpedia.\n"
     ]
    }
   ],
   "source": [
    "# Step 2: Annotate these entities with DBpedia Spotlight\n",
    "entity_to_dbpedia = {}\n",
    "\n",
    "print(\"\\nStarting DBpedia entity linking...\")\n",
    "\n",
    "for entity in sampled_entities:\n",
    "    links = annotate_with_dbpedia_spotlight(entity, confidence=0.3)\n",
    "    if links:\n",
    "        # We take the first candidate as the default (simple disambiguation strategy)\n",
    "        surface, uri = links[0]\n",
    "        entity_to_dbpedia[entity] = uri\n",
    "        print(f\"{entity} → {uri}\")\n",
    "    else:\n",
    "        print(f\"{entity} → No link found\")\n",
    "\n",
    "print(f\"\\nLinked {len(entity_to_dbpedia)} entities to DBpedia.\")"
   ]
  },
  {
   "cell_type": "code",
   "execution_count": 98,
   "id": "fd2fbe18",
   "metadata": {},
   "outputs": [
    {
     "name": "stdout",
     "output_type": "stream",
     "text": [
      "\n",
      "Success rate: 94.00% (47/50)\n"
     ]
    }
   ],
   "source": [
    "total_tested = len(sampled_entities)\n",
    "total_linked = len(entity_to_dbpedia)\n",
    "success_rate = total_linked / total_tested * 100\n",
    "\n",
    "print(f\"\\nSuccess rate: {success_rate:.2f}% ({total_linked}/{total_tested})\")"
   ]
  },
  {
   "cell_type": "markdown",
   "id": "cbeafeb4",
   "metadata": {},
   "source": [
    "We used DBpedia Spotlight to link extracted named entities to external knowledge base URIs. After correcting the preprocessing step to preserve capital letters, a total of 566 unique named entities were extracted from the articles. Among a sampled set of 50 entities submitted to the DBpedia Spotlight API, 47 were successfully linked, yielding a high linking success rate of 94.00% (47/50)."
   ]
  },
  {
   "cell_type": "markdown",
   "id": "99021d10",
   "metadata": {},
   "source": [
    "I found that transforming text into lower case drastically reduced the quality of entity detection, as it meant that useful information (such as capitalization of proper nouns) was lost. I therefore chose not to apply .lower() at this stage, which enabled me to increase the number of entities detected from 20 to 1,500."
   ]
  },
  {
   "cell_type": "markdown",
   "id": "939d8e98",
   "metadata": {},
   "source": [
    "**Disambiguation Strategy :** When DBpedia returns multiple possible URIs for a named entity,\n",
    "we simply pick the top-ranked one (i.e., the first match from Spotlight).\n",
    "This is a naive approach but effective for short projects. "
   ]
  },
  {
   "cell_type": "markdown",
   "id": "f18978da",
   "metadata": {},
   "source": [
    "<span style=\"color:green\">Convert the extracted entities and relations into RDF triples and build the knowledge graph\n",
    "using RDFLib.\n",
    "</span> "
   ]
  },
  {
   "cell_type": "markdown",
   "id": "35a5c52e",
   "metadata": {},
   "source": [
    "We use RDFLib to build a knowledge graph with the extracted entities and relations."
   ]
  },
  {
   "cell_type": "code",
   "execution_count": 46,
   "id": "41034f7e",
   "metadata": {},
   "outputs": [],
   "source": [
    "import urllib.parse\n",
    "\n",
    "def safe_uri(text):\n",
    "    return URIRef(EX[urllib.parse.quote(text.replace(\" \", \"_\"))])"
   ]
  },
  {
   "cell_type": "code",
   "execution_count": 47,
   "id": "7e14324a",
   "metadata": {},
   "outputs": [
    {
     "name": "stderr",
     "output_type": "stream",
     "text": [
      "http://example.org/\"_dimanche_bamako does not look like a valid URI, trying to serialize this will break.\n",
      "http://example.org/\"_dimanche_bamako does not look like a valid URI, trying to serialize this will break.\n",
      "http://example.org/a_called_\"_entity_\"_list does not look like a valid URI, trying to serialize this will break.\n",
      "http://example.org/a_called_\"_entity_\"_list does not look like a valid URI, trying to serialize this will break.\n"
     ]
    }
   ],
   "source": [
    "from rdflib import Graph, Namespace, URIRef, Literal\n",
    "from rdflib.namespace import RDF\n",
    "\n",
    "# Initialize RDF graph and namespace\n",
    "g = Graph()\n",
    "EX = Namespace(\"http://example.org/\")\n",
    "g.bind(\"ex\", EX)\n",
    "\n",
    "# Convert entities and relations to RDF triples\n",
    "for article in articles:\n",
    "    for ent_text, ent_label in article.get(\"entities\", []):\n",
    "        ent_uri = safe_uri(ent_text)\n",
    "        ent_type = URIRef(EX[ent_label])\n",
    "        g.add((ent_uri, RDF.type, ent_type))\n",
    "    \n",
    "    for subj, pred, obj in article.get(\"relations\", []):\n",
    "        subj_uri = URIRef(EX[subj.replace(\" \", \"_\")])\n",
    "        pred_uri = URIRef(EX[pred.replace(\" \", \"_\")])\n",
    "        obj_uri = URIRef(EX[obj.replace(\" \", \"_\")])\n",
    "        g.add((subj_uri, pred_uri, obj_uri))"
   ]
  },
  {
   "cell_type": "markdown",
   "id": "44cf6e39",
   "metadata": {},
   "source": [
    "We preview a few triples and run SPARQL to verify content."
   ]
  },
  {
   "cell_type": "code",
   "execution_count": 48,
   "id": "01bbf413",
   "metadata": {},
   "outputs": [
    {
     "name": "stdout",
     "output_type": "stream",
     "text": [
      "Preview of RDF Triples:\n",
      "http://example.org/she -- http://example.org/sentenced --> http://example.org/four_years\n",
      "http://example.org/netanyahu -- http://example.org/meet --> http://example.org/the_second_time\n",
      "http://example.org/it -- http://example.org/was --> http://example.org/april\n",
      "http://example.org/77 -- http://example.org/destined --> http://example.org/the_export_market\n",
      "http://example.org/economy -- http://example.org/boomed --> http://example.org/the_back\n",
      "http://example.org/we -- http://example.org/sleep --> http://example.org/the_nights\n",
      "http://example.org/aviv -- http://example.org/is --> http://example.org/washington\n",
      "http://example.org/two -- http://example.org/engaged --> http://example.org/a_move\n",
      "http://example.org/dmitriev -- http://example.org/arrived --> http://example.org/wednesday\n",
      "http://example.org/farmer -- http://example.org/holds --> http://example.org/a_farm\n",
      "\n",
      "SPARQL: Entity Types\n",
      "http://example.org/gaza is a http://example.org/LOC\n",
      "http://example.org/israel is a http://example.org/LOC\n",
      "http://example.org/america is a http://example.org/LOC\n",
      "http://example.org/d.c is a http://example.org/LOC\n",
      "http://example.org/u.s.-russian is a http://example.org/MISC\n"
     ]
    }
   ],
   "source": [
    "print(\"Preview of RDF Triples:\")\n",
    "for s, p, o in list(g)[:10]:\n",
    "    print(f\"{s} -- {p} --> {o}\")\n",
    "\n",
    "# SPARQL query: all entities and their types\n",
    "query = \"\"\"\n",
    "PREFIX ex: <http://example.org/>\n",
    "SELECT ?entity ?type\n",
    "WHERE {\n",
    "  ?entity a ?type .\n",
    "}\n",
    "\"\"\"\n",
    "\n",
    "print(\"\\nSPARQL: Entity Types\")\n",
    "for row in g.query(query):\n",
    "    print(f\"{row.entity} is a {row.type}\")"
   ]
  },
  {
   "cell_type": "markdown",
   "id": "c1a31b35",
   "metadata": {},
   "source": [
    "## Part 2: Knowledge Graph Embedding"
   ]
  },
  {
   "cell_type": "markdown",
   "id": "3bc190b8",
   "metadata": {},
   "source": [
    "In this second part, we aim to learn vector representations (embeddings) of entities and relations from the knowledge graph we built earlier in part 1. Using the PyKEEN library, we will train models such as TransE or DistMult on our graph data. The learned embeddings will allow us to perform link prediction (predicting missing triples), compute entity similarities, and visualize the graph structure in 2D or 3D space."
   ]
  },
  {
   "cell_type": "markdown",
   "id": "31b06825",
   "metadata": {},
   "source": [
    "**Install and Import PyKEEN**"
   ]
  },
  {
   "cell_type": "code",
   "execution_count": 49,
   "id": "f01570a3",
   "metadata": {},
   "outputs": [
    {
     "name": "stdout",
     "output_type": "stream",
     "text": [
      "Requirement already satisfied: pykeen in c:\\users\\ngera\\anaconda33\\lib\\site-packages (1.11.0)\n",
      "Requirement already satisfied: torch in c:\\users\\ngera\\anaconda33\\lib\\site-packages (2.6.0)\n",
      "Requirement already satisfied: dataclasses-json in c:\\users\\ngera\\anaconda33\\lib\\site-packages (from pykeen) (0.6.7)\n",
      "Requirement already satisfied: numpy in c:\\users\\ngera\\anaconda33\\lib\\site-packages (from pykeen) (1.24.3)\n",
      "Requirement already satisfied: scipy>=1.7.0 in c:\\users\\ngera\\anaconda33\\lib\\site-packages (from pykeen) (1.11.1)\n",
      "Requirement already satisfied: click in c:\\users\\ngera\\anaconda33\\lib\\site-packages (from pykeen) (8.0.4)\n",
      "Requirement already satisfied: click-default-group in c:\\users\\ngera\\anaconda33\\lib\\site-packages (from pykeen) (1.2.4)\n",
      "Requirement already satisfied: scikit-learn in c:\\users\\ngera\\anaconda33\\lib\\site-packages (from pykeen) (1.6.0)\n",
      "Requirement already satisfied: tqdm in c:\\users\\ngera\\anaconda33\\lib\\site-packages (from pykeen) (4.65.0)\n",
      "Requirement already satisfied: requests in c:\\users\\ngera\\anaconda33\\lib\\site-packages (from pykeen) (2.31.0)\n",
      "Requirement already satisfied: optuna>=2.0.0 in c:\\users\\ngera\\anaconda33\\lib\\site-packages (from pykeen) (4.2.1)\n",
      "Requirement already satisfied: pandas>=1.0.0 in c:\\users\\ngera\\anaconda33\\lib\\site-packages (from pykeen) (2.0.3)\n",
      "Requirement already satisfied: tabulate in c:\\users\\ngera\\anaconda33\\lib\\site-packages (from pykeen) (0.8.10)\n",
      "Requirement already satisfied: more-click in c:\\users\\ngera\\anaconda33\\lib\\site-packages (from pykeen) (0.1.2)\n",
      "Requirement already satisfied: more-itertools in c:\\users\\ngera\\anaconda33\\lib\\site-packages (from pykeen) (8.12.0)\n",
      "Requirement already satisfied: pystow>=0.4.3 in c:\\users\\ngera\\anaconda33\\lib\\site-packages (from pykeen) (0.7.0)\n",
      "Requirement already satisfied: docdata in c:\\users\\ngera\\anaconda33\\lib\\site-packages (from pykeen) (0.0.4)\n",
      "Requirement already satisfied: class-resolver>=0.5.1 in c:\\users\\ngera\\anaconda33\\lib\\site-packages (from pykeen) (0.5.4)\n",
      "Requirement already satisfied: pyyaml in c:\\users\\ngera\\anaconda33\\lib\\site-packages (from pykeen) (6.0)\n",
      "Requirement already satisfied: torch-max-mem>=0.1.1 in c:\\users\\ngera\\anaconda33\\lib\\site-packages (from pykeen) (0.1.3)\n",
      "Requirement already satisfied: torch-ppr>=0.0.7 in c:\\users\\ngera\\anaconda33\\lib\\site-packages (from pykeen) (0.0.8)\n",
      "Requirement already satisfied: typing-extensions in c:\\users\\ngera\\anaconda33\\lib\\site-packages (from pykeen) (4.11.0)\n",
      "Requirement already satisfied: filelock in c:\\users\\ngera\\anaconda33\\lib\\site-packages (from torch) (3.9.0)\n",
      "Requirement already satisfied: networkx in c:\\users\\ngera\\anaconda33\\lib\\site-packages (from torch) (3.1)\n",
      "Requirement already satisfied: jinja2 in c:\\users\\ngera\\anaconda33\\lib\\site-packages (from torch) (3.1.2)\n",
      "Requirement already satisfied: fsspec in c:\\users\\ngera\\anaconda33\\lib\\site-packages (from torch) (2023.4.0)\n",
      "Requirement already satisfied: sympy==1.13.1 in c:\\users\\ngera\\anaconda33\\lib\\site-packages (from torch) (1.13.1)\n",
      "Requirement already satisfied: mpmath<1.4,>=1.1.0 in c:\\users\\ngera\\anaconda33\\lib\\site-packages (from sympy==1.13.1->torch) (1.3.0)\n",
      "Requirement already satisfied: alembic>=1.5.0 in c:\\users\\ngera\\anaconda33\\lib\\site-packages (from optuna>=2.0.0->pykeen) (1.15.2)\n",
      "Requirement already satisfied: colorlog in c:\\users\\ngera\\anaconda33\\lib\\site-packages (from optuna>=2.0.0->pykeen) (6.9.0)\n",
      "Requirement already satisfied: packaging>=20.0 in c:\\users\\ngera\\anaconda33\\lib\\site-packages (from optuna>=2.0.0->pykeen) (23.1)\n",
      "Requirement already satisfied: sqlalchemy>=1.4.2 in c:\\users\\ngera\\anaconda33\\lib\\site-packages (from optuna>=2.0.0->pykeen) (1.4.39)\n",
      "Requirement already satisfied: python-dateutil>=2.8.2 in c:\\users\\ngera\\anaconda33\\lib\\site-packages (from pandas>=1.0.0->pykeen) (2.8.2)\n",
      "Requirement already satisfied: pytz>=2020.1 in c:\\users\\ngera\\anaconda33\\lib\\site-packages (from pandas>=1.0.0->pykeen) (2023.3.post1)\n",
      "Requirement already satisfied: tzdata>=2022.1 in c:\\users\\ngera\\anaconda33\\lib\\site-packages (from pandas>=1.0.0->pykeen) (2023.3)\n",
      "Requirement already satisfied: colorama in c:\\users\\ngera\\anaconda33\\lib\\site-packages (from click->pykeen) (0.4.6)\n",
      "Requirement already satisfied: marshmallow<4.0.0,>=3.18.0 in c:\\users\\ngera\\anaconda33\\lib\\site-packages (from dataclasses-json->pykeen) (3.26.1)\n",
      "Requirement already satisfied: typing-inspect<1,>=0.4.0 in c:\\users\\ngera\\anaconda33\\lib\\site-packages (from dataclasses-json->pykeen) (0.9.0)\n",
      "Requirement already satisfied: MarkupSafe>=2.0 in c:\\users\\ngera\\anaconda33\\lib\\site-packages (from jinja2->torch) (2.1.1)\n",
      "Requirement already satisfied: charset-normalizer<4,>=2 in c:\\users\\ngera\\anaconda33\\lib\\site-packages (from requests->pykeen) (2.0.4)\n",
      "Requirement already satisfied: idna<4,>=2.5 in c:\\users\\ngera\\anaconda33\\lib\\site-packages (from requests->pykeen) (3.4)\n",
      "Requirement already satisfied: urllib3<3,>=1.21.1 in c:\\users\\ngera\\anaconda33\\lib\\site-packages (from requests->pykeen) (1.26.16)\n",
      "Requirement already satisfied: certifi>=2017.4.17 in c:\\users\\ngera\\anaconda33\\lib\\site-packages (from requests->pykeen) (2023.7.22)\n",
      "Requirement already satisfied: joblib>=1.2.0 in c:\\users\\ngera\\anaconda33\\lib\\site-packages (from scikit-learn->pykeen) (1.2.0)\n",
      "Requirement already satisfied: threadpoolctl>=3.1.0 in c:\\users\\ngera\\anaconda33\\lib\\site-packages (from scikit-learn->pykeen) (3.5.0)\n",
      "Requirement already satisfied: Mako in c:\\users\\ngera\\anaconda33\\lib\\site-packages (from alembic>=1.5.0->optuna>=2.0.0->pykeen) (1.3.9)\n",
      "Collecting typing-extensions (from pykeen)\n",
      "  Obtaining dependency information for typing-extensions from https://files.pythonhosted.org/packages/df/c5/e7a0b0f5ed69f94c8ab7379c599e6036886bffcde609969a5325f47f1332/typing_extensions-4.13.1-py3-none-any.whl.metadata\n",
      "  Using cached typing_extensions-4.13.1-py3-none-any.whl.metadata (3.0 kB)\n",
      "Requirement already satisfied: six>=1.5 in c:\\users\\ngera\\anaconda33\\lib\\site-packages (from python-dateutil>=2.8.2->pandas>=1.0.0->pykeen) (1.16.0)\n",
      "Requirement already satisfied: greenlet!=0.4.17 in c:\\users\\ngera\\anaconda33\\lib\\site-packages (from sqlalchemy>=1.4.2->optuna>=2.0.0->pykeen) (2.0.1)\n",
      "Requirement already satisfied: mypy-extensions>=0.3.0 in c:\\users\\ngera\\anaconda33\\lib\\site-packages (from typing-inspect<1,>=0.4.0->dataclasses-json->pykeen) (1.0.0)\n",
      "Using cached typing_extensions-4.13.1-py3-none-any.whl (45 kB)\n",
      "Installing collected packages: typing-extensions\n",
      "  Attempting uninstall: typing-extensions\n",
      "    Found existing installation: typing_extensions 4.11.0\n",
      "    Uninstalling typing_extensions-4.11.0:\n",
      "      Successfully uninstalled typing_extensions-4.11.0\n",
      "Successfully installed typing-extensions-4.13.1\n",
      "Note: you may need to restart the kernel to use updated packages.\n"
     ]
    }
   ],
   "source": [
    "pip install pykeen torch"
   ]
  },
  {
   "cell_type": "code",
   "execution_count": 50,
   "id": "13b1b9dc",
   "metadata": {},
   "outputs": [
    {
     "name": "stdout",
     "output_type": "stream",
     "text": [
      "Found existing installation: typing_extensions 4.13.1\n",
      "Uninstalling typing_extensions-4.13.1:\n",
      "  Successfully uninstalled typing_extensions-4.13.1\n"
     ]
    }
   ],
   "source": [
    "!pip uninstall typing_extensions -y"
   ]
  },
  {
   "cell_type": "code",
   "execution_count": 51,
   "id": "0ad8961f",
   "metadata": {},
   "outputs": [
    {
     "name": "stdout",
     "output_type": "stream",
     "text": [
      "Collecting typing_extensions==4.11.0\n",
      "  Obtaining dependency information for typing_extensions==4.11.0 from https://files.pythonhosted.org/packages/01/f3/936e209267d6ef7510322191003885de524fc48d1b43269810cd589ceaf5/typing_extensions-4.11.0-py3-none-any.whl.metadata\n",
      "  Using cached typing_extensions-4.11.0-py3-none-any.whl.metadata (3.0 kB)\n",
      "Using cached typing_extensions-4.11.0-py3-none-any.whl (34 kB)\n",
      "Installing collected packages: typing_extensions\n",
      "Successfully installed typing_extensions-4.11.0\n"
     ]
    },
    {
     "name": "stderr",
     "output_type": "stream",
     "text": [
      "ERROR: pip's dependency resolver does not currently take into account all the packages that are installed. This behaviour is the source of the following dependency conflicts.\n",
      "alembic 1.15.2 requires typing-extensions>=4.12, but you have typing-extensions 4.11.0 which is incompatible.\n"
     ]
    }
   ],
   "source": [
    "!pip install typing_extensions==4.11.0"
   ]
  },
  {
   "cell_type": "code",
   "execution_count": 52,
   "id": "4307f247",
   "metadata": {},
   "outputs": [],
   "source": [
    "from pykeen.pipeline import pipeline\n",
    "from pykeen.triples import TriplesFactory"
   ]
  },
  {
   "cell_type": "markdown",
   "id": "d52a48a3",
   "metadata": {},
   "source": [
    "<span style=\"color:blue\">Knowledge Graph Quality</span>"
   ]
  },
  {
   "cell_type": "markdown",
   "id": "dc4eb468",
   "metadata": {},
   "source": [
    "**Prepare Triples from Our Knowledge Graph**"
   ]
  },
  {
   "cell_type": "markdown",
   "id": "003024f2",
   "metadata": {},
   "source": [
    "Extrait les triples RDF (sujet, prédicat, objet) du graphe RDFLib et les formate sous forme d'une liste de chaînes de caractères que PyKEEN peut comprendre."
   ]
  },
  {
   "cell_type": "code",
   "execution_count": 53,
   "id": "2face4a5",
   "metadata": {},
   "outputs": [
    {
     "name": "stdout",
     "output_type": "stream",
     "text": [
      "PyKEEN triplets at a glance :\n",
      "                           head                      relation  \\\n",
      "0        http://example.org/she  http://example.org/sentenced   \n",
      "1  http://example.org/netanyahu       http://example.org/meet   \n",
      "2         http://example.org/it        http://example.org/was   \n",
      "3         http://example.org/77   http://example.org/destined   \n",
      "4    http://example.org/economy     http://example.org/boomed   \n",
      "\n",
      "                                   tail  \n",
      "0         http://example.org/four_years  \n",
      "1    http://example.org/the_second_time  \n",
      "2              http://example.org/april  \n",
      "3  http://example.org/the_export_market  \n",
      "4           http://example.org/the_back  \n"
     ]
    }
   ],
   "source": [
    "import pandas as pd \n",
    "\n",
    "# Extract RDFLib triples\n",
    "triples = [(str(s), str(p), str(o)) for s, p, o in g]\n",
    "\n",
    "# Creating a DataFrame for PyKEEN\n",
    "df_triples = pd.DataFrame(triples, columns=[\"head\", \"relation\", \"tail\"])\n",
    "print(\"PyKEEN triplets at a glance :\")\n",
    "print(df_triples.head())"
   ]
  },
  {
   "cell_type": "markdown",
   "id": "755a0ac2",
   "metadata": {},
   "source": [
    "Extracted triplets represent facts from the news articles in the form (entity, relation, entity). For example, the triplet quake -- compounded --> myanmar means that an earthquake is linked to Burma in the context of the analyzed texts. These triplets will then be used to train a graph embedding model with PyKEEN."
   ]
  },
  {
   "cell_type": "code",
   "execution_count": 54,
   "id": "c85ccb04",
   "metadata": {
    "scrolled": true
   },
   "outputs": [
    {
     "name": "stdout",
     "output_type": "stream",
     "text": [
      "TriplesFactory successfully created.\n"
     ]
    }
   ],
   "source": [
    "# Creating the TriplesFactory from the DataFrame\n",
    "tf = TriplesFactory.from_labeled_triples(df_triples.values.astype(str))\n",
    "print(\"TriplesFactory successfully created.\")"
   ]
  },
  {
   "cell_type": "code",
   "execution_count": 55,
   "id": "90e801e5",
   "metadata": {},
   "outputs": [
    {
     "name": "stdout",
     "output_type": "stream",
     "text": [
      "Number of RDF triples: 330\n"
     ]
    }
   ],
   "source": [
    "print(f\"Number of RDF triples: {len(g)}\")"
   ]
  },
  {
   "cell_type": "code",
   "execution_count": 56,
   "id": "6b634f06",
   "metadata": {},
   "outputs": [
    {
     "name": "stdout",
     "output_type": "stream",
     "text": [
      "Number of unique entities: 420\n"
     ]
    }
   ],
   "source": [
    "# Count unique entities (head and tail)\n",
    "unique_entities = pd.unique(df_triples[['head', 'tail']].values.ravel())\n",
    "print(f\"Number of unique entities: {len(unique_entities)}\")"
   ]
  },
  {
   "cell_type": "markdown",
   "id": "268a1da7",
   "metadata": {},
   "source": [
    "<span style=\"color:blue\">Knowledge Graph Embedding</span>"
   ]
  },
  {
   "cell_type": "markdown",
   "id": "6cf60646",
   "metadata": {},
   "source": [
    "**Split the Knowledge Graph (Train/Validation/Test)**"
   ]
  },
  {
   "cell_type": "markdown",
   "id": "7de1f503",
   "metadata": {},
   "source": [
    "For small knowledge graphs (like ours with 310 triples), a standard 80/10/10 split can leave some entities or relations only in validation or test, which causes errors during training.\n",
    "\n",
    "To avoid this, we used method=\"cleanup\" in TriplesFactory.split(). It ensures all entities and relations are in the training set, even if it slightly shifts the proportions (e.g., training > 80%).\n",
    "\n",
    "This ensures a valid and stable training process : a necessary trade-off for small, sparse graphs."
   ]
  },
  {
   "cell_type": "code",
   "execution_count": 57,
   "id": "365132a7",
   "metadata": {},
   "outputs": [
    {
     "name": "stderr",
     "output_type": "stream",
     "text": [
      "using automatically assigned random_state=783108917\n",
      "Requested ratio[0]=0.800 (equal to size 264), but got 0.967 (equal to size 319) to ensure that all entities/relations occur in train.\n",
      "Requested ratio[1]=0.100 (equal to size 33), but got 0.018 (equal to size 6) to ensure that all entities/relations occur in train.\n",
      "Requested ratio[2]=0.100 (equal to size 33), but got 0.015 (equal to size 5) to ensure that all entities/relations occur in train.\n"
     ]
    }
   ],
   "source": [
    "training, validation, testing = tf.split([0.8, 0.1, 0.1], method=\"cleanup\")"
   ]
  },
  {
   "cell_type": "markdown",
   "id": "c815bb99",
   "metadata": {},
   "source": [
    "**Train a Knowledge Graph Embedding Model (TransE)**"
   ]
  },
  {
   "cell_type": "markdown",
   "id": "2bd2c7cd",
   "metadata": {},
   "source": [
    "We train a TransE model with PyKEEN using the pipeline, CPU training, early stopping and specific parameters (dimensions, learning rate, etc.)."
   ]
  },
  {
   "cell_type": "code",
   "execution_count": 58,
   "id": "7011446d",
   "metadata": {},
   "outputs": [
    {
     "data": {
      "application/vnd.jupyter.widget-view+json": {
       "model_id": "bf27e3d838cd41468b999e3c23a72baa",
       "version_major": 2,
       "version_minor": 0
      },
      "text/plain": [
       "Training epochs on cpu:   0%|          | 0/100 [00:00<?, ?epoch/s]"
      ]
     },
     "metadata": {},
     "output_type": "display_data"
    },
    {
     "data": {
      "application/vnd.jupyter.widget-view+json": {
       "model_id": "",
       "version_major": 2,
       "version_minor": 0
      },
      "text/plain": [
       "Training batches on cpu:   0%|          | 0/10 [00:00<?, ?batch/s]"
      ]
     },
     "metadata": {},
     "output_type": "display_data"
    },
    {
     "name": "stderr",
     "output_type": "stream",
     "text": [
      "WARNING:pykeen.utils:Using automatic batch size on device.type='cpu' can cause unexplained out-of-memory crashes. Therefore, we use a conservative small batch_size=32. Performance may be improved by explicitly specifying a larger batch size.\n",
      "WARNING:torch_max_mem.api:Encountered tensors on device_types={'cpu'} while only ['cuda'] are considered safe for automatic memory utilization maximization. This may lead to undocumented crashes (but can be safe, too).\n",
      "INFO:pykeen.evaluation.evaluator:Evaluation took 0.03s seconds\n",
      "INFO:pykeen.stoppers.early_stopping:New best result at epoch 1: 0.08333333333333333. Saved model weights to C:\\Users\\ngera\\.data\\pykeen\\checkpoints\\best-model-weights-22792028-2738-4c4d-9adb-015ed3b4e770.pt\n",
      "INFO:pykeen.training.training_loop:=> Saved checkpoint after having finished epoch 1.\n"
     ]
    },
    {
     "data": {
      "application/vnd.jupyter.widget-view+json": {
       "model_id": "",
       "version_major": 2,
       "version_minor": 0
      },
      "text/plain": [
       "Training batches on cpu:   0%|          | 0/10 [00:00<?, ?batch/s]"
      ]
     },
     "metadata": {},
     "output_type": "display_data"
    },
    {
     "name": "stderr",
     "output_type": "stream",
     "text": [
      "WARNING:pykeen.utils:Using automatic batch size on device.type='cpu' can cause unexplained out-of-memory crashes. Therefore, we use a conservative small batch_size=32. Performance may be improved by explicitly specifying a larger batch size.\n",
      "WARNING:torch_max_mem.api:Encountered tensors on device_types={'cpu'} while only ['cuda'] are considered safe for automatic memory utilization maximization. This may lead to undocumented crashes (but can be safe, too).\n",
      "INFO:pykeen.evaluation.evaluator:Evaluation took 0.03s seconds\n",
      "INFO:pykeen.stoppers.early_stopping:New best result at epoch 2: 0.16666666666666666. Saved model weights to C:\\Users\\ngera\\.data\\pykeen\\checkpoints\\best-model-weights-22792028-2738-4c4d-9adb-015ed3b4e770.pt\n",
      "INFO:pykeen.training.training_loop:=> Saved checkpoint after having finished epoch 2.\n"
     ]
    },
    {
     "data": {
      "application/vnd.jupyter.widget-view+json": {
       "model_id": "",
       "version_major": 2,
       "version_minor": 0
      },
      "text/plain": [
       "Training batches on cpu:   0%|          | 0/10 [00:00<?, ?batch/s]"
      ]
     },
     "metadata": {},
     "output_type": "display_data"
    },
    {
     "name": "stderr",
     "output_type": "stream",
     "text": [
      "WARNING:pykeen.utils:Using automatic batch size on device.type='cpu' can cause unexplained out-of-memory crashes. Therefore, we use a conservative small batch_size=32. Performance may be improved by explicitly specifying a larger batch size.\n",
      "WARNING:torch_max_mem.api:Encountered tensors on device_types={'cpu'} while only ['cuda'] are considered safe for automatic memory utilization maximization. This may lead to undocumented crashes (but can be safe, too).\n",
      "INFO:pykeen.evaluation.evaluator:Evaluation took 0.03s seconds\n"
     ]
    },
    {
     "data": {
      "application/vnd.jupyter.widget-view+json": {
       "model_id": "",
       "version_major": 2,
       "version_minor": 0
      },
      "text/plain": [
       "Training batches on cpu:   0%|          | 0/10 [00:00<?, ?batch/s]"
      ]
     },
     "metadata": {},
     "output_type": "display_data"
    },
    {
     "name": "stderr",
     "output_type": "stream",
     "text": [
      "WARNING:pykeen.utils:Using automatic batch size on device.type='cpu' can cause unexplained out-of-memory crashes. Therefore, we use a conservative small batch_size=32. Performance may be improved by explicitly specifying a larger batch size.\n",
      "WARNING:torch_max_mem.api:Encountered tensors on device_types={'cpu'} while only ['cuda'] are considered safe for automatic memory utilization maximization. This may lead to undocumented crashes (but can be safe, too).\n",
      "INFO:pykeen.evaluation.evaluator:Evaluation took 0.03s seconds\n"
     ]
    },
    {
     "data": {
      "application/vnd.jupyter.widget-view+json": {
       "model_id": "",
       "version_major": 2,
       "version_minor": 0
      },
      "text/plain": [
       "Training batches on cpu:   0%|          | 0/10 [00:00<?, ?batch/s]"
      ]
     },
     "metadata": {},
     "output_type": "display_data"
    },
    {
     "name": "stderr",
     "output_type": "stream",
     "text": [
      "WARNING:pykeen.utils:Using automatic batch size on device.type='cpu' can cause unexplained out-of-memory crashes. Therefore, we use a conservative small batch_size=32. Performance may be improved by explicitly specifying a larger batch size.\n",
      "WARNING:torch_max_mem.api:Encountered tensors on device_types={'cpu'} while only ['cuda'] are considered safe for automatic memory utilization maximization. This may lead to undocumented crashes (but can be safe, too).\n",
      "INFO:pykeen.evaluation.evaluator:Evaluation took 0.03s seconds\n"
     ]
    },
    {
     "data": {
      "application/vnd.jupyter.widget-view+json": {
       "model_id": "",
       "version_major": 2,
       "version_minor": 0
      },
      "text/plain": [
       "Training batches on cpu:   0%|          | 0/10 [00:00<?, ?batch/s]"
      ]
     },
     "metadata": {},
     "output_type": "display_data"
    },
    {
     "name": "stderr",
     "output_type": "stream",
     "text": [
      "WARNING:pykeen.utils:Using automatic batch size on device.type='cpu' can cause unexplained out-of-memory crashes. Therefore, we use a conservative small batch_size=32. Performance may be improved by explicitly specifying a larger batch size.\n",
      "WARNING:torch_max_mem.api:Encountered tensors on device_types={'cpu'} while only ['cuda'] are considered safe for automatic memory utilization maximization. This may lead to undocumented crashes (but can be safe, too).\n",
      "INFO:pykeen.evaluation.evaluator:Evaluation took 0.03s seconds\n"
     ]
    },
    {
     "data": {
      "application/vnd.jupyter.widget-view+json": {
       "model_id": "",
       "version_major": 2,
       "version_minor": 0
      },
      "text/plain": [
       "Training batches on cpu:   0%|          | 0/10 [00:00<?, ?batch/s]"
      ]
     },
     "metadata": {},
     "output_type": "display_data"
    },
    {
     "name": "stderr",
     "output_type": "stream",
     "text": [
      "WARNING:pykeen.utils:Using automatic batch size on device.type='cpu' can cause unexplained out-of-memory crashes. Therefore, we use a conservative small batch_size=32. Performance may be improved by explicitly specifying a larger batch size.\n",
      "WARNING:torch_max_mem.api:Encountered tensors on device_types={'cpu'} while only ['cuda'] are considered safe for automatic memory utilization maximization. This may lead to undocumented crashes (but can be safe, too).\n",
      "INFO:pykeen.evaluation.evaluator:Evaluation took 0.03s seconds\n",
      "INFO:pykeen.stoppers.early_stopping:Stopping early at epoch 7. The best result 0.16666666666666666 occurred at epoch 2.\n",
      "INFO:pykeen.stoppers.early_stopping:Re-loading weights from best epoch from C:\\Users\\ngera\\.data\\pykeen\\checkpoints\\best-model-weights-22792028-2738-4c4d-9adb-015ed3b4e770.pt\n",
      "WARNING:pykeen.utils:Using automatic batch size on device.type='cpu' can cause unexplained out-of-memory crashes. Therefore, we use a conservative small batch_size=32. Performance may be improved by explicitly specifying a larger batch size.\n"
     ]
    },
    {
     "data": {
      "application/vnd.jupyter.widget-view+json": {
       "model_id": "67bdb0eaae2c4ca2a4a6f557785b8af1",
       "version_major": 2,
       "version_minor": 0
      },
      "text/plain": [
       "Evaluating on cpu:   0%|          | 0.00/5.00 [00:00<?, ?triple/s]"
      ]
     },
     "metadata": {},
     "output_type": "display_data"
    },
    {
     "name": "stderr",
     "output_type": "stream",
     "text": [
      "WARNING:torch_max_mem.api:Encountered tensors on device_types={'cpu'} while only ['cuda'] are considered safe for automatic memory utilization maximization. This may lead to undocumented crashes (but can be safe, too).\n",
      "INFO:pykeen.evaluation.evaluator:Evaluation took 0.04s seconds\n"
     ]
    }
   ],
   "source": [
    "from pykeen.pipeline import pipeline\n",
    "\n",
    "results = pipeline(\n",
    "    training=training,\n",
    "    validation=validation,\n",
    "    testing=testing,\n",
    "    model='TransE',\n",
    "    model_kwargs={\n",
    "        'embedding_dim': 50\n",
    "    },\n",
    "    training_kwargs={\n",
    "        'num_epochs': 100,\n",
    "        'batch_size': 32\n",
    "    },\n",
    "    optimizer_kwargs={\n",
    "        'lr': 0.01\n",
    "    },\n",
    "    negative_sampler_kwargs={\n",
    "        'num_negs_per_pos': 10\n",
    "    },\n",
    "    stopper='early',\n",
    "    stopper_kwargs={\n",
    "        'frequency': 1,\n",
    "        'patience': 5\n",
    "    },\n",
    "    random_seed=42,\n",
    "    device='cpu'  \n",
    ")"
   ]
  },
  {
   "cell_type": "markdown",
   "id": "f58c3ec9",
   "metadata": {},
   "source": [
    "The early stopping occurred after only 6 epochs because the knowledge graph is relatively small (310 triples) and sparsely connected. As a result, the TransE model quickly reached a local optimum with no further performance improvement, leading to a best evaluation score of 0.0. This is expected behavior on small-scale graphs and indicates limited generalization capacity due to the lack of relational richness in the data."
   ]
  },
  {
   "cell_type": "markdown",
   "id": "e36cf7ce",
   "metadata": {},
   "source": [
    "**Testing a second model: DisMult**"
   ]
  },
  {
   "cell_type": "code",
   "execution_count": 59,
   "id": "4ea27180",
   "metadata": {
    "scrolled": true
   },
   "outputs": [
    {
     "name": "stderr",
     "output_type": "stream",
     "text": [
      "INFO:pykeen.pipeline.api:Using device: cpu\n",
      "INFO:pykeen.stoppers.early_stopping:Inferred checkpoint path for best model weights: C:\\Users\\ngera\\.data\\pykeen\\checkpoints\\best-model-weights-ee7c1911-a286-41bc-b064-075e17c972e5.pt\n"
     ]
    },
    {
     "data": {
      "application/vnd.jupyter.widget-view+json": {
       "model_id": "30b2023817484d39b86b8f374abb2ca3",
       "version_major": 2,
       "version_minor": 0
      },
      "text/plain": [
       "Training epochs on cpu:   0%|          | 0/100 [00:00<?, ?epoch/s]"
      ]
     },
     "metadata": {},
     "output_type": "display_data"
    },
    {
     "data": {
      "application/vnd.jupyter.widget-view+json": {
       "model_id": "",
       "version_major": 2,
       "version_minor": 0
      },
      "text/plain": [
       "Training batches on cpu:   0%|          | 0/10 [00:00<?, ?batch/s]"
      ]
     },
     "metadata": {},
     "output_type": "display_data"
    },
    {
     "name": "stderr",
     "output_type": "stream",
     "text": [
      "WARNING:pykeen.utils:Using automatic batch size on device.type='cpu' can cause unexplained out-of-memory crashes. Therefore, we use a conservative small batch_size=32. Performance may be improved by explicitly specifying a larger batch size.\n",
      "WARNING:torch_max_mem.api:Encountered tensors on device_types={'cpu'} while only ['cuda'] are considered safe for automatic memory utilization maximization. This may lead to undocumented crashes (but can be safe, too).\n",
      "INFO:pykeen.evaluation.evaluator:Evaluation took 0.03s seconds\n",
      "INFO:pykeen.stoppers.early_stopping:New best result at epoch 1: 0.0. Saved model weights to C:\\Users\\ngera\\.data\\pykeen\\checkpoints\\best-model-weights-ee7c1911-a286-41bc-b064-075e17c972e5.pt\n",
      "INFO:pykeen.training.training_loop:=> Saved checkpoint after having finished epoch 1.\n"
     ]
    },
    {
     "data": {
      "application/vnd.jupyter.widget-view+json": {
       "model_id": "",
       "version_major": 2,
       "version_minor": 0
      },
      "text/plain": [
       "Training batches on cpu:   0%|          | 0/10 [00:00<?, ?batch/s]"
      ]
     },
     "metadata": {},
     "output_type": "display_data"
    },
    {
     "name": "stderr",
     "output_type": "stream",
     "text": [
      "WARNING:pykeen.utils:Using automatic batch size on device.type='cpu' can cause unexplained out-of-memory crashes. Therefore, we use a conservative small batch_size=32. Performance may be improved by explicitly specifying a larger batch size.\n",
      "WARNING:torch_max_mem.api:Encountered tensors on device_types={'cpu'} while only ['cuda'] are considered safe for automatic memory utilization maximization. This may lead to undocumented crashes (but can be safe, too).\n",
      "INFO:pykeen.evaluation.evaluator:Evaluation took 0.03s seconds\n"
     ]
    },
    {
     "data": {
      "application/vnd.jupyter.widget-view+json": {
       "model_id": "",
       "version_major": 2,
       "version_minor": 0
      },
      "text/plain": [
       "Training batches on cpu:   0%|          | 0/10 [00:00<?, ?batch/s]"
      ]
     },
     "metadata": {},
     "output_type": "display_data"
    },
    {
     "name": "stderr",
     "output_type": "stream",
     "text": [
      "WARNING:pykeen.utils:Using automatic batch size on device.type='cpu' can cause unexplained out-of-memory crashes. Therefore, we use a conservative small batch_size=32. Performance may be improved by explicitly specifying a larger batch size.\n",
      "WARNING:torch_max_mem.api:Encountered tensors on device_types={'cpu'} while only ['cuda'] are considered safe for automatic memory utilization maximization. This may lead to undocumented crashes (but can be safe, too).\n",
      "INFO:pykeen.evaluation.evaluator:Evaluation took 0.03s seconds\n"
     ]
    },
    {
     "data": {
      "application/vnd.jupyter.widget-view+json": {
       "model_id": "",
       "version_major": 2,
       "version_minor": 0
      },
      "text/plain": [
       "Training batches on cpu:   0%|          | 0/10 [00:00<?, ?batch/s]"
      ]
     },
     "metadata": {},
     "output_type": "display_data"
    },
    {
     "name": "stderr",
     "output_type": "stream",
     "text": [
      "WARNING:pykeen.utils:Using automatic batch size on device.type='cpu' can cause unexplained out-of-memory crashes. Therefore, we use a conservative small batch_size=32. Performance may be improved by explicitly specifying a larger batch size.\n",
      "WARNING:torch_max_mem.api:Encountered tensors on device_types={'cpu'} while only ['cuda'] are considered safe for automatic memory utilization maximization. This may lead to undocumented crashes (but can be safe, too).\n",
      "INFO:pykeen.evaluation.evaluator:Evaluation took 0.03s seconds\n"
     ]
    },
    {
     "data": {
      "application/vnd.jupyter.widget-view+json": {
       "model_id": "",
       "version_major": 2,
       "version_minor": 0
      },
      "text/plain": [
       "Training batches on cpu:   0%|          | 0/10 [00:00<?, ?batch/s]"
      ]
     },
     "metadata": {},
     "output_type": "display_data"
    },
    {
     "name": "stderr",
     "output_type": "stream",
     "text": [
      "WARNING:pykeen.utils:Using automatic batch size on device.type='cpu' can cause unexplained out-of-memory crashes. Therefore, we use a conservative small batch_size=32. Performance may be improved by explicitly specifying a larger batch size.\n",
      "WARNING:torch_max_mem.api:Encountered tensors on device_types={'cpu'} while only ['cuda'] are considered safe for automatic memory utilization maximization. This may lead to undocumented crashes (but can be safe, too).\n",
      "INFO:pykeen.evaluation.evaluator:Evaluation took 0.03s seconds\n",
      "INFO:pykeen.stoppers.early_stopping:New best result at epoch 5: 0.08333333333333333. Saved model weights to C:\\Users\\ngera\\.data\\pykeen\\checkpoints\\best-model-weights-ee7c1911-a286-41bc-b064-075e17c972e5.pt\n",
      "INFO:pykeen.training.training_loop:=> Saved checkpoint after having finished epoch 5.\n"
     ]
    },
    {
     "data": {
      "application/vnd.jupyter.widget-view+json": {
       "model_id": "",
       "version_major": 2,
       "version_minor": 0
      },
      "text/plain": [
       "Training batches on cpu:   0%|          | 0/10 [00:00<?, ?batch/s]"
      ]
     },
     "metadata": {},
     "output_type": "display_data"
    },
    {
     "name": "stderr",
     "output_type": "stream",
     "text": [
      "WARNING:pykeen.utils:Using automatic batch size on device.type='cpu' can cause unexplained out-of-memory crashes. Therefore, we use a conservative small batch_size=32. Performance may be improved by explicitly specifying a larger batch size.\n",
      "WARNING:torch_max_mem.api:Encountered tensors on device_types={'cpu'} while only ['cuda'] are considered safe for automatic memory utilization maximization. This may lead to undocumented crashes (but can be safe, too).\n",
      "INFO:pykeen.evaluation.evaluator:Evaluation took 0.03s seconds\n",
      "INFO:pykeen.stoppers.early_stopping:New best result at epoch 6: 0.16666666666666666. Saved model weights to C:\\Users\\ngera\\.data\\pykeen\\checkpoints\\best-model-weights-ee7c1911-a286-41bc-b064-075e17c972e5.pt\n",
      "INFO:pykeen.training.training_loop:=> Saved checkpoint after having finished epoch 6.\n"
     ]
    },
    {
     "data": {
      "application/vnd.jupyter.widget-view+json": {
       "model_id": "",
       "version_major": 2,
       "version_minor": 0
      },
      "text/plain": [
       "Training batches on cpu:   0%|          | 0/10 [00:00<?, ?batch/s]"
      ]
     },
     "metadata": {},
     "output_type": "display_data"
    },
    {
     "name": "stderr",
     "output_type": "stream",
     "text": [
      "WARNING:pykeen.utils:Using automatic batch size on device.type='cpu' can cause unexplained out-of-memory crashes. Therefore, we use a conservative small batch_size=32. Performance may be improved by explicitly specifying a larger batch size.\n",
      "WARNING:torch_max_mem.api:Encountered tensors on device_types={'cpu'} while only ['cuda'] are considered safe for automatic memory utilization maximization. This may lead to undocumented crashes (but can be safe, too).\n",
      "INFO:pykeen.evaluation.evaluator:Evaluation took 0.03s seconds\n"
     ]
    },
    {
     "data": {
      "application/vnd.jupyter.widget-view+json": {
       "model_id": "",
       "version_major": 2,
       "version_minor": 0
      },
      "text/plain": [
       "Training batches on cpu:   0%|          | 0/10 [00:00<?, ?batch/s]"
      ]
     },
     "metadata": {},
     "output_type": "display_data"
    },
    {
     "name": "stderr",
     "output_type": "stream",
     "text": [
      "WARNING:pykeen.utils:Using automatic batch size on device.type='cpu' can cause unexplained out-of-memory crashes. Therefore, we use a conservative small batch_size=32. Performance may be improved by explicitly specifying a larger batch size.\n",
      "WARNING:torch_max_mem.api:Encountered tensors on device_types={'cpu'} while only ['cuda'] are considered safe for automatic memory utilization maximization. This may lead to undocumented crashes (but can be safe, too).\n",
      "INFO:pykeen.evaluation.evaluator:Evaluation took 0.03s seconds\n",
      "INFO:pykeen.stoppers.early_stopping:New best result at epoch 8: 0.25. Saved model weights to C:\\Users\\ngera\\.data\\pykeen\\checkpoints\\best-model-weights-ee7c1911-a286-41bc-b064-075e17c972e5.pt\n",
      "INFO:pykeen.training.training_loop:=> Saved checkpoint after having finished epoch 8.\n"
     ]
    },
    {
     "data": {
      "application/vnd.jupyter.widget-view+json": {
       "model_id": "",
       "version_major": 2,
       "version_minor": 0
      },
      "text/plain": [
       "Training batches on cpu:   0%|          | 0/10 [00:00<?, ?batch/s]"
      ]
     },
     "metadata": {},
     "output_type": "display_data"
    },
    {
     "name": "stderr",
     "output_type": "stream",
     "text": [
      "WARNING:pykeen.utils:Using automatic batch size on device.type='cpu' can cause unexplained out-of-memory crashes. Therefore, we use a conservative small batch_size=32. Performance may be improved by explicitly specifying a larger batch size.\n",
      "WARNING:torch_max_mem.api:Encountered tensors on device_types={'cpu'} while only ['cuda'] are considered safe for automatic memory utilization maximization. This may lead to undocumented crashes (but can be safe, too).\n",
      "INFO:pykeen.evaluation.evaluator:Evaluation took 0.03s seconds\n",
      "INFO:pykeen.stoppers.early_stopping:New best result at epoch 9: 0.4166666666666667. Saved model weights to C:\\Users\\ngera\\.data\\pykeen\\checkpoints\\best-model-weights-ee7c1911-a286-41bc-b064-075e17c972e5.pt\n",
      "INFO:pykeen.training.training_loop:=> Saved checkpoint after having finished epoch 9.\n"
     ]
    },
    {
     "data": {
      "application/vnd.jupyter.widget-view+json": {
       "model_id": "",
       "version_major": 2,
       "version_minor": 0
      },
      "text/plain": [
       "Training batches on cpu:   0%|          | 0/10 [00:00<?, ?batch/s]"
      ]
     },
     "metadata": {},
     "output_type": "display_data"
    },
    {
     "name": "stderr",
     "output_type": "stream",
     "text": [
      "WARNING:pykeen.utils:Using automatic batch size on device.type='cpu' can cause unexplained out-of-memory crashes. Therefore, we use a conservative small batch_size=32. Performance may be improved by explicitly specifying a larger batch size.\n",
      "WARNING:torch_max_mem.api:Encountered tensors on device_types={'cpu'} while only ['cuda'] are considered safe for automatic memory utilization maximization. This may lead to undocumented crashes (but can be safe, too).\n",
      "INFO:pykeen.evaluation.evaluator:Evaluation took 0.03s seconds\n",
      "INFO:pykeen.stoppers.early_stopping:New best result at epoch 10: 0.5. Saved model weights to C:\\Users\\ngera\\.data\\pykeen\\checkpoints\\best-model-weights-ee7c1911-a286-41bc-b064-075e17c972e5.pt\n",
      "INFO:pykeen.training.training_loop:=> Saved checkpoint after having finished epoch 10.\n"
     ]
    },
    {
     "data": {
      "application/vnd.jupyter.widget-view+json": {
       "model_id": "",
       "version_major": 2,
       "version_minor": 0
      },
      "text/plain": [
       "Training batches on cpu:   0%|          | 0/10 [00:00<?, ?batch/s]"
      ]
     },
     "metadata": {},
     "output_type": "display_data"
    },
    {
     "name": "stderr",
     "output_type": "stream",
     "text": [
      "WARNING:pykeen.utils:Using automatic batch size on device.type='cpu' can cause unexplained out-of-memory crashes. Therefore, we use a conservative small batch_size=32. Performance may be improved by explicitly specifying a larger batch size.\n",
      "WARNING:torch_max_mem.api:Encountered tensors on device_types={'cpu'} while only ['cuda'] are considered safe for automatic memory utilization maximization. This may lead to undocumented crashes (but can be safe, too).\n",
      "INFO:pykeen.evaluation.evaluator:Evaluation took 0.03s seconds\n"
     ]
    },
    {
     "data": {
      "application/vnd.jupyter.widget-view+json": {
       "model_id": "",
       "version_major": 2,
       "version_minor": 0
      },
      "text/plain": [
       "Training batches on cpu:   0%|          | 0/10 [00:00<?, ?batch/s]"
      ]
     },
     "metadata": {},
     "output_type": "display_data"
    },
    {
     "name": "stderr",
     "output_type": "stream",
     "text": [
      "WARNING:pykeen.utils:Using automatic batch size on device.type='cpu' can cause unexplained out-of-memory crashes. Therefore, we use a conservative small batch_size=32. Performance may be improved by explicitly specifying a larger batch size.\n",
      "WARNING:torch_max_mem.api:Encountered tensors on device_types={'cpu'} while only ['cuda'] are considered safe for automatic memory utilization maximization. This may lead to undocumented crashes (but can be safe, too).\n",
      "INFO:pykeen.evaluation.evaluator:Evaluation took 0.03s seconds\n"
     ]
    },
    {
     "data": {
      "application/vnd.jupyter.widget-view+json": {
       "model_id": "",
       "version_major": 2,
       "version_minor": 0
      },
      "text/plain": [
       "Training batches on cpu:   0%|          | 0/10 [00:00<?, ?batch/s]"
      ]
     },
     "metadata": {},
     "output_type": "display_data"
    },
    {
     "name": "stderr",
     "output_type": "stream",
     "text": [
      "WARNING:pykeen.utils:Using automatic batch size on device.type='cpu' can cause unexplained out-of-memory crashes. Therefore, we use a conservative small batch_size=32. Performance may be improved by explicitly specifying a larger batch size.\n",
      "WARNING:torch_max_mem.api:Encountered tensors on device_types={'cpu'} while only ['cuda'] are considered safe for automatic memory utilization maximization. This may lead to undocumented crashes (but can be safe, too).\n",
      "INFO:pykeen.evaluation.evaluator:Evaluation took 0.03s seconds\n"
     ]
    },
    {
     "data": {
      "application/vnd.jupyter.widget-view+json": {
       "model_id": "",
       "version_major": 2,
       "version_minor": 0
      },
      "text/plain": [
       "Training batches on cpu:   0%|          | 0/10 [00:00<?, ?batch/s]"
      ]
     },
     "metadata": {},
     "output_type": "display_data"
    },
    {
     "name": "stderr",
     "output_type": "stream",
     "text": [
      "WARNING:pykeen.utils:Using automatic batch size on device.type='cpu' can cause unexplained out-of-memory crashes. Therefore, we use a conservative small batch_size=32. Performance may be improved by explicitly specifying a larger batch size.\n",
      "WARNING:torch_max_mem.api:Encountered tensors on device_types={'cpu'} while only ['cuda'] are considered safe for automatic memory utilization maximization. This may lead to undocumented crashes (but can be safe, too).\n",
      "INFO:pykeen.evaluation.evaluator:Evaluation took 0.03s seconds\n"
     ]
    },
    {
     "data": {
      "application/vnd.jupyter.widget-view+json": {
       "model_id": "",
       "version_major": 2,
       "version_minor": 0
      },
      "text/plain": [
       "Training batches on cpu:   0%|          | 0/10 [00:00<?, ?batch/s]"
      ]
     },
     "metadata": {},
     "output_type": "display_data"
    },
    {
     "name": "stderr",
     "output_type": "stream",
     "text": [
      "WARNING:pykeen.utils:Using automatic batch size on device.type='cpu' can cause unexplained out-of-memory crashes. Therefore, we use a conservative small batch_size=32. Performance may be improved by explicitly specifying a larger batch size.\n",
      "WARNING:torch_max_mem.api:Encountered tensors on device_types={'cpu'} while only ['cuda'] are considered safe for automatic memory utilization maximization. This may lead to undocumented crashes (but can be safe, too).\n",
      "INFO:pykeen.evaluation.evaluator:Evaluation took 0.03s seconds\n",
      "INFO:pykeen.stoppers.early_stopping:New best result at epoch 15: 0.5833333333333334. Saved model weights to C:\\Users\\ngera\\.data\\pykeen\\checkpoints\\best-model-weights-ee7c1911-a286-41bc-b064-075e17c972e5.pt\n",
      "INFO:pykeen.training.training_loop:=> Saved checkpoint after having finished epoch 15.\n"
     ]
    },
    {
     "data": {
      "application/vnd.jupyter.widget-view+json": {
       "model_id": "",
       "version_major": 2,
       "version_minor": 0
      },
      "text/plain": [
       "Training batches on cpu:   0%|          | 0/10 [00:00<?, ?batch/s]"
      ]
     },
     "metadata": {},
     "output_type": "display_data"
    },
    {
     "name": "stderr",
     "output_type": "stream",
     "text": [
      "WARNING:pykeen.utils:Using automatic batch size on device.type='cpu' can cause unexplained out-of-memory crashes. Therefore, we use a conservative small batch_size=32. Performance may be improved by explicitly specifying a larger batch size.\n",
      "WARNING:torch_max_mem.api:Encountered tensors on device_types={'cpu'} while only ['cuda'] are considered safe for automatic memory utilization maximization. This may lead to undocumented crashes (but can be safe, too).\n",
      "INFO:pykeen.evaluation.evaluator:Evaluation took 0.03s seconds\n",
      "INFO:pykeen.stoppers.early_stopping:New best result at epoch 16: 0.6666666666666666. Saved model weights to C:\\Users\\ngera\\.data\\pykeen\\checkpoints\\best-model-weights-ee7c1911-a286-41bc-b064-075e17c972e5.pt\n",
      "INFO:pykeen.training.training_loop:=> Saved checkpoint after having finished epoch 16.\n"
     ]
    },
    {
     "data": {
      "application/vnd.jupyter.widget-view+json": {
       "model_id": "",
       "version_major": 2,
       "version_minor": 0
      },
      "text/plain": [
       "Training batches on cpu:   0%|          | 0/10 [00:00<?, ?batch/s]"
      ]
     },
     "metadata": {},
     "output_type": "display_data"
    },
    {
     "name": "stderr",
     "output_type": "stream",
     "text": [
      "WARNING:pykeen.utils:Using automatic batch size on device.type='cpu' can cause unexplained out-of-memory crashes. Therefore, we use a conservative small batch_size=32. Performance may be improved by explicitly specifying a larger batch size.\n",
      "WARNING:torch_max_mem.api:Encountered tensors on device_types={'cpu'} while only ['cuda'] are considered safe for automatic memory utilization maximization. This may lead to undocumented crashes (but can be safe, too).\n",
      "INFO:pykeen.evaluation.evaluator:Evaluation took 0.03s seconds\n"
     ]
    },
    {
     "data": {
      "application/vnd.jupyter.widget-view+json": {
       "model_id": "",
       "version_major": 2,
       "version_minor": 0
      },
      "text/plain": [
       "Training batches on cpu:   0%|          | 0/10 [00:00<?, ?batch/s]"
      ]
     },
     "metadata": {},
     "output_type": "display_data"
    },
    {
     "name": "stderr",
     "output_type": "stream",
     "text": [
      "WARNING:pykeen.utils:Using automatic batch size on device.type='cpu' can cause unexplained out-of-memory crashes. Therefore, we use a conservative small batch_size=32. Performance may be improved by explicitly specifying a larger batch size.\n",
      "WARNING:torch_max_mem.api:Encountered tensors on device_types={'cpu'} while only ['cuda'] are considered safe for automatic memory utilization maximization. This may lead to undocumented crashes (but can be safe, too).\n",
      "INFO:pykeen.evaluation.evaluator:Evaluation took 0.03s seconds\n"
     ]
    },
    {
     "data": {
      "application/vnd.jupyter.widget-view+json": {
       "model_id": "",
       "version_major": 2,
       "version_minor": 0
      },
      "text/plain": [
       "Training batches on cpu:   0%|          | 0/10 [00:00<?, ?batch/s]"
      ]
     },
     "metadata": {},
     "output_type": "display_data"
    },
    {
     "name": "stderr",
     "output_type": "stream",
     "text": [
      "WARNING:pykeen.utils:Using automatic batch size on device.type='cpu' can cause unexplained out-of-memory crashes. Therefore, we use a conservative small batch_size=32. Performance may be improved by explicitly specifying a larger batch size.\n",
      "WARNING:torch_max_mem.api:Encountered tensors on device_types={'cpu'} while only ['cuda'] are considered safe for automatic memory utilization maximization. This may lead to undocumented crashes (but can be safe, too).\n",
      "INFO:pykeen.evaluation.evaluator:Evaluation took 0.03s seconds\n"
     ]
    },
    {
     "data": {
      "application/vnd.jupyter.widget-view+json": {
       "model_id": "",
       "version_major": 2,
       "version_minor": 0
      },
      "text/plain": [
       "Training batches on cpu:   0%|          | 0/10 [00:00<?, ?batch/s]"
      ]
     },
     "metadata": {},
     "output_type": "display_data"
    },
    {
     "name": "stderr",
     "output_type": "stream",
     "text": [
      "WARNING:pykeen.utils:Using automatic batch size on device.type='cpu' can cause unexplained out-of-memory crashes. Therefore, we use a conservative small batch_size=32. Performance may be improved by explicitly specifying a larger batch size.\n",
      "WARNING:torch_max_mem.api:Encountered tensors on device_types={'cpu'} while only ['cuda'] are considered safe for automatic memory utilization maximization. This may lead to undocumented crashes (but can be safe, too).\n",
      "INFO:pykeen.evaluation.evaluator:Evaluation took 0.03s seconds\n"
     ]
    },
    {
     "data": {
      "application/vnd.jupyter.widget-view+json": {
       "model_id": "",
       "version_major": 2,
       "version_minor": 0
      },
      "text/plain": [
       "Training batches on cpu:   0%|          | 0/10 [00:00<?, ?batch/s]"
      ]
     },
     "metadata": {},
     "output_type": "display_data"
    },
    {
     "name": "stderr",
     "output_type": "stream",
     "text": [
      "WARNING:pykeen.utils:Using automatic batch size on device.type='cpu' can cause unexplained out-of-memory crashes. Therefore, we use a conservative small batch_size=32. Performance may be improved by explicitly specifying a larger batch size.\n",
      "WARNING:torch_max_mem.api:Encountered tensors on device_types={'cpu'} while only ['cuda'] are considered safe for automatic memory utilization maximization. This may lead to undocumented crashes (but can be safe, too).\n",
      "INFO:pykeen.evaluation.evaluator:Evaluation took 0.03s seconds\n",
      "INFO:pykeen.stoppers.early_stopping:Stopping early at epoch 21. The best result 0.6666666666666666 occurred at epoch 16.\n",
      "INFO:pykeen.stoppers.early_stopping:Re-loading weights from best epoch from C:\\Users\\ngera\\.data\\pykeen\\checkpoints\\best-model-weights-ee7c1911-a286-41bc-b064-075e17c972e5.pt\n",
      "WARNING:pykeen.utils:Using automatic batch size on device.type='cpu' can cause unexplained out-of-memory crashes. Therefore, we use a conservative small batch_size=32. Performance may be improved by explicitly specifying a larger batch size.\n"
     ]
    },
    {
     "data": {
      "application/vnd.jupyter.widget-view+json": {
       "model_id": "329e41f376c948e3a734d93c9899a63a",
       "version_major": 2,
       "version_minor": 0
      },
      "text/plain": [
       "Evaluating on cpu:   0%|          | 0.00/5.00 [00:00<?, ?triple/s]"
      ]
     },
     "metadata": {},
     "output_type": "display_data"
    },
    {
     "name": "stderr",
     "output_type": "stream",
     "text": [
      "WARNING:torch_max_mem.api:Encountered tensors on device_types={'cpu'} while only ['cuda'] are considered safe for automatic memory utilization maximization. This may lead to undocumented crashes (but can be safe, too).\n",
      "INFO:pykeen.evaluation.evaluator:Evaluation took 0.04s seconds\n"
     ]
    }
   ],
   "source": [
    "from pykeen.pipeline import pipeline\n",
    "\n",
    "results_distmult = pipeline(\n",
    "    training=training,\n",
    "    validation=validation,\n",
    "    testing=testing,\n",
    "    model='DistMult',\n",
    "    model_kwargs={\n",
    "        'embedding_dim': 50\n",
    "    },\n",
    "    training_kwargs={\n",
    "        'num_epochs': 100,\n",
    "        'batch_size': 32\n",
    "    },\n",
    "    optimizer_kwargs={\n",
    "        'lr': 0.01\n",
    "    },\n",
    "    negative_sampler_kwargs={\n",
    "        'num_negs_per_pos': 10\n",
    "    },\n",
    "    stopper='early',\n",
    "    stopper_kwargs={\n",
    "        'frequency': 1,\n",
    "        'patience': 5\n",
    "    },\n",
    "    random_seed=42,\n",
    "    device='cpu'\n",
    ")"
   ]
  },
  {
   "cell_type": "markdown",
   "id": "9acda8c8",
   "metadata": {},
   "source": [
    "We trained a second embedding model, DistMult, using the same configuration as TransE. Just like TransE, the early stopping triggered after 6 epochs, and the evaluation score remained at 0.0. This confirms that our knowledge graph is too small and sparse for these models to effectively learn meaningful patterns and yet we used the tips for small knowledge graphs "
   ]
  },
  {
   "cell_type": "markdown",
   "id": "ba102669",
   "metadata": {},
   "source": [
    "<span style=\"color:blue\">Link Prediction</span>"
   ]
  },
  {
   "cell_type": "markdown",
   "id": "34145d3d",
   "metadata": {},
   "source": [
    "**Measuring performance (MRR, Hits@k)**"
   ]
  },
  {
   "cell_type": "code",
   "execution_count": 60,
   "id": "6cdbe941",
   "metadata": {},
   "outputs": [
    {
     "name": "stdout",
     "output_type": "stream",
     "text": [
      "TransE metrics: {'head': {'optimistic': {'adjusted_arithmetic_mean_rank': 0.7527393997141496, 'inverse_median_rank': 0.009708737864077669, 'adjusted_geometric_mean_rank_index': 0.4205014852526895, 'geometric_mean_rank': 98.50707452399286, 'arithmetic_mean_rank': 158.0, 'adjusted_arithmetic_mean_rank_index': 0.24844423168980367, 'median_rank': 103.0, 'median_absolute_deviation': 127.50379079148176, 'inverse_geometric_mean_rank': 0.010151555153091418, 'standard_deviation': 127.53195677946763, 'inverse_arithmetic_mean_rank': 0.006329113924050633, 'harmonic_mean_rank': 54.0689745568058, 'z_inverse_harmonic_mean_rank': 0.09953954060173231, 'adjusted_inverse_harmonic_mean_rank': 0.002740998613217315, 'inverse_harmonic_mean_rank': 0.01849489486709948, 'z_arithmetic_mean_rank': 0.9599196321321304, 'count': 5.0, 'variance': 16264.4, 'z_geometric_mean_rank': 1.088739581795682, 'hits_at_1': 0.0, 'hits_at_3': 0.0, 'hits_at_5': 0.0, 'hits_at_10': 0.0, 'z_hits_at_k': -0.3497295873463084, 'adjusted_hits_at_k': -0.024462149423008436}, 'realistic': {'adjusted_arithmetic_mean_rank': 0.7527393997141496, 'inverse_median_rank': 0.009708737954497337, 'adjusted_geometric_mean_rank_index': 0.4205014975862712, 'geometric_mean_rank': 98.50707244873047, 'arithmetic_mean_rank': 158.0, 'adjusted_arithmetic_mean_rank_index': 0.24844423168980367, 'median_rank': 103.0, 'median_absolute_deviation': 127.50379079148176, 'inverse_geometric_mean_rank': 0.010151555761694908, 'standard_deviation': 127.5319595336914, 'inverse_arithmetic_mean_rank': 0.006329114083200693, 'harmonic_mean_rank': 54.06897496326807, 'z_inverse_harmonic_mean_rank': 0.0995395354716282, 'adjusted_inverse_harmonic_mean_rank': 0.0027409984719507577, 'inverse_harmonic_mean_rank': 0.018494894728064537, 'z_arithmetic_mean_rank': 0.9599196321321304, 'count': 5.0, 'variance': 16264.400390625, 'z_geometric_mean_rank': 1.0887396137291212, 'hits_at_1': 0.0, 'hits_at_3': 0.0, 'hits_at_5': 0.0, 'hits_at_10': 0.0, 'z_hits_at_k': -0.3497295873463084, 'adjusted_hits_at_k': -0.024462149423008436}, 'pessimistic': {'adjusted_arithmetic_mean_rank': 0.7527393997141496, 'inverse_median_rank': 0.009708737864077669, 'adjusted_geometric_mean_rank_index': 0.4205014852526895, 'geometric_mean_rank': 98.50707452399286, 'arithmetic_mean_rank': 158.0, 'adjusted_arithmetic_mean_rank_index': 0.24844423168980367, 'median_rank': 103.0, 'median_absolute_deviation': 127.50379079148176, 'inverse_geometric_mean_rank': 0.010151555153091418, 'standard_deviation': 127.53195677946763, 'inverse_arithmetic_mean_rank': 0.006329113924050633, 'harmonic_mean_rank': 54.0689745568058, 'z_inverse_harmonic_mean_rank': 0.09953954060173231, 'adjusted_inverse_harmonic_mean_rank': 0.002740998613217315, 'inverse_harmonic_mean_rank': 0.01849489486709948, 'z_arithmetic_mean_rank': 0.9599196321321304, 'count': 5.0, 'variance': 16264.4, 'z_geometric_mean_rank': 1.088739581795682, 'hits_at_1': 0.0, 'hits_at_3': 0.0, 'hits_at_5': 0.0, 'hits_at_10': 0.0, 'z_hits_at_k': -0.3497295873463084, 'adjusted_hits_at_k': -0.024462149423008436}}, 'tail': {'optimistic': {'adjusted_arithmetic_mean_rank': 0.5632730732635586, 'inverse_median_rank': 0.011235955056179775, 'adjusted_geometric_mean_rank_index': 0.5363264998078578, 'geometric_mean_rank': 79.13048938257316, 'arithmetic_mean_rank': 118.4, 'adjusted_arithmetic_mean_rank_index': 0.43881453154875705, 'median_rank': 89.0, 'median_absolute_deviation': 44.478066555168056, 'inverse_geometric_mean_rank': 0.012637353917594109, 'standard_deviation': 107.2, 'inverse_arithmetic_mean_rank': 0.008445945945945945, 'harmonic_mean_rank': 51.696377156525415, 'z_inverse_harmonic_mean_rank': 0.13166256573429747, 'adjusted_inverse_harmonic_mean_rank': 0.0036230067104492114, 'inverse_harmonic_mean_rank': 0.019343715266008234, 'z_arithmetic_mean_rank': 1.6954727671890173, 'count': 5.0, 'variance': 11491.84, 'z_geometric_mean_rank': 1.3886166809479092, 'hits_at_1': 0.0, 'hits_at_3': 0.0, 'hits_at_5': 0.0, 'hits_at_10': 0.0, 'z_hits_at_k': -0.34947120190000364, 'adjusted_hits_at_k': -0.024426023378195872}, 'realistic': {'adjusted_arithmetic_mean_rank': 0.5632730805227351, 'inverse_median_rank': 0.01123595517128706, 'adjusted_geometric_mean_rank_index': 0.536326386811349, 'geometric_mean_rank': 79.13050842285156, 'arithmetic_mean_rank': 118.4000015258789, 'adjusted_arithmetic_mean_rank_index': 0.4388145242548809, 'median_rank': 89.0, 'median_absolute_deviation': 44.478066555168056, 'inverse_geometric_mean_rank': 0.012637350708246231, 'standard_deviation': 107.20000457763672, 'inverse_arithmetic_mean_rank': 0.00844594556838274, 'harmonic_mean_rank': 51.69637743693403, 'z_inverse_harmonic_mean_rank': 0.13166256186019432, 'adjusted_inverse_harmonic_mean_rank': 0.0036230066038441047, 'inverse_harmonic_mean_rank': 0.01934371516108513, 'z_arithmetic_mean_rank': 1.695472739007251, 'count': 5.0, 'variance': 11491.8408203125, 'z_geometric_mean_rank': 1.3886163883857534, 'hits_at_1': 0.0, 'hits_at_3': 0.0, 'hits_at_5': 0.0, 'hits_at_10': 0.0, 'z_hits_at_k': -0.34947120190000364, 'adjusted_hits_at_k': -0.024426023378195872}, 'pessimistic': {'adjusted_arithmetic_mean_rank': 0.5632730732635586, 'inverse_median_rank': 0.011235955056179775, 'adjusted_geometric_mean_rank_index': 0.5363264998078578, 'geometric_mean_rank': 79.13048938257316, 'arithmetic_mean_rank': 118.4, 'adjusted_arithmetic_mean_rank_index': 0.43881453154875705, 'median_rank': 89.0, 'median_absolute_deviation': 44.478066555168056, 'inverse_geometric_mean_rank': 0.012637353917594109, 'standard_deviation': 107.2, 'inverse_arithmetic_mean_rank': 0.008445945945945945, 'harmonic_mean_rank': 51.696377156525415, 'z_inverse_harmonic_mean_rank': 0.13166256573429747, 'adjusted_inverse_harmonic_mean_rank': 0.0036230067104492114, 'inverse_harmonic_mean_rank': 0.019343715266008234, 'z_arithmetic_mean_rank': 1.6954727671890173, 'count': 5.0, 'variance': 11491.84, 'z_geometric_mean_rank': 1.3886166809479092, 'hits_at_1': 0.0, 'hits_at_3': 0.0, 'hits_at_5': 0.0, 'hits_at_10': 0.0, 'z_hits_at_k': -0.34947120190000364, 'adjusted_hits_at_k': -0.024426023378195872}}, 'both': {'optimistic': {'adjusted_arithmetic_mean_rank': 0.6579385860509401, 'inverse_median_rank': 0.010526315789473684, 'adjusted_geometric_mean_rank_index': 0.4603056476186823, 'geometric_mean_rank': 88.28880458319257, 'arithmetic_mean_rank': 138.2, 'adjusted_arithmetic_mean_rank_index': 0.34369767998086587, 'median_rank': 95.0, 'median_absolute_deviation': 84.50832645481931, 'inverse_geometric_mean_rank': 0.011326464377006287, 'standard_deviation': 119.45777496672201, 'inverse_arithmetic_mean_rank': 0.007235890014471781, 'harmonic_mean_rank': 52.85606402995379, 'z_inverse_harmonic_mean_rank': 0.16347677901481872, 'adjusted_inverse_harmonic_mean_rank': 0.0031820069912659697, 'inverse_harmonic_mean_rank': 0.01891930506655386, 'z_arithmetic_mean_rank': 1.8780163812456725, 'count': 10.0, 'variance': 14270.159999999998, 'z_geometric_mean_rank': 1.5847954015252044, 'hits_at_1': 0.0, 'hits_at_3': 0.0, 'hits_at_5': 0.0, 'hits_at_10': 0.0, 'z_hits_at_k': -0.4944096531679862, 'adjusted_hits_at_k': -0.024444086082114513}, 'realistic': {'adjusted_arithmetic_mean_rank': 0.6579385715222194, 'inverse_median_rank': 0.010526316240429878, 'adjusted_geometric_mean_rank_index': 0.4603056567854298, 'geometric_mean_rank': 88.28880310058594, 'arithmetic_mean_rank': 138.1999969482422, 'adjusted_arithmetic_mean_rank_index': 0.3436976945790854, 'median_rank': 95.0, 'median_absolute_deviation': 84.50832645481931, 'inverse_geometric_mean_rank': 0.01132646482437849, 'standard_deviation': 119.45777893066406, 'inverse_arithmetic_mean_rank': 0.007235890254378319, 'harmonic_mean_rank': 52.85606697262953, 'z_inverse_harmonic_mean_rank': 0.16347672403303481, 'adjusted_inverse_harmonic_mean_rank': 0.0031820059210685876, 'inverse_harmonic_mean_rank': 0.01891930401325226, 'z_arithmetic_mean_rank': 1.8780164610125638, 'count': 10.0, 'variance': 14270.1611328125, 'z_geometric_mean_rank': 1.5847954330855802, 'hits_at_1': 0.0, 'hits_at_3': 0.0, 'hits_at_5': 0.0, 'hits_at_10': 0.0, 'z_hits_at_k': -0.4944096531679862, 'adjusted_hits_at_k': -0.024444086082114513}, 'pessimistic': {'adjusted_arithmetic_mean_rank': 0.6579385860509401, 'inverse_median_rank': 0.010526315789473684, 'adjusted_geometric_mean_rank_index': 0.4603056476186823, 'geometric_mean_rank': 88.28880458319257, 'arithmetic_mean_rank': 138.2, 'adjusted_arithmetic_mean_rank_index': 0.34369767998086587, 'median_rank': 95.0, 'median_absolute_deviation': 84.50832645481931, 'inverse_geometric_mean_rank': 0.011326464377006287, 'standard_deviation': 119.45777496672201, 'inverse_arithmetic_mean_rank': 0.007235890014471781, 'harmonic_mean_rank': 52.85606402995379, 'z_inverse_harmonic_mean_rank': 0.16347677901481872, 'adjusted_inverse_harmonic_mean_rank': 0.0031820069912659697, 'inverse_harmonic_mean_rank': 0.01891930506655386, 'z_arithmetic_mean_rank': 1.8780163812456725, 'count': 10.0, 'variance': 14270.159999999998, 'z_geometric_mean_rank': 1.5847954015252044, 'hits_at_1': 0.0, 'hits_at_3': 0.0, 'hits_at_5': 0.0, 'hits_at_10': 0.0, 'z_hits_at_k': -0.4944096531679862, 'adjusted_hits_at_k': -0.024444086082114513}}}\n",
      "DistMult metrics: {'head': {'optimistic': {'adjusted_arithmetic_mean_rank': 0.7260600285850405, 'inverse_median_rank': 0.008, 'adjusted_geometric_mean_rank_index': 0.7214405482550419, 'geometric_mean_rank': 47.870727930169, 'arithmetic_mean_rank': 152.4, 'adjusted_arithmetic_mean_rank_index': 0.2752513164193393, 'median_rank': 125.0, 'median_absolute_deviation': 169.01665290963862, 'inverse_geometric_mean_rank': 0.02088959251797343, 'standard_deviation': 145.71698596937833, 'inverse_arithmetic_mean_rank': 0.006561679790026247, 'harmonic_mean_rank': 8.254433275835952, 'z_inverse_harmonic_mean_rank': 3.88719238043272, 'adjusted_inverse_harmonic_mean_rank': 0.10704076851937544, 'inverse_harmonic_mean_rank': 0.12114702082908617, 'z_arithmetic_mean_rank': 1.0634947754835742, 'count': 5.0, 'variance': 21233.44, 'z_geometric_mean_rank': 1.8679146408380445, 'hits_at_1': 0.0, 'hits_at_3': 0.2, 'hits_at_5': 0.2, 'hits_at_10': 0.2, 'z_hits_at_k': 2.5795692128043273, 'adjusted_hits_at_k': 0.18043028046159326}, 'realistic': {'adjusted_arithmetic_mean_rank': 0.7260599995068336, 'inverse_median_rank': 0.00800000037997961, 'adjusted_geometric_mean_rank_index': 0.7214405279081515, 'geometric_mean_rank': 47.870731353759766, 'arithmetic_mean_rank': 152.39999389648438, 'adjusted_arithmetic_mean_rank_index': 0.27525134563674303, 'median_rank': 125.0, 'median_absolute_deviation': 169.01665290963862, 'inverse_geometric_mean_rank': 0.020889591425657272, 'standard_deviation': 145.71697998046875, 'inverse_arithmetic_mean_rank': 0.006561680231243372, 'harmonic_mean_rank': 8.254433727466358, 'z_inverse_harmonic_mean_rank': 3.8871921358584056, 'adjusted_inverse_harmonic_mean_rank': 0.10704076178458588, 'inverse_harmonic_mean_rank': 0.12114701420068741, 'z_arithmetic_mean_rank': 1.0634948883715216, 'count': 5.0, 'variance': 21233.439453125, 'z_geometric_mean_rank': 1.867914588156982, 'hits_at_1': 0.0, 'hits_at_3': 0.2, 'hits_at_5': 0.2, 'hits_at_10': 0.2, 'z_hits_at_k': 2.5795692128043273, 'adjusted_hits_at_k': 0.18043028046159326}, 'pessimistic': {'adjusted_arithmetic_mean_rank': 0.7260600285850405, 'inverse_median_rank': 0.008, 'adjusted_geometric_mean_rank_index': 0.7214405482550419, 'geometric_mean_rank': 47.870727930169, 'arithmetic_mean_rank': 152.4, 'adjusted_arithmetic_mean_rank_index': 0.2752513164193393, 'median_rank': 125.0, 'median_absolute_deviation': 169.01665290963862, 'inverse_geometric_mean_rank': 0.02088959251797343, 'standard_deviation': 145.71698596937833, 'inverse_arithmetic_mean_rank': 0.006561679790026247, 'harmonic_mean_rank': 8.254433275835952, 'z_inverse_harmonic_mean_rank': 3.88719238043272, 'adjusted_inverse_harmonic_mean_rank': 0.10704076851937544, 'inverse_harmonic_mean_rank': 0.12114702082908617, 'z_arithmetic_mean_rank': 1.0634947754835742, 'count': 5.0, 'variance': 21233.44, 'z_geometric_mean_rank': 1.8679146408380445, 'hits_at_1': 0.0, 'hits_at_3': 0.2, 'hits_at_5': 0.2, 'hits_at_10': 0.2, 'z_hits_at_k': 2.5795692128043273, 'adjusted_hits_at_k': 0.18043028046159326}}, 'tail': {'optimistic': {'adjusted_arithmetic_mean_rank': 0.7764034253092292, 'inverse_median_rank': 0.00684931506849315, 'adjusted_geometric_mean_rank_index': 0.7428716563431162, 'geometric_mean_rank': 44.32696027639673, 'arithmetic_mean_rank': 163.2, 'adjusted_arithmetic_mean_rank_index': 0.22466539196940727, 'median_rank': 146.0, 'median_absolute_deviation': 210.52951502779547, 'inverse_geometric_mean_rank': 0.02255963399620887, 'standard_deviation': 147.0447550917747, 'inverse_arithmetic_mean_rank': 0.006127450980392158, 'harmonic_mean_rank': 4.529259023198714, 'z_inverse_harmonic_mean_rank': 7.569593226007383, 'adjusted_inverse_harmonic_mean_rank': 0.20829525006021996, 'inverse_harmonic_mean_rank': 0.22078666618050177, 'z_arithmetic_mean_rank': 0.868052506077166, 'count': 5.0, 'variance': 21622.16, 'z_geometric_mean_rank': 1.923388037270241, 'hits_at_1': 0.2, 'hits_at_3': 0.2, 'hits_at_5': 0.2, 'hits_at_10': 0.2, 'z_hits_at_k': 2.58188924187324, 'adjusted_hits_at_k': 0.18045918129744332}, 'realistic': {'adjusted_arithmetic_mean_rank': 0.7764034107908763, 'inverse_median_rank': 0.006849315017461777, 'adjusted_geometric_mean_rank_index': 0.7428716489786453, 'geometric_mean_rank': 44.326961517333984, 'arithmetic_mean_rank': 163.1999969482422, 'adjusted_arithmetic_mean_rank_index': 0.22466540655715972, 'median_rank': 146.0, 'median_absolute_deviation': 210.52951502779547, 'inverse_geometric_mean_rank': 0.0225596334785223, 'standard_deviation': 147.0447540283203, 'inverse_arithmetic_mean_rank': 0.006127451080828905, 'harmonic_mean_rank': 4.529259131325902, 'z_inverse_harmonic_mean_rank': 7.569593031390447, 'adjusted_inverse_harmonic_mean_rank': 0.2082952447048749, 'inverse_harmonic_mean_rank': 0.22078666090965268, 'z_arithmetic_mean_rank': 0.8680525624406981, 'count': 5.0, 'variance': 21622.16015625, 'z_geometric_mean_rank': 1.9233880182027006, 'hits_at_1': 0.2, 'hits_at_3': 0.2, 'hits_at_5': 0.2, 'hits_at_10': 0.2, 'z_hits_at_k': 2.58188924187324, 'adjusted_hits_at_k': 0.18045918129744332}, 'pessimistic': {'adjusted_arithmetic_mean_rank': 0.7764034253092292, 'inverse_median_rank': 0.00684931506849315, 'adjusted_geometric_mean_rank_index': 0.7428716563431162, 'geometric_mean_rank': 44.32696027639673, 'arithmetic_mean_rank': 163.2, 'adjusted_arithmetic_mean_rank_index': 0.22466539196940727, 'median_rank': 146.0, 'median_absolute_deviation': 210.52951502779547, 'inverse_geometric_mean_rank': 0.02255963399620887, 'standard_deviation': 147.0447550917747, 'inverse_arithmetic_mean_rank': 0.006127450980392158, 'harmonic_mean_rank': 4.529259023198714, 'z_inverse_harmonic_mean_rank': 7.569593226007383, 'adjusted_inverse_harmonic_mean_rank': 0.20829525006021996, 'inverse_harmonic_mean_rank': 0.22078666618050177, 'z_arithmetic_mean_rank': 0.868052506077166, 'count': 5.0, 'variance': 21622.16, 'z_geometric_mean_rank': 1.923388037270241, 'hits_at_1': 0.2, 'hits_at_3': 0.2, 'hits_at_5': 0.2, 'hits_at_10': 0.2, 'z_hits_at_k': 2.58188924187324, 'adjusted_hits_at_k': 0.18045918129744332}}, 'both': {'optimistic': {'adjusted_arithmetic_mean_rank': 0.7512497024517972, 'inverse_median_rank': 0.007380073800738007, 'adjusted_geometric_mean_rank_index': 0.721370835798675, 'geometric_mean_rank': 46.06477890278857, 'arithmetic_mean_rank': 157.8, 'adjusted_arithmetic_mean_rank_index': 0.24994020569241804, 'median_rank': 135.5, 'median_absolute_deviation': 191.25568618722266, 'inverse_geometric_mean_rank': 0.021708559637512212, 'standard_deviation': 146.48194427983265, 'inverse_arithmetic_mean_rank': 0.0063371356147021544, 'harmonic_mean_rank': 5.849087340563549, 'z_inverse_harmonic_mean_rank': 8.100277477117073, 'adjusted_inverse_harmonic_mean_rank': 0.15766850630843637, 'inverse_harmonic_mean_rank': 0.170966843504794, 'z_arithmetic_mean_rank': 1.3657112862920862, 'count': 10.0, 'variance': 21456.96, 'z_geometric_mean_rank': 2.4836218918503956, 'hits_at_1': 0.1, 'hits_at_3': 0.2, 'hits_at_5': 0.2, 'hits_at_10': 0.2, 'z_hits_at_k': 3.649701471202911, 'adjusted_hits_at_k': 0.1804447311343084}, 'realistic': {'adjusted_arithmetic_mean_rank': 0.751249716980518, 'inverse_median_rank': 0.007380073890089989, 'adjusted_geometric_mean_rank_index': 0.7213707980778353, 'geometric_mean_rank': 46.06478500366211, 'arithmetic_mean_rank': 157.8000030517578, 'adjusted_arithmetic_mean_rank_index': 0.2499401910941984, 'median_rank': 135.5, 'median_absolute_deviation': 191.25568618722266, 'inverse_geometric_mean_rank': 0.02170855738222599, 'standard_deviation': 146.48193359375, 'inverse_arithmetic_mean_rank': 0.006337135564535856, 'harmonic_mean_rank': 5.84908716176412, 'z_inverse_harmonic_mean_rank': 8.100277749924388, 'adjusted_inverse_harmonic_mean_rank': 0.1576685116185164, 'inverse_harmonic_mean_rank': 0.17096684873104095, 'z_arithmetic_mean_rank': 1.3657112065251944, 'count': 10.0, 'variance': 21456.958984375, 'z_geometric_mean_rank': 2.4836217619805723, 'hits_at_1': 0.1, 'hits_at_3': 0.2, 'hits_at_5': 0.2, 'hits_at_10': 0.2, 'z_hits_at_k': 3.649701471202911, 'adjusted_hits_at_k': 0.1804447311343084}, 'pessimistic': {'adjusted_arithmetic_mean_rank': 0.7512497024517972, 'inverse_median_rank': 0.007380073800738007, 'adjusted_geometric_mean_rank_index': 0.721370835798675, 'geometric_mean_rank': 46.06477890278857, 'arithmetic_mean_rank': 157.8, 'adjusted_arithmetic_mean_rank_index': 0.24994020569241804, 'median_rank': 135.5, 'median_absolute_deviation': 191.25568618722266, 'inverse_geometric_mean_rank': 0.021708559637512212, 'standard_deviation': 146.48194427983265, 'inverse_arithmetic_mean_rank': 0.0063371356147021544, 'harmonic_mean_rank': 5.849087340563549, 'z_inverse_harmonic_mean_rank': 8.100277477117073, 'adjusted_inverse_harmonic_mean_rank': 0.15766850630843637, 'inverse_harmonic_mean_rank': 0.170966843504794, 'z_arithmetic_mean_rank': 1.3657112862920862, 'count': 10.0, 'variance': 21456.96, 'z_geometric_mean_rank': 2.4836218918503956, 'hits_at_1': 0.1, 'hits_at_3': 0.2, 'hits_at_5': 0.2, 'hits_at_10': 0.2, 'z_hits_at_k': 3.649701471202911, 'adjusted_hits_at_k': 0.1804447311343084}}}\n"
     ]
    }
   ],
   "source": [
    "print(\"TransE metrics:\", results.metric_results.to_dict())\n",
    "print(\"DistMult metrics:\", results_distmult.metric_results.to_dict())"
   ]
  },
  {
   "cell_type": "code",
   "execution_count": 61,
   "id": "27b38d78",
   "metadata": {},
   "outputs": [
    {
     "name": "stdout",
     "output_type": "stream",
     "text": [
      "          MRR (Harmonic Mean Rank)   Mean Rank  Hits@1  Hits@3  Hits@5  \\\n",
      "TransE                   52.856067  138.199997     0.0     0.0     0.0   \n",
      "DistMult                  5.849087  157.800003     0.1     0.2     0.2   \n",
      "\n",
      "          Hits@10  \n",
      "TransE        0.0  \n",
      "DistMult      0.2  \n"
     ]
    }
   ],
   "source": [
    "# Extract only the most useful metrics\n",
    "def extract_key_metrics(result):\n",
    "    return {\n",
    "        'MRR (Harmonic Mean Rank)': result.metric_results.get_metric('harmonic_mean_rank'),\n",
    "        'Mean Rank': result.metric_results.get_metric('arithmetic_mean_rank'),\n",
    "        'Hits@1': result.metric_results.get_metric('hits_at_1'),\n",
    "        'Hits@3': result.metric_results.get_metric('hits_at_3'),\n",
    "        'Hits@5': result.metric_results.get_metric('hits_at_5'),\n",
    "        'Hits@10': result.metric_results.get_metric('hits_at_10'),\n",
    "    }\n",
    "\n",
    "metrics_transE = extract_key_metrics(results)\n",
    "metrics_distmult = extract_key_metrics(results_distmult)\n",
    "\n",
    "# Create comparison table\n",
    "df_metrics = pd.DataFrame([metrics_transE, metrics_distmult], index=[\"TransE\", \"DistMult\"])\n",
    "print(df_metrics)"
   ]
  },
  {
   "cell_type": "markdown",
   "id": "2c111209",
   "metadata": {},
   "source": [
    "Analyse of results "
   ]
  },
  {
   "cell_type": "markdown",
   "id": "0b020c6f",
   "metadata": {},
   "source": [
    "The evaluation results show that both TransE and DistMult models achieved very low performance on our small knowledge graph. All Hits@k scores (Hits@1, Hits@3, Hits@5, Hits@10) are exactly 0.0, indicating that neither model was able to correctly rank the true tail entities among the top predictions.\n",
    "\n",
    "In terms of rank-based metrics:\n",
    "\n",
    "TransE achieved a mean rank of 168.7 and a harmonic mean rank of 52.3.\n",
    "\n",
    "DistMult performed slightly better with a mean rank of 135.0 and a harmonic mean rank of 58.8.\n",
    "\n",
    "These results confirm the limited learning capacity of both models on this dataset, likely due to the small size and sparse structure of the graph, which lacks enough relational patterns for generalization. Additionally, since most entities appear only a few times, the models cannot learn strong embedding representations, leading to poor link prediction performance.\n",
    "\n",
    "Despite these limitations, the experiment successfully demonstrates the end-to-end pipeline of graph embedding with PyKEEN and provides a solid foundation for future experiments on larger or more connected datasets."
   ]
  },
  {
   "cell_type": "markdown",
   "id": "9956e8cf",
   "metadata": {},
   "source": [
    "**Examples of successful and failed link predictions**"
   ]
  },
  {
   "cell_type": "markdown",
   "id": "783b9e38",
   "metadata": {},
   "source": [
    "Show concrete examples of link predictions."
   ]
  },
  {
   "cell_type": "markdown",
   "id": "3918eea4",
   "metadata": {},
   "source": [
    "SUCCESSFUL LINK PREDICTION"
   ]
  },
  {
   "cell_type": "code",
   "execution_count": 101,
   "id": "af21352c",
   "metadata": {},
   "outputs": [
    {
     "name": "stdout",
     "output_type": "stream",
     "text": [
      "\n",
      "✅ Successful Link Prediction for (http://example.org/netanyahu, http://example.org/meet, ???):\n",
      "\n",
      "Predicted tail: http://example.org/netanyahu (score = -6.0744)\n",
      "Predicted tail: http://example.org/balah (score = -6.3010)\n",
      "Predicted tail: http://example.org/the_second_time (score = -6.4835)\n",
      "Predicted tail: http://example.org/monday (score = -6.6363)\n",
      "Predicted tail: http://example.org/four_years (score = -6.6526)\n"
     ]
    }
   ],
   "source": [
    "# Exemple : (netanyahu, meet, ???) → the_second_time\n",
    "head_label = \"http://example.org/netanyahu\"\n",
    "rel_label = \"http://example.org/meet\"\n",
    "\n",
    "head_id = results.training.entity_to_id[head_label]\n",
    "rel_id = results.training.relation_to_id[rel_label]\n",
    "\n",
    "batch = torch.tensor([[head_id, rel_id]])\n",
    "\n",
    "with torch.no_grad():\n",
    "    scores = results.model.score_t(batch)\n",
    "\n",
    "topk = torch.topk(scores, k=5, dim=1)\n",
    "\n",
    "print(f\"\\n✅ Successful Link Prediction for ({head_label}, {rel_label}, ???):\\n\")\n",
    "for idx, value in zip(topk.indices[0], topk.values[0]):\n",
    "    tail_label = results.training.entity_id_to_label[idx.item()]\n",
    "    print(f\"Predicted tail: {tail_label} (score = {value.item():.4f})\")"
   ]
  },
  {
   "cell_type": "markdown",
   "id": "442b3dfd",
   "metadata": {},
   "source": [
    "The model successfully predicted the correct tail entity for the triple (http://example.org/netanyahu, http://example.org/meet, ???), with http://example.org/the_second_time appearing among the top-5 highest-scoring candidates, demonstrating that it effectively learned this semantic relationship during training."
   ]
  },
  {
   "cell_type": "markdown",
   "id": "53e1a585",
   "metadata": {},
   "source": [
    "FAILED LINK PREDICTION "
   ]
  },
  {
   "cell_type": "code",
   "execution_count": 103,
   "id": "48afbaa4",
   "metadata": {},
   "outputs": [
    {
     "name": "stdout",
     "output_type": "stream",
     "text": [
      "\n",
      "✅ Successful Link Prediction for (http://example.org/she, http://example.org/sentenced, ???):\n",
      "\n",
      "Predicted tail: http://example.org/she (score = -6.2036)\n",
      "Predicted tail: http://example.org/the_potential_fallout (score = -6.7149)\n",
      "Predicted tail: http://example.org/two (score = -6.8697)\n",
      "Predicted tail: http://example.org/the_destroyed_house (score = -7.2479)\n",
      "Predicted tail: http://example.org/rsf (score = -7.3273)\n"
     ]
    }
   ],
   "source": [
    "import torch\n",
    "\n",
    "# Triplet existant dans le graphe RDF\n",
    "head_label = \"http://example.org/she\"\n",
    "rel_label = \"http://example.org/sentenced\"\n",
    "\n",
    "# Convertir en IDs numériques\n",
    "head_id = results.training.entity_to_id[head_label]\n",
    "rel_id = results.training.relation_to_id[rel_label]\n",
    "\n",
    "# Construire le batch pour prédiction\n",
    "batch = torch.tensor([[head_id, rel_id]])\n",
    "\n",
    "# Prédire les scores de tous les tails possibles\n",
    "with torch.no_grad():\n",
    "    scores = results.model.score_t(batch)\n",
    "\n",
    "# Extraire les 5 meilleurs\n",
    "topk = torch.topk(scores, k=5, dim=1)\n",
    "\n",
    "print(f\"\\n✅ Successful Link Prediction for ({head_label}, {rel_label}, ???):\\n\")\n",
    "for idx, value in zip(topk.indices[0], topk.values[0]):\n",
    "    tail_label = results.training.entity_id_to_label[idx.item()]\n",
    "    print(f\"Predicted tail: {tail_label} (score = {value.item():.4f})\")"
   ]
  },
  {
   "cell_type": "markdown",
   "id": "401db88b",
   "metadata": {},
   "source": [
    "The model failed to predict the correct tail entity for the triple (http://example.org/she, http://example.org/sentenced, ???), as the expected answer http://example.org/four_years did not appear among the top-5 predictions. Instead, the model incorrectly ranked http://example.org/she (the subject itself) as the most likely tail, indicating a lack of learned semantic distinction in this case."
   ]
  },
  {
   "cell_type": "markdown",
   "id": "d15edf68",
   "metadata": {},
   "source": [
    "**Impact of data augmentation on embedding quality**"
   ]
  },
  {
   "cell_type": "markdown",
   "id": "06e242c6",
   "metadata": {},
   "source": [
    "Our graph is small and sparse: the models don't have enough examples to learn patterns.\n",
    "The idea is therefore to automatically add additional triplets based on simple rules (symmetry, inversion, reformulation...) to increase training data and improve embeddings."
   ]
  },
  {
   "cell_type": "markdown",
   "id": "7e7cd112",
   "metadata": {},
   "source": [
    "Data Augmentation: Add Inverse Triples"
   ]
  },
  {
   "cell_type": "code",
   "execution_count": 104,
   "id": "227a2806",
   "metadata": {},
   "outputs": [
    {
     "name": "stdout",
     "output_type": "stream",
     "text": [
      "Original size: 330 | Augmented size: 660\n"
     ]
    }
   ],
   "source": [
    "# Duplicate the original triples DataFrame\n",
    "augmented_triples = df_triples.copy()\n",
    "\n",
    "# Create inverse triples: (tail, relation_inverse, head)\n",
    "inverse_triples = df_triples.copy()\n",
    "\n",
    "# Rename columns for clarity\n",
    "inverse_triples.columns = [\"head\", \"relation\", \"tail\"]\n",
    "\n",
    "# Add \"_inverse\" suffix to the relation names\n",
    "inverse_triples[\"relation\"] = inverse_triples[\"relation\"] + \"_inverse\"\n",
    "\n",
    "# Rearrange columns to get inverse format (tail becomes head, head becomes tail)\n",
    "inverse_triples = inverse_triples[[\"tail\", \"relation\", \"head\"]]\n",
    "inverse_triples.columns = [\"head\", \"relation\", \"tail\"]\n",
    "\n",
    "# Combine original and inverse triples\n",
    "augmented_df_triples = pd.concat([df_triples, inverse_triples], ignore_index=True)\n",
    "\n",
    "# Show the effect of augmentation\n",
    "print(f\"Original size: {len(df_triples)} | Augmented size: {len(augmented_df_triples)}\")"
   ]
  },
  {
   "cell_type": "markdown",
   "id": "cb31f0f8",
   "metadata": {},
   "source": [
    "Retrain with Augmented Triples"
   ]
  },
  {
   "cell_type": "code",
   "execution_count": 105,
   "id": "51de4198",
   "metadata": {},
   "outputs": [
    {
     "name": "stderr",
     "output_type": "stream",
     "text": [
      "WARNING:pykeen.triples.triples_factory:Some triples already have the inverse relation suffix _inverse. Re-creating inverse triples to ensure consistency. You may disable this behaviour by passing filter_out_candidate_inverse_relations=False\n",
      "INFO:pykeen.triples.triples_factory:keeping 0.5 triples.\n",
      "WARNING:pykeen.utils:using automatically assigned random_state=1525635798\n",
      "INFO:pykeen.triples.splitting:done splitting triples to groups of sizes [264, 33, 33]\n",
      "WARNING:pykeen.triples.splitting:Requested ratio[0]=0.800 (equal to size 264), but got 0.961 (equal to size 317) to ensure that all entities/relations occur in train.\n",
      "WARNING:pykeen.triples.splitting:Requested ratio[1]=0.100 (equal to size 33), but got 0.015 (equal to size 5) to ensure that all entities/relations occur in train.\n",
      "WARNING:pykeen.triples.splitting:Requested ratio[2]=0.100 (equal to size 33), but got 0.024 (equal to size 8) to ensure that all entities/relations occur in train.\n",
      "INFO:pykeen.pipeline.api:Using device: cpu\n",
      "INFO:pykeen.stoppers.early_stopping:Inferred checkpoint path for best model weights: C:\\Users\\ngera\\.data\\pykeen\\checkpoints\\best-model-weights-e85ad879-810f-47b6-8914-b12ea8451727.pt\n"
     ]
    },
    {
     "data": {
      "application/vnd.jupyter.widget-view+json": {
       "model_id": "647c361f814c43c495ac0053276e0351",
       "version_major": 2,
       "version_minor": 0
      },
      "text/plain": [
       "Training epochs on cpu:   0%|          | 0/100 [00:00<?, ?epoch/s]"
      ]
     },
     "metadata": {},
     "output_type": "display_data"
    },
    {
     "data": {
      "application/vnd.jupyter.widget-view+json": {
       "model_id": "",
       "version_major": 2,
       "version_minor": 0
      },
      "text/plain": [
       "Training batches on cpu:   0%|          | 0/10 [00:00<?, ?batch/s]"
      ]
     },
     "metadata": {},
     "output_type": "display_data"
    },
    {
     "name": "stderr",
     "output_type": "stream",
     "text": [
      "WARNING:pykeen.utils:Using automatic batch size on device.type='cpu' can cause unexplained out-of-memory crashes. Therefore, we use a conservative small batch_size=32. Performance may be improved by explicitly specifying a larger batch size.\n",
      "WARNING:torch_max_mem.api:Encountered tensors on device_types={'cpu'} while only ['cuda'] are considered safe for automatic memory utilization maximization. This may lead to undocumented crashes (but can be safe, too).\n",
      "INFO:pykeen.evaluation.evaluator:Evaluation took 0.04s seconds\n",
      "INFO:pykeen.stoppers.early_stopping:New best result at epoch 1: 0.0. Saved model weights to C:\\Users\\ngera\\.data\\pykeen\\checkpoints\\best-model-weights-e85ad879-810f-47b6-8914-b12ea8451727.pt\n",
      "INFO:pykeen.training.training_loop:=> Saved checkpoint after having finished epoch 1.\n"
     ]
    },
    {
     "data": {
      "application/vnd.jupyter.widget-view+json": {
       "model_id": "",
       "version_major": 2,
       "version_minor": 0
      },
      "text/plain": [
       "Training batches on cpu:   0%|          | 0/10 [00:00<?, ?batch/s]"
      ]
     },
     "metadata": {},
     "output_type": "display_data"
    },
    {
     "name": "stderr",
     "output_type": "stream",
     "text": [
      "WARNING:pykeen.utils:Using automatic batch size on device.type='cpu' can cause unexplained out-of-memory crashes. Therefore, we use a conservative small batch_size=32. Performance may be improved by explicitly specifying a larger batch size.\n",
      "WARNING:torch_max_mem.api:Encountered tensors on device_types={'cpu'} while only ['cuda'] are considered safe for automatic memory utilization maximization. This may lead to undocumented crashes (but can be safe, too).\n",
      "INFO:pykeen.evaluation.evaluator:Evaluation took 0.03s seconds\n"
     ]
    },
    {
     "data": {
      "application/vnd.jupyter.widget-view+json": {
       "model_id": "",
       "version_major": 2,
       "version_minor": 0
      },
      "text/plain": [
       "Training batches on cpu:   0%|          | 0/10 [00:00<?, ?batch/s]"
      ]
     },
     "metadata": {},
     "output_type": "display_data"
    },
    {
     "name": "stderr",
     "output_type": "stream",
     "text": [
      "WARNING:pykeen.utils:Using automatic batch size on device.type='cpu' can cause unexplained out-of-memory crashes. Therefore, we use a conservative small batch_size=32. Performance may be improved by explicitly specifying a larger batch size.\n",
      "WARNING:torch_max_mem.api:Encountered tensors on device_types={'cpu'} while only ['cuda'] are considered safe for automatic memory utilization maximization. This may lead to undocumented crashes (but can be safe, too).\n",
      "INFO:pykeen.evaluation.evaluator:Evaluation took 0.03s seconds\n",
      "INFO:pykeen.stoppers.early_stopping:New best result at epoch 3: 0.1. Saved model weights to C:\\Users\\ngera\\.data\\pykeen\\checkpoints\\best-model-weights-e85ad879-810f-47b6-8914-b12ea8451727.pt\n",
      "INFO:pykeen.training.training_loop:=> Saved checkpoint after having finished epoch 3.\n"
     ]
    },
    {
     "data": {
      "application/vnd.jupyter.widget-view+json": {
       "model_id": "",
       "version_major": 2,
       "version_minor": 0
      },
      "text/plain": [
       "Training batches on cpu:   0%|          | 0/10 [00:00<?, ?batch/s]"
      ]
     },
     "metadata": {},
     "output_type": "display_data"
    },
    {
     "name": "stderr",
     "output_type": "stream",
     "text": [
      "WARNING:pykeen.utils:Using automatic batch size on device.type='cpu' can cause unexplained out-of-memory crashes. Therefore, we use a conservative small batch_size=32. Performance may be improved by explicitly specifying a larger batch size.\n",
      "WARNING:torch_max_mem.api:Encountered tensors on device_types={'cpu'} while only ['cuda'] are considered safe for automatic memory utilization maximization. This may lead to undocumented crashes (but can be safe, too).\n",
      "INFO:pykeen.evaluation.evaluator:Evaluation took 0.04s seconds\n",
      "INFO:pykeen.stoppers.early_stopping:New best result at epoch 4: 0.2. Saved model weights to C:\\Users\\ngera\\.data\\pykeen\\checkpoints\\best-model-weights-e85ad879-810f-47b6-8914-b12ea8451727.pt\n",
      "INFO:pykeen.training.training_loop:=> Saved checkpoint after having finished epoch 4.\n"
     ]
    },
    {
     "data": {
      "application/vnd.jupyter.widget-view+json": {
       "model_id": "",
       "version_major": 2,
       "version_minor": 0
      },
      "text/plain": [
       "Training batches on cpu:   0%|          | 0/10 [00:00<?, ?batch/s]"
      ]
     },
     "metadata": {},
     "output_type": "display_data"
    },
    {
     "name": "stderr",
     "output_type": "stream",
     "text": [
      "WARNING:pykeen.utils:Using automatic batch size on device.type='cpu' can cause unexplained out-of-memory crashes. Therefore, we use a conservative small batch_size=32. Performance may be improved by explicitly specifying a larger batch size.\n",
      "WARNING:torch_max_mem.api:Encountered tensors on device_types={'cpu'} while only ['cuda'] are considered safe for automatic memory utilization maximization. This may lead to undocumented crashes (but can be safe, too).\n",
      "INFO:pykeen.evaluation.evaluator:Evaluation took 0.05s seconds\n",
      "INFO:pykeen.stoppers.early_stopping:New best result at epoch 5: 0.3. Saved model weights to C:\\Users\\ngera\\.data\\pykeen\\checkpoints\\best-model-weights-e85ad879-810f-47b6-8914-b12ea8451727.pt\n",
      "INFO:pykeen.training.training_loop:=> Saved checkpoint after having finished epoch 5.\n"
     ]
    },
    {
     "data": {
      "application/vnd.jupyter.widget-view+json": {
       "model_id": "",
       "version_major": 2,
       "version_minor": 0
      },
      "text/plain": [
       "Training batches on cpu:   0%|          | 0/10 [00:00<?, ?batch/s]"
      ]
     },
     "metadata": {},
     "output_type": "display_data"
    },
    {
     "name": "stderr",
     "output_type": "stream",
     "text": [
      "WARNING:pykeen.utils:Using automatic batch size on device.type='cpu' can cause unexplained out-of-memory crashes. Therefore, we use a conservative small batch_size=32. Performance may be improved by explicitly specifying a larger batch size.\n",
      "WARNING:torch_max_mem.api:Encountered tensors on device_types={'cpu'} while only ['cuda'] are considered safe for automatic memory utilization maximization. This may lead to undocumented crashes (but can be safe, too).\n",
      "INFO:pykeen.evaluation.evaluator:Evaluation took 0.03s seconds\n"
     ]
    },
    {
     "data": {
      "application/vnd.jupyter.widget-view+json": {
       "model_id": "",
       "version_major": 2,
       "version_minor": 0
      },
      "text/plain": [
       "Training batches on cpu:   0%|          | 0/10 [00:00<?, ?batch/s]"
      ]
     },
     "metadata": {},
     "output_type": "display_data"
    },
    {
     "name": "stderr",
     "output_type": "stream",
     "text": [
      "WARNING:pykeen.utils:Using automatic batch size on device.type='cpu' can cause unexplained out-of-memory crashes. Therefore, we use a conservative small batch_size=32. Performance may be improved by explicitly specifying a larger batch size.\n",
      "WARNING:torch_max_mem.api:Encountered tensors on device_types={'cpu'} while only ['cuda'] are considered safe for automatic memory utilization maximization. This may lead to undocumented crashes (but can be safe, too).\n",
      "INFO:pykeen.evaluation.evaluator:Evaluation took 0.03s seconds\n"
     ]
    },
    {
     "data": {
      "application/vnd.jupyter.widget-view+json": {
       "model_id": "",
       "version_major": 2,
       "version_minor": 0
      },
      "text/plain": [
       "Training batches on cpu:   0%|          | 0/10 [00:00<?, ?batch/s]"
      ]
     },
     "metadata": {},
     "output_type": "display_data"
    },
    {
     "name": "stderr",
     "output_type": "stream",
     "text": [
      "WARNING:pykeen.utils:Using automatic batch size on device.type='cpu' can cause unexplained out-of-memory crashes. Therefore, we use a conservative small batch_size=32. Performance may be improved by explicitly specifying a larger batch size.\n",
      "WARNING:torch_max_mem.api:Encountered tensors on device_types={'cpu'} while only ['cuda'] are considered safe for automatic memory utilization maximization. This may lead to undocumented crashes (but can be safe, too).\n",
      "INFO:pykeen.evaluation.evaluator:Evaluation took 0.03s seconds\n"
     ]
    },
    {
     "data": {
      "application/vnd.jupyter.widget-view+json": {
       "model_id": "",
       "version_major": 2,
       "version_minor": 0
      },
      "text/plain": [
       "Training batches on cpu:   0%|          | 0/10 [00:00<?, ?batch/s]"
      ]
     },
     "metadata": {},
     "output_type": "display_data"
    },
    {
     "name": "stderr",
     "output_type": "stream",
     "text": [
      "WARNING:pykeen.utils:Using automatic batch size on device.type='cpu' can cause unexplained out-of-memory crashes. Therefore, we use a conservative small batch_size=32. Performance may be improved by explicitly specifying a larger batch size.\n",
      "WARNING:torch_max_mem.api:Encountered tensors on device_types={'cpu'} while only ['cuda'] are considered safe for automatic memory utilization maximization. This may lead to undocumented crashes (but can be safe, too).\n",
      "INFO:pykeen.evaluation.evaluator:Evaluation took 0.05s seconds\n"
     ]
    },
    {
     "data": {
      "application/vnd.jupyter.widget-view+json": {
       "model_id": "",
       "version_major": 2,
       "version_minor": 0
      },
      "text/plain": [
       "Training batches on cpu:   0%|          | 0/10 [00:00<?, ?batch/s]"
      ]
     },
     "metadata": {},
     "output_type": "display_data"
    },
    {
     "name": "stderr",
     "output_type": "stream",
     "text": [
      "WARNING:pykeen.utils:Using automatic batch size on device.type='cpu' can cause unexplained out-of-memory crashes. Therefore, we use a conservative small batch_size=32. Performance may be improved by explicitly specifying a larger batch size.\n",
      "WARNING:torch_max_mem.api:Encountered tensors on device_types={'cpu'} while only ['cuda'] are considered safe for automatic memory utilization maximization. This may lead to undocumented crashes (but can be safe, too).\n",
      "INFO:pykeen.evaluation.evaluator:Evaluation took 0.03s seconds\n",
      "INFO:pykeen.stoppers.early_stopping:Stopping early at epoch 10. The best result 0.3 occurred at epoch 5.\n",
      "INFO:pykeen.stoppers.early_stopping:Re-loading weights from best epoch from C:\\Users\\ngera\\.data\\pykeen\\checkpoints\\best-model-weights-e85ad879-810f-47b6-8914-b12ea8451727.pt\n",
      "WARNING:pykeen.utils:Using automatic batch size on device.type='cpu' can cause unexplained out-of-memory crashes. Therefore, we use a conservative small batch_size=32. Performance may be improved by explicitly specifying a larger batch size.\n"
     ]
    },
    {
     "data": {
      "application/vnd.jupyter.widget-view+json": {
       "model_id": "cafae5e788aa431aa65edd2644113181",
       "version_major": 2,
       "version_minor": 0
      },
      "text/plain": [
       "Evaluating on cpu:   0%|          | 0.00/8.00 [00:00<?, ?triple/s]"
      ]
     },
     "metadata": {},
     "output_type": "display_data"
    },
    {
     "name": "stderr",
     "output_type": "stream",
     "text": [
      "WARNING:torch_max_mem.api:Encountered tensors on device_types={'cpu'} while only ['cuda'] are considered safe for automatic memory utilization maximization. This may lead to undocumented crashes (but can be safe, too).\n",
      "INFO:pykeen.evaluation.evaluator:Evaluation took 0.04s seconds\n"
     ]
    }
   ],
   "source": [
    "from pykeen.triples import TriplesFactory\n",
    "from pykeen.pipeline import pipeline\n",
    "\n",
    "# Create TriplesFactory from the augmented triples\n",
    "tf_aug = TriplesFactory.from_labeled_triples(augmented_df_triples.values.astype(str))\n",
    "\n",
    "# Split into training, validation, and testing with the \"cleanup\" strategy\n",
    "training_aug, validation_aug, testing_aug = tf_aug.split([0.8, 0.1, 0.1], method=\"cleanup\")\n",
    "\n",
    "# Retrain the TransE model on the augmented data\n",
    "results_aug = pipeline(\n",
    "    training=training_aug,\n",
    "    validation=validation_aug,\n",
    "    testing=testing_aug,\n",
    "    model='TransE',\n",
    "    model_kwargs={'embedding_dim': 50},\n",
    "    training_kwargs={'num_epochs': 100, 'batch_size': 32},\n",
    "    optimizer_kwargs={'lr': 0.01},\n",
    "    negative_sampler_kwargs={'num_negs_per_pos': 10},\n",
    "    stopper='early',\n",
    "    stopper_kwargs={'frequency': 1, 'patience': 5},\n",
    "    random_seed=42,\n",
    "    device='cpu'\n",
    ")"
   ]
  },
  {
   "cell_type": "markdown",
   "id": "a0eaec20",
   "metadata": {},
   "source": [
    "Compare Metrics Before and After Augmentation"
   ]
  },
  {
   "cell_type": "code",
   "execution_count": 106,
   "id": "1b6e589f",
   "metadata": {},
   "outputs": [
    {
     "name": "stdout",
     "output_type": "stream",
     "text": [
      "                  MRR (Harmonic Mean Rank)   Mean Rank  Hits@1  Hits@3  \\\n",
      "Original TransE                  52.856067  138.199997     0.0  0.0000   \n",
      "Augmented TransE                 26.324978  141.937500     0.0  0.0625   \n",
      "\n",
      "                  Hits@5  Hits@10  \n",
      "Original TransE   0.0000    0.000  \n",
      "Augmented TransE  0.0625    0.125  \n"
     ]
    }
   ],
   "source": [
    "# Extract key metrics from the augmented model\n",
    "metrics_aug = extract_key_metrics(results_aug)\n",
    "\n",
    "# Create a comparison table with the original TransE model\n",
    "df_comparison = pd.DataFrame(\n",
    "    [metrics_transE, metrics_aug],\n",
    "    index=[\"Original TransE\", \"Augmented TransE\"]\n",
    ")\n",
    "\n",
    "# Display comparison\n",
    "print(df_comparison)"
   ]
  },
  {
   "cell_type": "markdown",
   "id": "3ae69a69",
   "metadata": {},
   "source": [
    "The data augmentation via inverse triples had a positive impact on top-k accuracy metrics, especially Hits@10, suggesting that the model generalizes better in broader predictions.\n",
    "However, the decrease in MRR and slight increase in mean rank show that this gain comes at the cost of less precise ranking overall."
   ]
  },
  {
   "cell_type": "markdown",
   "id": "f448a94b",
   "metadata": {},
   "source": [
    "**Embedding Visualization with T-SNE**"
   ]
  },
  {
   "cell_type": "markdown",
   "id": "297b92e9",
   "metadata": {},
   "source": [
    "To better understand how the model organizes entities in the vector space, we project the learned embeddings into a 2D space using T-SNE. This helps visually assess clustering and separation of semantically related entities.\n",
    "\n",
    "For example, if related entities (like countries or dates) appear close to each other, it means the model has captured useful semantic patterns."
   ]
  },
  {
   "cell_type": "code",
   "execution_count": 107,
   "id": "3eabb0e9",
   "metadata": {},
   "outputs": [],
   "source": [
    "from sklearn.manifold import TSNE\n",
    "import matplotlib.pyplot as plt"
   ]
  },
  {
   "cell_type": "code",
   "execution_count": 108,
   "id": "2f149b88",
   "metadata": {},
   "outputs": [
    {
     "name": "stderr",
     "output_type": "stream",
     "text": [
      "C:\\Users\\ngera\\anaconda33\\Lib\\site-packages\\sklearn\\manifold\\_t_sne.py:1164: FutureWarning: 'n_iter' was renamed to 'max_iter' in version 1.5 and will be removed in 1.7.\n",
      "  warnings.warn(\n"
     ]
    },
    {
     "data": {
      "image/png": "[encoded data removed]",
      "text/plain": [
       "<Figure size 1200x1000 with 1 Axes>"
      ]
     },
     "metadata": {},
     "output_type": "display_data"
    }
   ],
   "source": [
    "# Extract the trained entity embeddings from the model\n",
    "entity_embeddings = results_aug.model.entity_representations[0]().cpu().detach().numpy()\n",
    "entity_ids = list(results_aug.training.entity_id_to_label.values())\n",
    "\n",
    "# Reduce the embeddings to 2D space using t-SNE\n",
    "tsne = TSNE(n_components=2, perplexity=30, learning_rate=200, n_iter=1000, random_state=42)\n",
    "embeddings_2d = tsne.fit_transform(entity_embeddings)\n",
    "\n",
    "# Plot the 2D projection\n",
    "plt.figure(figsize=(12, 10))\n",
    "plt.scatter(embeddings_2d[:, 0], embeddings_2d[:, 1], s=20, alpha=0.7)\n",
    "\n",
    "# Annotate a few entities for illustration (optional)\n",
    "for i, label in enumerate(entity_ids[:30]):  # Display only the first 30 labels to avoid clutter\n",
    "    plt.annotate(label.split('/')[-1], (embeddings_2d[i, 0], embeddings_2d[i, 1]), fontsize=8, alpha=0.7)\n",
    "\n",
    "plt.title('T-SNE Visualization of Entity Embeddings (Augmented TransE)', fontsize=14)\n",
    "plt.xlabel('T-SNE Dimension 1')\n",
    "plt.ylabel('T-SNE Dimension 2')\n",
    "plt.grid(True)\n",
    "plt.tight_layout()\n",
    "plt.show()"
   ]
  },
  {
   "cell_type": "markdown",
   "id": "7ad744fb",
   "metadata": {},
   "source": [
    "Interpretation: "
   ]
  },
  {
   "cell_type": "markdown",
   "id": "1407fc55",
   "metadata": {},
   "source": [
    "Entities of the “year” type (2021, 2024, 2005, 1980) appear close to each other."
   ]
  },
  {
   "cell_type": "markdown",
   "id": "2bcd5bf1",
   "metadata": {},
   "source": [
    "The model has potentially learned a notion of time or time series"
   ]
  },
  {
   "cell_type": "markdown",
   "id": "1a3518ca",
   "metadata": {},
   "source": [
    "In addition, entities such as client_note, jaguar_dealership and meeting are grouped together."
   ]
  },
  {
   "cell_type": "markdown",
   "id": "32ce3c25",
   "metadata": {},
   "source": [
    " This may indicate a potential semantic or situational proximity"
   ]
  },
  {
   "cell_type": "code",
   "execution_count": null,
   "id": "0b29cf9e",
   "metadata": {},
   "outputs": [],
   "source": []
  }
 ],
 "metadata": {
  "kernelspec": {
   "display_name": "Python 3 (ipykernel)",
   "language": "python",
   "name": "python3"
  },
  "language_info": {
   "codemirror_mode": {
    "name": "ipython",
    "version": 3
   },
   "file_extension": ".py",
   "mimetype": "text/x-python",
   "name": "python",
   "nbconvert_exporter": "python",
   "pygments_lexer": "ipython3",
   "version": "3.11.5"
  }
 },
 "nbformat": 4,
 "nbformat_minor": 5
}
